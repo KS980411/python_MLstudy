{
 "cells": [
  {
   "cell_type": "markdown",
   "id": "ad1d1330",
   "metadata": {},
   "source": [
    "# 100 numpy exercises\n",
    "\n",
    "This is a collection of exercises that have been collected in the numpy mailing list, on stack overflow\n",
    "and in the numpy documentation. The goal of this collection is to offer a quick reference for both old\n",
    "and new users but also to provide a set of exercises for those who teach.\n",
    "\n",
    "\n",
    "If you find an error or think you've a better way to solve some of them, feel\n",
    "free to open an issue at <https://github.com/rougier/numpy-100>."
   ]
  },
  {
   "cell_type": "markdown",
   "id": "1d620162",
   "metadata": {},
   "source": [
    "File automatically generated. See the documentation to update questions/answers/hints programmatically."
   ]
  },
  {
   "cell_type": "markdown",
   "id": "8574d627",
   "metadata": {},
   "source": [
    "Run the `initialize.py` module, then for each question you can query the\n",
    "answer or an hint with `hint(n)` or `answer(n)` for `n` question number."
   ]
  },
  {
   "cell_type": "code",
   "execution_count": null,
   "id": "c6fe8a29",
   "metadata": {},
   "outputs": [],
   "source": [
    "%run initialise.py"
   ]
  },
  {
   "cell_type": "markdown",
   "id": "954c5d8f",
   "metadata": {},
   "source": [
    "#### 1. Import the numpy package under the name `np` (★☆☆)"
   ]
  },
  {
   "cell_type": "code",
   "execution_count": 2,
   "id": "4006c08e",
   "metadata": {},
   "outputs": [],
   "source": [
    "import numpy as np"
   ]
  },
  {
   "cell_type": "markdown",
   "id": "fb267f7d",
   "metadata": {},
   "source": [
    "설명 생략"
   ]
  },
  {
   "cell_type": "markdown",
   "id": "88e34f09",
   "metadata": {},
   "source": [
    "#### 2. Print the numpy version and the configuration (★☆☆)"
   ]
  },
  {
   "cell_type": "code",
   "execution_count": 3,
   "id": "b1122a25",
   "metadata": {
    "scrolled": true
   },
   "outputs": [
    {
     "name": "stdout",
     "output_type": "stream",
     "text": [
      "<module 'numpy.version' from '/Users/choeunsol/opt/anaconda3/lib/python3.9/site-packages/numpy/version.py'>\n"
     ]
    }
   ],
   "source": [
    "print(np.version)"
   ]
  },
  {
   "cell_type": "markdown",
   "id": "3295ba03",
   "metadata": {},
   "source": [
    "version을 인수로 넣으면 버전 상태를 확인할 수 있다."
   ]
  },
  {
   "cell_type": "markdown",
   "id": "37c21848",
   "metadata": {},
   "source": [
    "#### 3. Create a null vector of size 10 (★☆☆)"
   ]
  },
  {
   "cell_type": "code",
   "execution_count": 6,
   "id": "e090a462",
   "metadata": {},
   "outputs": [
    {
     "name": "stdout",
     "output_type": "stream",
     "text": [
      "[0. 0. 0. 0. 0. 0. 0. 0. 0. 0.]\n"
     ]
    }
   ],
   "source": [
    "print(np.zeros(10))"
   ]
  },
  {
   "cell_type": "markdown",
   "id": "7c0e6add",
   "metadata": {},
   "source": [
    "#### 4. How to find the memory size of any array (★☆☆)"
   ]
  },
  {
   "cell_type": "code",
   "execution_count": 6,
   "id": "8c96715d",
   "metadata": {},
   "outputs": [
    {
     "data": {
      "text/plain": [
       "80"
      ]
     },
     "execution_count": 6,
     "metadata": {},
     "output_type": "execute_result"
    }
   ],
   "source": [
    "x = np.zeros(10)\n",
    "x.nbytes"
   ]
  },
  {
   "cell_type": "code",
   "execution_count": 7,
   "id": "0ba604a7",
   "metadata": {},
   "outputs": [
    {
     "data": {
      "text/plain": [
       "80"
      ]
     },
     "execution_count": 7,
     "metadata": {},
     "output_type": "execute_result"
    }
   ],
   "source": [
    "# 정답\n",
    "x.itemsize * x.size"
   ]
  },
  {
   "cell_type": "markdown",
   "id": "3c7c3fd2",
   "metadata": {},
   "source": [
    "nbytes라는 옵션이 있는데 왜 memory size를 저렇게 출력했는지는 모르겠음.\n",
    "\n",
    "memory size는 itemsize와 size의 곱으로 정의된다."
   ]
  },
  {
   "cell_type": "markdown",
   "id": "4cf547db",
   "metadata": {},
   "source": [
    "#### 5. How to get the documentation of the numpy add function from the command line? (★☆☆)"
   ]
  },
  {
   "cell_type": "code",
   "execution_count": 12,
   "id": "2a24a1e9",
   "metadata": {},
   "outputs": [
    {
     "name": "stdout",
     "output_type": "stream",
     "text": [
      "add(x1, x2, /, out=None, *, where=True, casting='same_kind', order='K', dtype=None, subok=True[, signature, extobj])\n",
      "\n",
      "Add arguments element-wise.\n",
      "\n",
      "Parameters\n",
      "----------\n",
      "x1, x2 : array_like\n",
      "    The arrays to be added.\n",
      "    If ``x1.shape != x2.shape``, they must be broadcastable to a common\n",
      "    shape (which becomes the shape of the output).\n",
      "out : ndarray, None, or tuple of ndarray and None, optional\n",
      "    A location into which the result is stored. If provided, it must have\n",
      "    a shape that the inputs broadcast to. If not provided or None,\n",
      "    a freshly-allocated array is returned. A tuple (possible only as a\n",
      "    keyword argument) must have length equal to the number of outputs.\n",
      "where : array_like, optional\n",
      "    This condition is broadcast over the input. At locations where the\n",
      "    condition is True, the `out` array will be set to the ufunc result.\n",
      "    Elsewhere, the `out` array will retain its original value.\n",
      "    Note that if an uninitialized `out` array is created via the default\n",
      "    ``out=None``, locations within it where the condition is False will\n",
      "    remain uninitialized.\n",
      "**kwargs\n",
      "    For other keyword-only arguments, see the\n",
      "    :ref:`ufunc docs <ufuncs.kwargs>`.\n",
      "\n",
      "Returns\n",
      "-------\n",
      "add : ndarray or scalar\n",
      "    The sum of `x1` and `x2`, element-wise.\n",
      "    This is a scalar if both `x1` and `x2` are scalars.\n",
      "\n",
      "Notes\n",
      "-----\n",
      "Equivalent to `x1` + `x2` in terms of array broadcasting.\n",
      "\n",
      "Examples\n",
      "--------\n",
      ">>> np.add(1.0, 4.0)\n",
      "5.0\n",
      ">>> x1 = np.arange(9.0).reshape((3, 3))\n",
      ">>> x2 = np.arange(3.0)\n",
      ">>> np.add(x1, x2)\n",
      "array([[  0.,   2.,   4.],\n",
      "       [  3.,   5.,   7.],\n",
      "       [  6.,   8.,  10.]])\n",
      "\n",
      "The ``+`` operator can be used as a shorthand for ``np.add`` on ndarrays.\n",
      "\n",
      ">>> x1 = np.arange(9.0).reshape((3, 3))\n",
      ">>> x2 = np.arange(3.0)\n",
      ">>> x1 + x2\n",
      "array([[ 0.,  2.,  4.],\n",
      "       [ 3.,  5.,  7.],\n",
      "       [ 6.,  8., 10.]])\n"
     ]
    }
   ],
   "source": [
    "import numpy\n",
    "numpy.info(numpy.add)"
   ]
  },
  {
   "cell_type": "markdown",
   "id": "1fa4f259",
   "metadata": {},
   "source": [
    "numpy.info를 통해 출력할 수 있다.\n",
    "\n",
    "R의 ?function과 비슷하게 출력되므로(인수, 예시까지) 인수가 기억이 안나거나 예시를 확인하고 싶으면 이 함수에 익숙해지는 것이 좋다.\n",
    "\n",
    "스파이더에서 함수를 입력하면 인수 정보가 나오지만, 주피터 노트북에서는 나오지 않기 때문에 궁금하면 info에 정보를 넣어보자."
   ]
  },
  {
   "cell_type": "markdown",
   "id": "bf6679c3",
   "metadata": {},
   "source": [
    "#### 6. Create a null vector of size 10 but the fifth value which is 1 (★☆☆)"
   ]
  },
  {
   "cell_type": "code",
   "execution_count": 13,
   "id": "f4cd59b6",
   "metadata": {},
   "outputs": [
    {
     "name": "stdout",
     "output_type": "stream",
     "text": [
      "[0. 0. 0. 0. 1. 0. 0. 0. 0. 0.]\n"
     ]
    }
   ],
   "source": [
    "x = np.zeros(10)\n",
    "x[4] = 1\n",
    "print(x)"
   ]
  },
  {
   "cell_type": "markdown",
   "id": "865df4c1",
   "metadata": {},
   "source": [
    "numpy에서는 보다 더 효율적인 인덱싱이 가능하다. 원소의 번호를 slicing해서 원소를 넣어주면 바로 대체된다."
   ]
  },
  {
   "cell_type": "code",
   "execution_count": 14,
   "id": "db5fa7bb",
   "metadata": {
    "scrolled": true
   },
   "outputs": [
    {
     "name": "stdout",
     "output_type": "stream",
     "text": [
      "[0, 1, 0, 0]\n"
     ]
    }
   ],
   "source": [
    "x_test = [0, 0, 0, 0]\n",
    "x_test[1] = 1\n",
    "print(x_test)"
   ]
  },
  {
   "cell_type": "markdown",
   "id": "5d5620af",
   "metadata": {},
   "source": [
    "이와 같은 작업은 리스트에서도 가능하다."
   ]
  },
  {
   "cell_type": "markdown",
   "id": "022451fb",
   "metadata": {},
   "source": [
    "#### 7. Create a vector with values ranging from 10 to 49 (★☆☆)"
   ]
  },
  {
   "cell_type": "code",
   "execution_count": 11,
   "id": "22c2f0a8",
   "metadata": {},
   "outputs": [
    {
     "data": {
      "text/plain": [
       "array([10, 11, 12, 13, 14, 15, 16, 17, 18, 19, 20, 21, 22, 23, 24, 25, 26,\n",
       "       27, 28, 29, 30, 31, 32, 33, 34, 35, 36, 37, 38, 39, 40, 41, 42, 43,\n",
       "       44, 45, 46, 47, 48, 49])"
      ]
     },
     "execution_count": 11,
     "metadata": {},
     "output_type": "execute_result"
    }
   ],
   "source": [
    "np.arange(10, 50)"
   ]
  },
  {
   "cell_type": "markdown",
   "id": "918b1270",
   "metadata": {},
   "source": [
    "np.arange는 매우 유용하게 쓰이는 함수이다.\n",
    "\n",
    "np.arange(시작, 끝, step)을 지정하면 np.array를 출력해준다.\n",
    "\n",
    "다만 리스트를 인덱싱할 때 np.array로 인덱싱하려면 오류가 생기니 참고바람."
   ]
  },
  {
   "cell_type": "markdown",
   "id": "aca8f6ee",
   "metadata": {},
   "source": [
    "#### 8. Reverse a vector (first element becomes last) (★☆☆)"
   ]
  },
  {
   "cell_type": "code",
   "execution_count": 16,
   "id": "1a8cd63f",
   "metadata": {},
   "outputs": [
    {
     "data": {
      "text/plain": [
       "array([49, 48, 47, 46, 45, 44, 43, 42, 41, 40, 39, 38, 37, 36, 35, 34, 33,\n",
       "       32, 31, 30, 29, 28, 27, 26, 25, 24, 23, 22, 21, 20, 19, 18, 17, 16,\n",
       "       15, 14, 13, 12, 11, 10])"
      ]
     },
     "execution_count": 16,
     "metadata": {},
     "output_type": "execute_result"
    }
   ],
   "source": [
    "p8 = np.arange(10, 50)\n",
    "p8[::-1]"
   ]
  },
  {
   "cell_type": "code",
   "execution_count": 17,
   "id": "bdf94923",
   "metadata": {
    "scrolled": true
   },
   "outputs": [
    {
     "data": {
      "text/plain": [
       "array([49, 48, 47, 46, 45, 44, 43, 42, 41, 40, 39, 38, 37, 36, 35, 34, 33,\n",
       "       32, 31, 30, 29, 28, 27, 26, 25, 24, 23, 22, 21, 20, 19, 18, 17, 16,\n",
       "       15, 14, 13, 12, 11, 10])"
      ]
     },
     "execution_count": 17,
     "metadata": {},
     "output_type": "execute_result"
    }
   ],
   "source": [
    "# 다른 답\n",
    "np.flip(p8)"
   ]
  },
  {
   "cell_type": "markdown",
   "id": "2049a6f8",
   "metadata": {},
   "source": [
    "벡터를 뒤집기 위해서는 [::-1]으로 슬라이싱하거나 np.flip() 함수를 이용한다.\n",
    "\n",
    "flip이 뒤집다라는 의미니 뒤집다라고 생각하자."
   ]
  },
  {
   "cell_type": "markdown",
   "id": "97bfddd4",
   "metadata": {},
   "source": [
    "#### 9. Create a 3x3 matrix with values ranging from 0 to 8 (★☆☆)"
   ]
  },
  {
   "cell_type": "code",
   "execution_count": 16,
   "id": "8b93d83c",
   "metadata": {
    "scrolled": true
   },
   "outputs": [
    {
     "data": {
      "text/plain": [
       "array([[0, 1, 2],\n",
       "       [3, 4, 5],\n",
       "       [6, 7, 8]])"
      ]
     },
     "execution_count": 16,
     "metadata": {},
     "output_type": "execute_result"
    }
   ],
   "source": [
    "raw = np.arange(0, 9)\n",
    "raw.reshape(3, 3)"
   ]
  },
  {
   "cell_type": "markdown",
   "id": "e85a1d63",
   "metadata": {},
   "source": [
    "간단하게 형성할때부터\n",
    "    raw.reshape(3,3)이라 해도 된다."
   ]
  },
  {
   "cell_type": "markdown",
   "id": "a073dad0",
   "metadata": {},
   "source": [
    "#### 10. Find indices of non-zero elements from [1,2,0,0,4,0] (★☆☆)"
   ]
  },
  {
   "cell_type": "code",
   "execution_count": 18,
   "id": "c21fb91c",
   "metadata": {
    "scrolled": true
   },
   "outputs": [
    {
     "data": {
      "text/plain": [
       "(array([0, 1, 4]),)"
      ]
     },
     "execution_count": 18,
     "metadata": {},
     "output_type": "execute_result"
    }
   ],
   "source": [
    "index = np.array([1,2,0,0,4,0])\n",
    "np.where(index != 0)"
   ]
  },
  {
   "cell_type": "markdown",
   "id": "ebee1ed3",
   "metadata": {},
   "source": [
    "index에서 0이 아닌 것들을 추출한다.\n",
    "\n",
    "출력은 np.array로 된다."
   ]
  },
  {
   "cell_type": "markdown",
   "id": "82b9a7a0",
   "metadata": {},
   "source": [
    "#### 11. Create a 3x3 identity matrix (★☆☆)"
   ]
  },
  {
   "cell_type": "code",
   "execution_count": 54,
   "id": "7ce1325a",
   "metadata": {},
   "outputs": [
    {
     "data": {
      "text/plain": [
       "array([[1., 0., 0.],\n",
       "       [0., 1., 0.],\n",
       "       [0., 0., 1.]])"
      ]
     },
     "execution_count": 54,
     "metadata": {},
     "output_type": "execute_result"
    }
   ],
   "source": [
    "im = np.zeros(9)\n",
    "im[0] = 1\n",
    "im[4] = 1\n",
    "im[8] = 1\n",
    "im.reshape(3,3)"
   ]
  },
  {
   "cell_type": "code",
   "execution_count": 56,
   "id": "88da6848",
   "metadata": {},
   "outputs": [
    {
     "data": {
      "text/plain": [
       "array([[1., 0., 0.],\n",
       "       [0., 1., 0.],\n",
       "       [0., 0., 1.]])"
      ]
     },
     "execution_count": 56,
     "metadata": {},
     "output_type": "execute_result"
    }
   ],
   "source": [
    "## 간단한 코드\n",
    "\n",
    "np.identity(3)"
   ]
  },
  {
   "cell_type": "markdown",
   "id": "5fb4c002",
   "metadata": {},
   "source": [
    "identity matrix를 출력하려면 np.identity(diagonal 개수)로 입력하면 된다.\n",
    "\n",
    "예를 들어 3 by 3 행렬을 출력하려면 np.identity(3)을 넣어준다."
   ]
  },
  {
   "cell_type": "markdown",
   "id": "0e6364d3",
   "metadata": {},
   "source": [
    "#### 12. Create a 3x3x3 array with random values (★☆☆)"
   ]
  },
  {
   "cell_type": "code",
   "execution_count": 57,
   "id": "8139c1c8",
   "metadata": {},
   "outputs": [
    {
     "data": {
      "text/plain": [
       "array([[[ 1.30380914,  0.61219227, -1.12507059],\n",
       "        [ 1.07721664,  1.5370292 ,  0.21113375],\n",
       "        [ 1.13543792, -0.26296114, -1.0314403 ]],\n",
       "\n",
       "       [[-0.33534962,  1.63050788, -0.47888084],\n",
       "        [-0.62962907, -1.70138595,  2.09295007],\n",
       "        [ 0.79090385,  1.33755493, -0.25566221]],\n",
       "\n",
       "       [[ 0.60637873,  1.05663623,  0.43729919],\n",
       "        [ 1.1845462 , -1.51689829, -1.41669484],\n",
       "        [-0.01625318, -0.2410172 ,  1.72692381]]])"
      ]
     },
     "execution_count": 57,
     "metadata": {},
     "output_type": "execute_result"
    }
   ],
   "source": [
    "base = np.random.randn(27)\n",
    "base.reshape(3,3,3)"
   ]
  },
  {
   "cell_type": "code",
   "execution_count": 58,
   "id": "4c4b0059",
   "metadata": {},
   "outputs": [
    {
     "data": {
      "text/plain": [
       "array([[[1.30380914, 0.61219227, 1.12507059],\n",
       "        [1.07721664, 1.5370292 , 0.21113375],\n",
       "        [1.13543792, 0.26296114, 1.0314403 ]],\n",
       "\n",
       "       [[0.33534962, 1.63050788, 0.47888084],\n",
       "        [0.62962907, 1.70138595, 2.09295007],\n",
       "        [0.79090385, 1.33755493, 0.25566221]],\n",
       "\n",
       "       [[0.60637873, 1.05663623, 0.43729919],\n",
       "        [1.1845462 , 1.51689829, 1.41669484],\n",
       "        [0.01625318, 0.2410172 , 1.72692381]]])"
      ]
     },
     "execution_count": 58,
     "metadata": {},
     "output_type": "execute_result"
    }
   ],
   "source": [
    "np.ndarray((3,3,3))"
   ]
  },
  {
   "cell_type": "markdown",
   "id": "315dbdf2",
   "metadata": {},
   "source": [
    "np.ndarray에 형상을 넣어주면 자동으로 그 형상에 난수를 채운 행렬을 출력한다.\n",
    "\n",
    "np.random.randn으로 난수를 출력하는 과정을 생략해도 되니 참고."
   ]
  },
  {
   "cell_type": "code",
   "execution_count": 20,
   "id": "c283f729",
   "metadata": {},
   "outputs": [
    {
     "data": {
      "text/plain": [
       "array([[[ 2.24823647, -0.26673355, -0.82234651],\n",
       "        [-1.09535996,  0.58426851, -1.33746253],\n",
       "        [ 0.4580547 ,  0.35105984, -0.24694101]],\n",
       "\n",
       "       [[-1.03880341,  1.10011452, -1.11512893],\n",
       "        [ 0.09629639,  1.20818206,  0.15420673],\n",
       "        [ 1.88463947, -0.88694736, -0.81101439]],\n",
       "\n",
       "       [[-0.72512263, -0.91361351, -0.33854331],\n",
       "        [-1.29405796, -0.74745494, -2.29668488],\n",
       "        [ 0.17702088,  0.51941048, -2.37732005]]])"
      ]
     },
     "execution_count": 20,
     "metadata": {},
     "output_type": "execute_result"
    }
   ],
   "source": [
    "np.random.randn(3, 3, 3)"
   ]
  },
  {
   "cell_type": "markdown",
   "id": "187e57bb",
   "metadata": {},
   "source": [
    "개인적으로 쓰는 방법은 np.random.randn 안에 형상을 넣어주는 것.\n",
    "\n",
    "난수를 출력하는 목적성이 확실해서 좋다.\n",
    "    \n",
    "    np.ones, np.zeros와 마찬가지로 안에 있는 인수들을 명시할 수 있으면 더 직관적으로 가능할 것."
   ]
  },
  {
   "cell_type": "markdown",
   "id": "49ef36a6",
   "metadata": {},
   "source": [
    "#### 13. Create a 10x10 array with random values and find the minimum and maximum values (★☆☆)"
   ]
  },
  {
   "cell_type": "code",
   "execution_count": 42,
   "id": "5b4c73c7",
   "metadata": {},
   "outputs": [
    {
     "data": {
      "text/plain": [
       "2.349566714964909"
      ]
     },
     "execution_count": 42,
     "metadata": {},
     "output_type": "execute_result"
    }
   ],
   "source": [
    "base = np.random.randn(100)\n",
    "bm = base.reshape(10, 10)\n",
    "np.max(bm)"
   ]
  },
  {
   "cell_type": "code",
   "execution_count": 59,
   "id": "2df25939",
   "metadata": {},
   "outputs": [
    {
     "data": {
      "text/plain": [
       "-2.4350448334129706"
      ]
     },
     "execution_count": 59,
     "metadata": {},
     "output_type": "execute_result"
    }
   ],
   "source": [
    "np.min(bm)"
   ]
  },
  {
   "cell_type": "markdown",
   "id": "cdf3d2fb",
   "metadata": {},
   "source": [
    "마찬가지로 np.random.randn( )에 형상을 넣어주면 좋다.\n",
    "\n",
    "최댓값과 최솟값 출력은 np.max, np.min으로 한다."
   ]
  },
  {
   "cell_type": "code",
   "execution_count": 21,
   "id": "7e3be2f3",
   "metadata": {},
   "outputs": [
    {
     "data": {
      "text/plain": [
       "3.2707218600023302"
      ]
     },
     "execution_count": 21,
     "metadata": {},
     "output_type": "execute_result"
    }
   ],
   "source": [
    "## 더 쉬운 코드\n",
    "base_2 = np.random.randn(10, 10)\n",
    "np.max(base_2)"
   ]
  },
  {
   "cell_type": "code",
   "execution_count": 22,
   "id": "205c8ae8",
   "metadata": {},
   "outputs": [
    {
     "data": {
      "text/plain": [
       "-2.2820258940683784"
      ]
     },
     "execution_count": 22,
     "metadata": {},
     "output_type": "execute_result"
    }
   ],
   "source": [
    "np.min(base_2)"
   ]
  },
  {
   "cell_type": "markdown",
   "id": "625eb243",
   "metadata": {},
   "source": [
    "#### 14. Create a random vector of size 30 and find the mean value (★☆☆)"
   ]
  },
  {
   "cell_type": "code",
   "execution_count": 44,
   "id": "ba7b8300",
   "metadata": {
    "scrolled": true
   },
   "outputs": [
    {
     "data": {
      "text/plain": [
       "-0.11001475889209165"
      ]
     },
     "execution_count": 44,
     "metadata": {},
     "output_type": "execute_result"
    }
   ],
   "source": [
    "p14 = np.random.randn(30)\n",
    "np.mean(p14)"
   ]
  },
  {
   "cell_type": "markdown",
   "id": "8a5ff83a",
   "metadata": {},
   "source": [
    "np.random.randn에 대해 설명했으므로 여기서는 설명 생략."
   ]
  },
  {
   "cell_type": "markdown",
   "id": "19540b2f",
   "metadata": {},
   "source": [
    "#### 15. Create a 2d array with 1 on the border and 0 inside (★☆☆)"
   ]
  },
  {
   "cell_type": "code",
   "execution_count": 87,
   "id": "b27f66c3",
   "metadata": {
    "scrolled": true
   },
   "outputs": [
    {
     "name": "stdout",
     "output_type": "stream",
     "text": [
      "[[1. 1. 1. 1. 1. 1. 1. 1. 1. 1.]\n",
      " [1. 0. 0. 0. 0. 0. 0. 0. 0. 1.]\n",
      " [1. 1. 1. 1. 1. 1. 1. 1. 1. 1.]]\n"
     ]
    }
   ],
   "source": [
    "p15 = np.ones_like(p)\n",
    "p15[1:-1, 1:-1] = 0\n",
    "print(p15_r)"
   ]
  },
  {
   "cell_type": "markdown",
   "id": "23c6c403",
   "metadata": {},
   "source": [
    "두 번째 줄을 인덱싱하는 것이 포인트이다.\n",
    "\n",
    "np.ones_like는 p와 같은 형상의 array를 출력한다."
   ]
  },
  {
   "cell_type": "markdown",
   "id": "3f0fe171",
   "metadata": {},
   "source": [
    "#### 16. How to add a border (filled with 0's) around an existing array? (★☆☆)"
   ]
  },
  {
   "cell_type": "code",
   "execution_count": 108,
   "id": "662a99b4",
   "metadata": {},
   "outputs": [
    {
     "data": {
      "text/plain": [
       "array([[ 0.        ,  0.        ,  0.        ,  0.        ,  0.        ],\n",
       "       [ 0.        ,  1.48582453, -1.45769382,  0.75662725,  0.        ],\n",
       "       [ 0.        , -1.46809427,  0.43754746,  0.84258992,  0.        ],\n",
       "       [ 0.        ,  2.45271646,  1.14875521,  0.54795825,  0.        ],\n",
       "       [ 0.        ,  0.        ,  0.        ,  0.        ,  0.        ]])"
      ]
     },
     "execution_count": 108,
     "metadata": {},
     "output_type": "execute_result"
    }
   ],
   "source": [
    "p16 = np.random.randn(3,3).reshape(3,3)\n",
    "np.pad(p16, ((1,1),(1,1)), \"constant\", constant_values = 0) "
   ]
  },
  {
   "cell_type": "markdown",
   "id": "5c339eae",
   "metadata": {},
   "source": [
    "padding은 신경망 모델에서 쓰이는 중요한 개념이니 알고 있자."
   ]
  },
  {
   "cell_type": "code",
   "execution_count": 115,
   "id": "8ca2bd25",
   "metadata": {},
   "outputs": [
    {
     "data": {
      "text/plain": [
       "array([[ 0.        ,  0.        ,  0.        ,  0.        ,  0.        ],\n",
       "       [ 0.        ,  0.        ,  0.        ,  0.        ,  0.        ],\n",
       "       [ 0.        ,  1.48582453, -1.45769382,  0.75662725,  0.        ],\n",
       "       [ 0.        , -1.46809427,  0.43754746,  0.84258992,  0.        ],\n",
       "       [ 0.        ,  2.45271646,  1.14875521,  0.54795825,  0.        ],\n",
       "       [ 0.        ,  0.        ,  0.        ,  0.        ,  0.        ],\n",
       "       [ 0.        ,  0.        ,  0.        ,  0.        ,  0.        ]])"
      ]
     },
     "execution_count": 115,
     "metadata": {},
     "output_type": "execute_result"
    }
   ],
   "source": [
    "np.pad(p16, ((2,2), (1,1)), \"constant\", constant_values = 0)"
   ]
  },
  {
   "cell_type": "code",
   "execution_count": 23,
   "id": "eaadf5a7",
   "metadata": {},
   "outputs": [
    {
     "name": "stdout",
     "output_type": "stream",
     "text": [
      " pad(array, pad_width, mode='constant', **kwargs)\n",
      "\n",
      "Pad an array.\n",
      "\n",
      "Parameters\n",
      "----------\n",
      "array : array_like of rank N\n",
      "    The array to pad.\n",
      "pad_width : {sequence, array_like, int}\n",
      "    Number of values padded to the edges of each axis.\n",
      "    ((before_1, after_1), ... (before_N, after_N)) unique pad widths\n",
      "    for each axis.\n",
      "    ((before, after),) yields same before and after pad for each axis.\n",
      "    (pad,) or int is a shortcut for before = after = pad width for all\n",
      "    axes.\n",
      "mode : str or function, optional\n",
      "    One of the following string values or a user supplied function.\n",
      "\n",
      "    'constant' (default)\n",
      "        Pads with a constant value.\n",
      "    'edge'\n",
      "        Pads with the edge values of array.\n",
      "    'linear_ramp'\n",
      "        Pads with the linear ramp between end_value and the\n",
      "        array edge value.\n",
      "    'maximum'\n",
      "        Pads with the maximum value of all or part of the\n",
      "        vector along each axis.\n",
      "    'mean'\n",
      "        Pads with the mean value of all or part of the\n",
      "        vector along each axis.\n",
      "    'median'\n",
      "        Pads with the median value of all or part of the\n",
      "        vector along each axis.\n",
      "    'minimum'\n",
      "        Pads with the minimum value of all or part of the\n",
      "        vector along each axis.\n",
      "    'reflect'\n",
      "        Pads with the reflection of the vector mirrored on\n",
      "        the first and last values of the vector along each\n",
      "        axis.\n",
      "    'symmetric'\n",
      "        Pads with the reflection of the vector mirrored\n",
      "        along the edge of the array.\n",
      "    'wrap'\n",
      "        Pads with the wrap of the vector along the axis.\n",
      "        The first values are used to pad the end and the\n",
      "        end values are used to pad the beginning.\n",
      "    'empty'\n",
      "        Pads with undefined values.\n",
      "\n",
      "        .. versionadded:: 1.17\n",
      "\n",
      "    <function>\n",
      "        Padding function, see Notes.\n",
      "stat_length : sequence or int, optional\n",
      "    Used in 'maximum', 'mean', 'median', and 'minimum'.  Number of\n",
      "    values at edge of each axis used to calculate the statistic value.\n",
      "\n",
      "    ((before_1, after_1), ... (before_N, after_N)) unique statistic\n",
      "    lengths for each axis.\n",
      "\n",
      "    ((before, after),) yields same before and after statistic lengths\n",
      "    for each axis.\n",
      "\n",
      "    (stat_length,) or int is a shortcut for before = after = statistic\n",
      "    length for all axes.\n",
      "\n",
      "    Default is ``None``, to use the entire axis.\n",
      "constant_values : sequence or scalar, optional\n",
      "    Used in 'constant'.  The values to set the padded values for each\n",
      "    axis.\n",
      "\n",
      "    ``((before_1, after_1), ... (before_N, after_N))`` unique pad constants\n",
      "    for each axis.\n",
      "\n",
      "    ``((before, after),)`` yields same before and after constants for each\n",
      "    axis.\n",
      "\n",
      "    ``(constant,)`` or ``constant`` is a shortcut for ``before = after = constant`` for\n",
      "    all axes.\n",
      "\n",
      "    Default is 0.\n",
      "end_values : sequence or scalar, optional\n",
      "    Used in 'linear_ramp'.  The values used for the ending value of the\n",
      "    linear_ramp and that will form the edge of the padded array.\n",
      "\n",
      "    ``((before_1, after_1), ... (before_N, after_N))`` unique end values\n",
      "    for each axis.\n",
      "\n",
      "    ``((before, after),)`` yields same before and after end values for each\n",
      "    axis.\n",
      "\n",
      "    ``(constant,)`` or ``constant`` is a shortcut for ``before = after = constant`` for\n",
      "    all axes.\n",
      "\n",
      "    Default is 0.\n",
      "reflect_type : {'even', 'odd'}, optional\n",
      "    Used in 'reflect', and 'symmetric'.  The 'even' style is the\n",
      "    default with an unaltered reflection around the edge value.  For\n",
      "    the 'odd' style, the extended part of the array is created by\n",
      "    subtracting the reflected values from two times the edge value.\n",
      "\n",
      "Returns\n",
      "-------\n",
      "pad : ndarray\n",
      "    Padded array of rank equal to `array` with shape increased\n",
      "    according to `pad_width`.\n",
      "\n",
      "Notes\n",
      "-----\n",
      ".. versionadded:: 1.7.0\n",
      "\n",
      "For an array with rank greater than 1, some of the padding of later\n",
      "axes is calculated from padding of previous axes.  This is easiest to\n",
      "think about with a rank 2 array where the corners of the padded array\n",
      "are calculated by using padded values from the first axis.\n",
      "\n",
      "The padding function, if used, should modify a rank 1 array in-place. It\n",
      "has the following signature::\n",
      "\n",
      "    padding_func(vector, iaxis_pad_width, iaxis, kwargs)\n",
      "\n",
      "where\n",
      "\n",
      "    vector : ndarray\n",
      "        A rank 1 array already padded with zeros.  Padded values are\n",
      "        vector[:iaxis_pad_width[0]] and vector[-iaxis_pad_width[1]:].\n",
      "    iaxis_pad_width : tuple\n",
      "        A 2-tuple of ints, iaxis_pad_width[0] represents the number of\n",
      "        values padded at the beginning of vector where\n",
      "        iaxis_pad_width[1] represents the number of values padded at\n",
      "        the end of vector.\n",
      "    iaxis : int\n",
      "        The axis currently being calculated.\n",
      "    kwargs : dict\n",
      "        Any keyword arguments the function requires.\n",
      "\n",
      "Examples\n",
      "--------\n",
      ">>> a = [1, 2, 3, 4, 5]\n",
      ">>> np.pad(a, (2, 3), 'constant', constant_values=(4, 6))\n",
      "array([4, 4, 1, ..., 6, 6, 6])\n",
      "\n",
      ">>> np.pad(a, (2, 3), 'edge')\n",
      "array([1, 1, 1, ..., 5, 5, 5])\n",
      "\n",
      ">>> np.pad(a, (2, 3), 'linear_ramp', end_values=(5, -4))\n",
      "array([ 5,  3,  1,  2,  3,  4,  5,  2, -1, -4])\n",
      "\n",
      ">>> np.pad(a, (2,), 'maximum')\n",
      "array([5, 5, 1, 2, 3, 4, 5, 5, 5])\n",
      "\n",
      ">>> np.pad(a, (2,), 'mean')\n",
      "array([3, 3, 1, 2, 3, 4, 5, 3, 3])\n",
      "\n",
      ">>> np.pad(a, (2,), 'median')\n",
      "array([3, 3, 1, 2, 3, 4, 5, 3, 3])\n",
      "\n",
      ">>> a = [[1, 2], [3, 4]]\n",
      ">>> np.pad(a, ((3, 2), (2, 3)), 'minimum')\n",
      "array([[1, 1, 1, 2, 1, 1, 1],\n",
      "       [1, 1, 1, 2, 1, 1, 1],\n",
      "       [1, 1, 1, 2, 1, 1, 1],\n",
      "       [1, 1, 1, 2, 1, 1, 1],\n",
      "       [3, 3, 3, 4, 3, 3, 3],\n",
      "       [1, 1, 1, 2, 1, 1, 1],\n",
      "       [1, 1, 1, 2, 1, 1, 1]])\n",
      "\n",
      ">>> a = [1, 2, 3, 4, 5]\n",
      ">>> np.pad(a, (2, 3), 'reflect')\n",
      "array([3, 2, 1, 2, 3, 4, 5, 4, 3, 2])\n",
      "\n",
      ">>> np.pad(a, (2, 3), 'reflect', reflect_type='odd')\n",
      "array([-1,  0,  1,  2,  3,  4,  5,  6,  7,  8])\n",
      "\n",
      ">>> np.pad(a, (2, 3), 'symmetric')\n",
      "array([2, 1, 1, 2, 3, 4, 5, 5, 4, 3])\n",
      "\n",
      ">>> np.pad(a, (2, 3), 'symmetric', reflect_type='odd')\n",
      "array([0, 1, 1, 2, 3, 4, 5, 5, 6, 7])\n",
      "\n",
      ">>> np.pad(a, (2, 3), 'wrap')\n",
      "array([4, 5, 1, 2, 3, 4, 5, 1, 2, 3])\n",
      "\n",
      ">>> def pad_with(vector, pad_width, iaxis, kwargs):\n",
      "...     pad_value = kwargs.get('padder', 10)\n",
      "...     vector[:pad_width[0]] = pad_value\n",
      "...     vector[-pad_width[1]:] = pad_value\n",
      ">>> a = np.arange(6)\n",
      ">>> a = a.reshape((2, 3))\n",
      ">>> np.pad(a, 2, pad_with)\n",
      "array([[10, 10, 10, 10, 10, 10, 10],\n",
      "       [10, 10, 10, 10, 10, 10, 10],\n",
      "       [10, 10,  0,  1,  2, 10, 10],\n",
      "       [10, 10,  3,  4,  5, 10, 10],\n",
      "       [10, 10, 10, 10, 10, 10, 10],\n",
      "       [10, 10, 10, 10, 10, 10, 10]])\n",
      ">>> np.pad(a, 2, pad_with, padder=100)\n",
      "array([[100, 100, 100, 100, 100, 100, 100],\n",
      "       [100, 100, 100, 100, 100, 100, 100],\n",
      "       [100, 100,   0,   1,   2, 100, 100],\n",
      "       [100, 100,   3,   4,   5, 100, 100],\n",
      "       [100, 100, 100, 100, 100, 100, 100],\n",
      "       [100, 100, 100, 100, 100, 100, 100]])\n"
     ]
    }
   ],
   "source": [
    "np.info(np.pad)"
   ]
  },
  {
   "cell_type": "markdown",
   "id": "afd67364",
   "metadata": {},
   "source": [
    "두 번째 인수에 padding할(matrix를 확장할) 범위를 넣어준다.\n",
    "\n",
    "예를 들어 세로 상 하를 2줄 늘리고 싶으면 두 번째 인수의 첫 번째 항에 (2,2)를 넣어주면 된다.\n",
    "\n",
    "    특정 인수를 채우고 싶으면 'constant'를 입력하고 constant_values = scalar를 넣어주면 되는데,\n",
    "    이 인수의 종류에 따라 세 번째 인수가 달라진다.\n",
    "    \n",
    "    minimum, median, mean... 등을 넣어줄 수 있으며, 나머지는 위의 info를 참고하자."
   ]
  },
  {
   "cell_type": "markdown",
   "id": "0464c4af",
   "metadata": {},
   "source": [
    "#### 17. What is the result of the following expression? (★☆☆)\n",
    "```python\n",
    "0 * np.nan\n",
    "np.nan == np.nan\n",
    "np.inf > np.nan\n",
    "np.nan - np.nan\n",
    "np.nan in set([np.nan])\n",
    "0.3 == 3 * 0.1\n",
    "```"
   ]
  },
  {
   "cell_type": "code",
   "execution_count": 26,
   "id": "18926a29",
   "metadata": {},
   "outputs": [
    {
     "data": {
      "text/plain": [
       "nan"
      ]
     },
     "execution_count": 26,
     "metadata": {},
     "output_type": "execute_result"
    }
   ],
   "source": [
    "0 * np.nan # 파이썬에서는 NA값과 Null 값을 모두 nan으로 처리한다. 없는 값에 0을 곱해봤자 변하지 않으므로 답은 nan."
   ]
  },
  {
   "cell_type": "code",
   "execution_count": 29,
   "id": "f0baa550",
   "metadata": {},
   "outputs": [
    {
     "data": {
      "text/plain": [
       "False"
      ]
     },
     "execution_count": 29,
     "metadata": {},
     "output_type": "execute_result"
    }
   ],
   "source": [
    "np.nan == np.nan # 정해지지 않은 값이므로 이 두 값은 동일하지 않다."
   ]
  },
  {
   "cell_type": "code",
   "execution_count": 30,
   "id": "6abffdbd",
   "metadata": {},
   "outputs": [
    {
     "data": {
      "text/plain": [
       "False"
      ]
     },
     "execution_count": 30,
     "metadata": {},
     "output_type": "execute_result"
    }
   ],
   "source": [
    "np.inf > np.nan # nan 값은 크기 비교가 불가능하다."
   ]
  },
  {
   "cell_type": "code",
   "execution_count": 32,
   "id": "3b395af8",
   "metadata": {},
   "outputs": [
    {
     "data": {
      "text/plain": [
       "nan"
      ]
     },
     "execution_count": 32,
     "metadata": {},
     "output_type": "execute_result"
    }
   ],
   "source": [
    "np.nan - np.nan # nan 값은 정해지지 않은 값이라고 이해하는 것이 중요. nan에 어떤 연산을 해도 값은 nan이 나올 것."
   ]
  },
  {
   "cell_type": "code",
   "execution_count": 34,
   "id": "a6aab29f",
   "metadata": {},
   "outputs": [
    {
     "data": {
      "text/plain": [
       "True"
      ]
     },
     "execution_count": 34,
     "metadata": {},
     "output_type": "execute_result"
    }
   ],
   "source": [
    "np.nan in set([np.nan]) # set는 집합 개념으로 생각하면 편하다. nan 값의 집합에 nan이 속하냐는 질문이므로 True."
   ]
  },
  {
   "cell_type": "code",
   "execution_count": 35,
   "id": "ccb26e89",
   "metadata": {},
   "outputs": [
    {
     "data": {
      "text/plain": [
       "False"
      ]
     },
     "execution_count": 35,
     "metadata": {},
     "output_type": "execute_result"
    }
   ],
   "source": [
    "0.3 == 3 * 0.1 \n",
    "## 파이썬에서 숫자는 부동소수점으로 표현된다. 즉, 0.3과 0.1을 표현할 때, 0.3과 0.1 자체가 아니라 0.3x를 근사해서 표현한다는 것.\n",
    "## 2진 분수로 숫자를 표현하기 때문에 정확한 표기값이 다르다. 따라서 False"
   ]
  },
  {
   "cell_type": "markdown",
   "id": "afb90e8b",
   "metadata": {},
   "source": [
    "#### 18. Create a 5x5 matrix with values 1,2,3,4 just below the diagonal (★☆☆)"
   ]
  },
  {
   "cell_type": "code",
   "execution_count": 92,
   "id": "8a988102",
   "metadata": {},
   "outputs": [
    {
     "data": {
      "text/plain": [
       "array([[0, 0, 0, 0, 0],\n",
       "       [1, 0, 0, 0, 0],\n",
       "       [0, 2, 0, 0, 0],\n",
       "       [0, 0, 3, 0, 0],\n",
       "       [0, 0, 0, 4, 0]])"
      ]
     },
     "execution_count": 92,
     "metadata": {},
     "output_type": "execute_result"
    }
   ],
   "source": [
    "np.diag([1,2,3,4], k = -1)"
   ]
  },
  {
   "cell_type": "markdown",
   "id": "b868a50a",
   "metadata": {},
   "source": [
    "앞에서의 np.pad로도 표현할 수 있지만, np.diag의 k 옵션을 쓰는 것이 깔끔하다.\n",
    "\n",
    "    np.diag의 k 값은 diagonal elements들을 올려주거나 내려준다.\n",
    "    \n",
    "    예를 들어 위에서 k=1을 입력하면 5 by 5 diagonal에서 한 칸 위로 1, 2, 3, 4를 가지는 값이 만들어질 것이다."
   ]
  },
  {
   "cell_type": "markdown",
   "id": "ca611f9e",
   "metadata": {},
   "source": [
    "#### 19. Create a 8x8 matrix and fill it with a checkerboard pattern (★☆☆)"
   ]
  },
  {
   "cell_type": "code",
   "execution_count": 48,
   "id": "24049fc7",
   "metadata": {
    "scrolled": false
   },
   "outputs": [
    {
     "data": {
      "text/plain": [
       "array([[0, 1, 0, 1, 0, 1, 0, 1],\n",
       "       [1, 0, 1, 0, 1, 0, 1, 0],\n",
       "       [0, 1, 0, 1, 0, 1, 0, 1],\n",
       "       [1, 0, 1, 0, 1, 0, 1, 0],\n",
       "       [0, 1, 0, 1, 0, 1, 0, 1],\n",
       "       [1, 0, 1, 0, 1, 0, 1, 0],\n",
       "       [0, 1, 0, 1, 0, 1, 0, 1],\n",
       "       [1, 0, 1, 0, 1, 0, 1, 0]])"
      ]
     },
     "execution_count": 48,
     "metadata": {},
     "output_type": "execute_result"
    }
   ],
   "source": [
    "p19 = np.array([[0,1], [1,0]])\n",
    "\n",
    "np.tile(p19, (4, 4))"
   ]
  },
  {
   "cell_type": "markdown",
   "id": "63ed3c56",
   "metadata": {},
   "source": [
    "np.tile은 해당되는 array를 다음의 인수의 형상대로 쌓아준다.\n",
    "\n",
    "    위를 보면 [[0,1], [1,0]]이 반복할 대상이다.\n",
    "    \n",
    "    이를 행 방향으로 4번 쌓고, 열 방향으로 4번 쌓는다.\n",
    "    \n",
    "    먼저 [0,1]부터 행 방향으로 4번 쌓고, 다음으로 들어가는 [1,0]을 4번 쌓은 다음, 이것을 열 방향으로 4번 반복한다."
   ]
  },
  {
   "cell_type": "code",
   "execution_count": 119,
   "id": "4f07adc2",
   "metadata": {},
   "outputs": [
    {
     "name": "stdout",
     "output_type": "stream",
     "text": [
      "[[0. 1. 0. 1. 0. 1. 0. 1.]\n",
      " [1. 0. 1. 0. 1. 0. 1. 0.]\n",
      " [0. 1. 0. 1. 0. 1. 0. 1.]\n",
      " [1. 0. 1. 0. 1. 0. 1. 0.]\n",
      " [0. 1. 0. 1. 0. 1. 0. 1.]\n",
      " [1. 0. 1. 0. 1. 0. 1. 0.]\n",
      " [0. 1. 0. 1. 0. 1. 0. 1.]\n",
      " [1. 0. 1. 0. 1. 0. 1. 0.]]\n"
     ]
    }
   ],
   "source": [
    "# pile이 아닌 다른 방법\n",
    "\n",
    "c19 = np.zeros((8, 8))\n",
    "c19[::2, 1::2] = 1 \n",
    "c19[1::2, ::2] = 1\n",
    "print(c19)"
   ]
  },
  {
   "cell_type": "markdown",
   "id": "bfd1b298",
   "metadata": {},
   "source": [
    "'::x'는 x 간격으로 인덱싱한다.\n",
    "\n",
    "    ::-1일 경우에는 역순이 된다. -1칸 간격으로 데이터를 뽑아내라는 것이기 때문.\n",
    "    따라서 ::-2는 역순으로 2칸 간격, ::-3은 역순으로 3칸 간격... 이 된다."
   ]
  },
  {
   "cell_type": "markdown",
   "id": "9b77f7af",
   "metadata": {},
   "source": [
    "#### 20. Consider a (6,7,8) shape array, what is the index (x,y,z) of the 100th element? (★☆☆)"
   ]
  },
  {
   "cell_type": "code",
   "execution_count": 120,
   "id": "402efd68",
   "metadata": {
    "scrolled": true
   },
   "outputs": [
    {
     "data": {
      "text/plain": [
       "(array([1]), array([5]), array([3]))"
      ]
     },
     "execution_count": 120,
     "metadata": {},
     "output_type": "execute_result"
    }
   ],
   "source": [
    "array = np.random.randn(6, 7, 8)\n",
    "hth = array.flatten()[99]\n",
    "np.where(array == hth)"
   ]
  },
  {
   "cell_type": "markdown",
   "id": "a364df5a",
   "metadata": {},
   "source": [
    "안에 있는 값을 기반으로 위치를 뽑아내려면 np.where을 활용한다."
   ]
  },
  {
   "cell_type": "code",
   "execution_count": 121,
   "id": "c466dc27",
   "metadata": {},
   "outputs": [
    {
     "name": "stdout",
     "output_type": "stream",
     "text": [
      "(1, 5, 3)\n"
     ]
    }
   ],
   "source": [
    "# 더 쉬운 방법\n",
    "print(np.unravel_index(99,(6,7,8)))"
   ]
  },
  {
   "cell_type": "code",
   "execution_count": 122,
   "id": "cc92815b",
   "metadata": {},
   "outputs": [
    {
     "name": "stdout",
     "output_type": "stream",
     "text": [
      " unravel_index()\n",
      "\n",
      "unravel_index(indices, shape, order='C')\n",
      "\n",
      "Converts a flat index or array of flat indices into a tuple\n",
      "of coordinate arrays.\n",
      "\n",
      "Parameters\n",
      "----------\n",
      "indices : array_like\n",
      "    An integer array whose elements are indices into the flattened\n",
      "    version of an array of dimensions ``shape``. Before version 1.6.0,\n",
      "    this function accepted just one index value.\n",
      "shape : tuple of ints\n",
      "    The shape of the array to use for unraveling ``indices``.\n",
      "\n",
      "    .. versionchanged:: 1.16.0\n",
      "        Renamed from ``dims`` to ``shape``.\n",
      "\n",
      "order : {'C', 'F'}, optional\n",
      "    Determines whether the indices should be viewed as indexing in\n",
      "    row-major (C-style) or column-major (Fortran-style) order.\n",
      "\n",
      "    .. versionadded:: 1.6.0\n",
      "\n",
      "Returns\n",
      "-------\n",
      "unraveled_coords : tuple of ndarray\n",
      "    Each array in the tuple has the same shape as the ``indices``\n",
      "    array.\n",
      "\n",
      "See Also\n",
      "--------\n",
      "ravel_multi_index\n",
      "\n",
      "Examples\n",
      "--------\n",
      ">>> np.unravel_index([22, 41, 37], (7,6))\n",
      "(array([3, 6, 6]), array([4, 5, 1]))\n",
      ">>> np.unravel_index([31, 41, 13], (7,6), order='F')\n",
      "(array([3, 6, 6]), array([4, 5, 1]))\n",
      "\n",
      ">>> np.unravel_index(1621, (6,7,8,9))\n",
      "(3, 1, 4, 1)\n"
     ]
    }
   ],
   "source": [
    "np.info(np.unravel_index)"
   ]
  },
  {
   "cell_type": "markdown",
   "id": "a74d9756",
   "metadata": {},
   "source": [
    "    np,unravel_index(index, shape)는 shape의 형상을 한 행렬에서 index번째의 요소의 (x, y, z)를 뽑아준다."
   ]
  },
  {
   "cell_type": "markdown",
   "id": "07e399b8",
   "metadata": {},
   "source": [
    "#### 21. Create a checkerboard 8x8 matrix using the tile function (★☆☆)"
   ]
  },
  {
   "cell_type": "code",
   "execution_count": 49,
   "id": "867964a9",
   "metadata": {},
   "outputs": [
    {
     "data": {
      "text/plain": [
       "array([[0, 1, 0, 1, 0, 1, 0, 1],\n",
       "       [1, 0, 1, 0, 1, 0, 1, 0],\n",
       "       [0, 1, 0, 1, 0, 1, 0, 1],\n",
       "       [1, 0, 1, 0, 1, 0, 1, 0],\n",
       "       [0, 1, 0, 1, 0, 1, 0, 1],\n",
       "       [1, 0, 1, 0, 1, 0, 1, 0],\n",
       "       [0, 1, 0, 1, 0, 1, 0, 1],\n",
       "       [1, 0, 1, 0, 1, 0, 1, 0]])"
      ]
     },
     "execution_count": 49,
     "metadata": {},
     "output_type": "execute_result"
    }
   ],
   "source": [
    "p19 = np.array([[0,1], [1,0]])\n",
    "\n",
    "np.tile(p19, (4, 4))"
   ]
  },
  {
   "cell_type": "markdown",
   "id": "3d6b16eb",
   "metadata": {},
   "source": [
    "위와 같다.,"
   ]
  },
  {
   "cell_type": "markdown",
   "id": "bc92d88a",
   "metadata": {},
   "source": [
    "#### 22. Normalize a 5x5 random matrix (★☆☆)"
   ]
  },
  {
   "cell_type": "code",
   "execution_count": 50,
   "id": "a3709496",
   "metadata": {
    "scrolled": true
   },
   "outputs": [
    {
     "data": {
      "text/plain": [
       "array([[-0.23593579,  0.98524195, -1.61415405,  1.7765972 ,  0.79459242],\n",
       "       [ 1.10153559,  0.35672257,  0.87288854,  0.16858023,  0.83285218],\n",
       "       [-0.06456011, -1.08288635, -0.87978719, -0.03874594, -1.37421965],\n",
       "       [-0.76213961,  0.26088159, -1.66332546,  0.43251134, -0.64321746],\n",
       "       [ 0.30343559, -1.89864864,  1.39574793,  1.11142833, -0.13539522]])"
      ]
     },
     "execution_count": 50,
     "metadata": {},
     "output_type": "execute_result"
    }
   ],
   "source": [
    "mt = np.random.randn(5, 5)\n",
    "\n",
    "mu = np.mean(mt)\n",
    "std = np.std(mt)\n",
    "\n",
    "(mt - mu) / std"
   ]
  },
  {
   "cell_type": "markdown",
   "id": "4665c84b",
   "metadata": {},
   "source": [
    "sklearn에서는 옵션이 있지만, 여기서는 평균과 표준편차를 구해 직접 표준화해줘야 한다.\n",
    "\n",
    "    표준화 방법은 데이터에서 평균을 빼고 표준편차를 나누는 것."
   ]
  },
  {
   "cell_type": "markdown",
   "id": "9e2fd8ce",
   "metadata": {},
   "source": [
    "#### 23. Create a custom dtype that describes a color as four unsigned bytes (RGBA) (★☆☆)"
   ]
  },
  {
   "cell_type": "code",
   "execution_count": 263,
   "id": "5881b2b5",
   "metadata": {},
   "outputs": [
    {
     "data": {
      "text/plain": [
       "dtype([('r', 'u1'), ('g', 'u1'), ('b', 'u1'), ('a', 'u1')])"
      ]
     },
     "execution_count": 263,
     "metadata": {},
     "output_type": "execute_result"
    }
   ],
   "source": [
    "color = np.dtype([(\"r\", np.ubyte),\n",
    "                  (\"g\", np.ubyte),\n",
    "                  (\"b\", np.ubyte),\n",
    "                  (\"a\", np.ubyte)])\n",
    "\n",
    "color"
   ]
  },
  {
   "cell_type": "markdown",
   "id": "f620dec4",
   "metadata": {},
   "source": [
    "    np.dtype에서 데이터 타입을 설정해줄 수 있다."
   ]
  },
  {
   "cell_type": "markdown",
   "id": "d6904ab9",
   "metadata": {},
   "source": [
    "#### 24. Multiply a 5x3 matrix by a 3x2 matrix (real matrix product) (★☆☆)"
   ]
  },
  {
   "cell_type": "code",
   "execution_count": 51,
   "id": "cb3b6528",
   "metadata": {},
   "outputs": [
    {
     "data": {
      "text/plain": [
       "array([[-1.67431119,  1.88520663],\n",
       "       [-1.59412839,  0.81566909],\n",
       "       [-4.36515659,  2.78707047],\n",
       "       [-0.24808722, -0.55726556],\n",
       "       [ 0.65206338, -0.85954914]])"
      ]
     },
     "execution_count": 51,
     "metadata": {},
     "output_type": "execute_result"
    }
   ],
   "source": [
    "mat1 = np.random.randn(5, 3)\n",
    "mat2 = np.random.randn(3, 2)\n",
    "\n",
    "np.matmul(mat1, mat2)"
   ]
  },
  {
   "cell_type": "markdown",
   "id": "a84ca92f",
   "metadata": {},
   "source": [
    "np.dot과 np.matmul 두 옵션이 있다.\n",
    "\n",
    "    다만 np.dot은 vector 계산에도 적용이 되므로 np.matmul로 행렬 계산을 명시해주는 것이 낫다 생각.\n",
    "    \n",
    "앞에서도 말했듯이 나름대로의 코딩 법칙이긴 한데, 되도록이면 뭘했는지 코드에서 직관적으로 알 수 있게 코드를 짜고 있슴다"
   ]
  },
  {
   "cell_type": "markdown",
   "id": "c57116dd",
   "metadata": {},
   "source": [
    "#### 25. Given a 1D array, negate all elements which are between 3 and 8, in place. (★☆☆)"
   ]
  },
  {
   "cell_type": "code",
   "execution_count": 74,
   "id": "4fbf1b1e",
   "metadata": {},
   "outputs": [
    {
     "data": {
      "text/plain": [
       "array([ 0,  1,  2,  3, -4, -5, -6, -7,  8,  9, 10, 11, 12, 13, 14, 15, 16,\n",
       "       17, 18, 19, 20, 21, 22, 23, 24, 25, 26, 27, 28, 29])"
      ]
     },
     "execution_count": 74,
     "metadata": {},
     "output_type": "execute_result"
    }
   ],
   "source": [
    "arr = np.arange(30)\n",
    "\n",
    "arr[(arr > 3) & (arr < 8)] *= -1\n",
    "arr"
   ]
  },
  {
   "cell_type": "markdown",
   "id": "7af65aa7",
   "metadata": {},
   "source": [
    "추출할 때 조건에 ()을 씌워주는 것이 포인트이다. 씌워주지 않을 경우에는 계산이 진행되지 않는다.\n",
    "\n",
    "여기서는 3과 8 사이에 있는 것들을 -를 씌워주어야 하므로 *= -1을 넣어준다."
   ]
  },
  {
   "cell_type": "markdown",
   "id": "52707d61",
   "metadata": {},
   "source": [
    "#### 26. What is the output of the following script? (★☆☆)\n",
    "```python\n",
    "# Author: Jake VanderPlas\n",
    "\n",
    "print(sum(range(5),-1))\n",
    "from numpy import *\n",
    "print(sum(range(5),-1))\n",
    "```"
   ]
  },
  {
   "cell_type": "code",
   "execution_count": 75,
   "id": "18a238e6",
   "metadata": {},
   "outputs": [
    {
     "name": "stdout",
     "output_type": "stream",
     "text": [
      "9\n"
     ]
    }
   ],
   "source": [
    "print(sum(range(5),-1))"
   ]
  },
  {
   "cell_type": "code",
   "execution_count": 139,
   "id": "df9059e0",
   "metadata": {},
   "outputs": [
    {
     "name": "stdout",
     "output_type": "stream",
     "text": [
      "10\n"
     ]
    }
   ],
   "source": [
    "import numpy as np\n",
    "print(sum(range(5), -1))"
   ]
  },
  {
   "cell_type": "markdown",
   "id": "5ab377fd",
   "metadata": {},
   "source": [
    "#### 27. Consider an integer vector Z, which of these expressions are legal? (★☆☆)\n",
    "```python\n",
    "Z**Z\n",
    "2 << Z >> 2\n",
    "Z <- Z\n",
    "1j*Z\n",
    "Z/1/1\n",
    "Z<Z>Z\n",
    "```"
   ]
  },
  {
   "cell_type": "code",
   "execution_count": 142,
   "id": "36cc66a9",
   "metadata": {},
   "outputs": [],
   "source": [
    "Z = np.arange(10, dtype = np.int32)"
   ]
  },
  {
   "cell_type": "code",
   "execution_count": 144,
   "id": "0bccc84b",
   "metadata": {},
   "outputs": [
    {
     "data": {
      "text/plain": [
       "array([        1,         1,         4,        27,       256,      3125,\n",
       "           46656,    823543,  16777216, 387420489], dtype=int32)"
      ]
     },
     "execution_count": 144,
     "metadata": {},
     "output_type": "execute_result"
    }
   ],
   "source": [
    "Z**Z # Z의 인수들을 인수들로 제곱시킨다. legal."
   ]
  },
  {
   "cell_type": "code",
   "execution_count": 169,
   "id": "895cf499",
   "metadata": {},
   "outputs": [
    {
     "data": {
      "text/plain": [
       "array([  0,   1,   2,   4,   8,  16,  32,  64, 128, 256], dtype=int32)"
      ]
     },
     "execution_count": 169,
     "metadata": {},
     "output_type": "execute_result"
    }
   ],
   "source": [
    "2 << Z >> 2 # 비트를 왼쪽 2자리, 오른쪽 2자리로 민다."
   ]
  },
  {
   "cell_type": "code",
   "execution_count": 173,
   "id": "acd1cb1d",
   "metadata": {},
   "outputs": [
    {
     "data": {
      "text/plain": [
       "array([False, False, False, False, False, False, False, False, False,\n",
       "       False])"
      ]
     },
     "execution_count": 173,
     "metadata": {},
     "output_type": "execute_result"
    }
   ],
   "source": [
    "Z <- Z # Z를 할당시키려는 시도? 그런데 Z > -Z을 계산하는 bool로 뜬다. illegal."
   ]
  },
  {
   "cell_type": "code",
   "execution_count": 176,
   "id": "1d9f1afe",
   "metadata": {},
   "outputs": [
    {
     "data": {
      "text/plain": [
       "array([0.+0.j, 0.+1.j, 0.+2.j, 0.+3.j, 0.+4.j, 0.+5.j, 0.+6.j, 0.+7.j,\n",
       "       0.+8.j, 0.+9.j])"
      ]
     },
     "execution_count": 176,
     "metadata": {},
     "output_type": "execute_result"
    }
   ],
   "source": [
    "1j*Z # j는 imaginary number i를 의미한다."
   ]
  },
  {
   "cell_type": "code",
   "execution_count": 180,
   "id": "e43f3806",
   "metadata": {},
   "outputs": [
    {
     "data": {
      "text/plain": [
       "array([0., 1., 2., 3., 4., 5., 6., 7., 8., 9.])"
      ]
     },
     "execution_count": 180,
     "metadata": {},
     "output_type": "execute_result"
    }
   ],
   "source": [
    "Z/1/1 # integer가 아닌 float로 출력된다."
   ]
  },
  {
   "cell_type": "code",
   "execution_count": 183,
   "id": "72dd1760",
   "metadata": {},
   "outputs": [
    {
     "ename": "ValueError",
     "evalue": "The truth value of an array with more than one element is ambiguous. Use a.any() or a.all()",
     "output_type": "error",
     "traceback": [
      "\u001b[0;31m---------------------------------------------------------------------------\u001b[0m",
      "\u001b[0;31mValueError\u001b[0m                                Traceback (most recent call last)",
      "Input \u001b[0;32mIn [183]\u001b[0m, in \u001b[0;36m<cell line: 1>\u001b[0;34m()\u001b[0m\n\u001b[0;32m----> 1\u001b[0m Z\u001b[38;5;241m<\u001b[39mZ\u001b[38;5;241m>\u001b[39mZ\n",
      "\u001b[0;31mValueError\u001b[0m: The truth value of an array with more than one element is ambiguous. Use a.any() or a.all()"
     ]
    }
   ],
   "source": [
    "Z<Z>Z # illegal. 변수가 하나 이상 있어야 한다."
   ]
  },
  {
   "cell_type": "markdown",
   "id": "da641547",
   "metadata": {},
   "source": [
    "뭘 의도한 문제인지 모르겠음..?\n",
    "\n",
    "넘파이가 아니라 메모리 관련해서 파이썬 연산자들을 모아놓은 것 같은데, 질문 자체가 그냥 성립하냐.. 이걸 물어봐서.."
   ]
  },
  {
   "cell_type": "markdown",
   "id": "654f223f",
   "metadata": {},
   "source": [
    "#### 28. What are the result of the following expressions? (★☆☆)\n",
    "```python\n",
    "np.array(0) / np.array(0)\n",
    "np.array(0) // np.array(0)\n",
    "np.array([np.nan]).astype(int).astype(float)\n",
    "```"
   ]
  },
  {
   "cell_type": "code",
   "execution_count": 185,
   "id": "6d9d3c21",
   "metadata": {},
   "outputs": [
    {
     "name": "stderr",
     "output_type": "stream",
     "text": [
      "/var/folders/d7/8zsbg3r51rs_vl832mx18q_00000gn/T/ipykernel_5589/187993282.py:1: RuntimeWarning: invalid value encountered in true_divide\n",
      "  np.array(0) / np.array(0) # 0/0은 nan으로 출력. 계산이 불가능하므로..\n"
     ]
    },
    {
     "data": {
      "text/plain": [
       "nan"
      ]
     },
     "execution_count": 185,
     "metadata": {},
     "output_type": "execute_result"
    }
   ],
   "source": [
    "np.array(0) / np.array(0) # 0/0은 nan으로 출력."
   ]
  },
  {
   "cell_type": "code",
   "execution_count": 187,
   "id": "2c0b66ff",
   "metadata": {},
   "outputs": [
    {
     "name": "stderr",
     "output_type": "stream",
     "text": [
      "/var/folders/d7/8zsbg3r51rs_vl832mx18q_00000gn/T/ipykernel_5589/2246737887.py:1: RuntimeWarning: divide by zero encountered in floor_divide\n",
      "  np.array(0) // np.array(0) # 0/0의 몫은 nan이 아닌 0으로 출력된다.\n"
     ]
    },
    {
     "data": {
      "text/plain": [
       "0"
      ]
     },
     "execution_count": 187,
     "metadata": {},
     "output_type": "execute_result"
    }
   ],
   "source": [
    "np.array(0) // np.array(0) # 0/0의 몫은 nan이 아닌 0으로 출력된다."
   ]
  },
  {
   "cell_type": "code",
   "execution_count": 190,
   "id": "db466c9f",
   "metadata": {},
   "outputs": [
    {
     "name": "stderr",
     "output_type": "stream",
     "text": [
      "/var/folders/d7/8zsbg3r51rs_vl832mx18q_00000gn/T/ipykernel_5589/3456432912.py:1: RuntimeWarning: divide by zero encountered in remainder\n",
      "  np.array(0) % np.array(0) # 0/0의 나머지도 0으로 출력된다. 계산 자체는 할 수 없지만, 몫과 나머지는 0으로 구할 수 있다.\n"
     ]
    },
    {
     "data": {
      "text/plain": [
       "0"
      ]
     },
     "execution_count": 190,
     "metadata": {},
     "output_type": "execute_result"
    }
   ],
   "source": [
    "np.array(0) % np.array(0) # 0/0의 나머지도 0으로 출력된다. 계산 자체는 할 수 없지만, 몫과 나머지는 0으로 구할 수 있다."
   ]
  },
  {
   "cell_type": "code",
   "execution_count": 191,
   "id": "fd0a99db",
   "metadata": {},
   "outputs": [
    {
     "data": {
      "text/plain": [
       "array([-9223372036854775808])"
      ]
     },
     "execution_count": 191,
     "metadata": {},
     "output_type": "execute_result"
    }
   ],
   "source": [
    "np.array([np.nan]).astype(int)"
   ]
  },
  {
   "cell_type": "code",
   "execution_count": 192,
   "id": "326ed593",
   "metadata": {},
   "outputs": [
    {
     "data": {
      "text/plain": [
       "array([-9.22337204e+18])"
      ]
     },
     "execution_count": 192,
     "metadata": {},
     "output_type": "execute_result"
    }
   ],
   "source": [
    "np.array([np.nan]).astype(int).astype(float) # np.nan은 not a number이지만, int와 float로 표현할 수 있다.\n",
    "## 터무니 없이 작은 값이 나온다."
   ]
  },
  {
   "cell_type": "markdown",
   "id": "a7e00adf",
   "metadata": {},
   "source": [
    "#### 29. How to round away from zero a float array ? (★☆☆)"
   ]
  },
  {
   "cell_type": "code",
   "execution_count": 247,
   "id": "6ee5777d",
   "metadata": {
    "scrolled": true
   },
   "outputs": [
    {
     "name": "stdout",
     "output_type": "stream",
     "text": [
      "[0. 1. 2. 3. 4. 5. 6. 7. 8. 9.]\n"
     ]
    },
    {
     "name": "stderr",
     "output_type": "stream",
     "text": [
      "/var/folders/d7/8zsbg3r51rs_vl832mx18q_00000gn/T/ipykernel_5589/3384844810.py:1: DeprecationWarning: `np.float` is a deprecated alias for the builtin `float`. To silence this warning, use `float` by itself. Doing this will not modify any behavior and is safe. If you specifically wanted the numpy scalar type, use `np.float64` here.\n",
      "Deprecated in NumPy 1.20; for more details and guidance: https://numpy.org/devdocs/release/1.20.0-notes.html#deprecations\n",
      "  flt = np.arange(10).astype(np.float)\n"
     ]
    }
   ],
   "source": [
    "flt = np.arange(10).astype(np.float)\n",
    "\n",
    "print(np.where(flt>0, np.ceil(flt), np.floor(flt)))"
   ]
  },
  {
   "cell_type": "code",
   "execution_count": 251,
   "id": "f226b048",
   "metadata": {},
   "outputs": [
    {
     "name": "stdout",
     "output_type": "stream",
     "text": [
      " where()\n",
      "\n",
      "where(condition, [x, y])\n",
      "\n",
      "Return elements chosen from `x` or `y` depending on `condition`.\n",
      "\n",
      ".. note::\n",
      "    When only `condition` is provided, this function is a shorthand for\n",
      "    ``np.asarray(condition).nonzero()``. Using `nonzero` directly should be\n",
      "    preferred, as it behaves correctly for subclasses. The rest of this\n",
      "    documentation covers only the case where all three arguments are\n",
      "    provided.\n",
      "\n",
      "Parameters\n",
      "----------\n",
      "condition : array_like, bool\n",
      "    Where True, yield `x`, otherwise yield `y`.\n",
      "x, y : array_like\n",
      "    Values from which to choose. `x`, `y` and `condition` need to be\n",
      "    broadcastable to some shape.\n",
      "\n",
      "Returns\n",
      "-------\n",
      "out : ndarray\n",
      "    An array with elements from `x` where `condition` is True, and elements\n",
      "    from `y` elsewhere.\n",
      "\n",
      "See Also\n",
      "--------\n",
      "choose\n",
      "nonzero : The function that is called when x and y are omitted\n",
      "\n",
      "Notes\n",
      "-----\n",
      "If all the arrays are 1-D, `where` is equivalent to::\n",
      "\n",
      "    [xv if c else yv\n",
      "     for c, xv, yv in zip(condition, x, y)]\n",
      "\n",
      "Examples\n",
      "--------\n",
      ">>> a = np.arange(10)\n",
      ">>> a\n",
      "array([0, 1, 2, 3, 4, 5, 6, 7, 8, 9])\n",
      ">>> np.where(a < 5, a, 10*a)\n",
      "array([ 0,  1,  2,  3,  4, 50, 60, 70, 80, 90])\n",
      "\n",
      "This can be used on multidimensional arrays too:\n",
      "\n",
      ">>> np.where([[True, False], [True, True]],\n",
      "...          [[1, 2], [3, 4]],\n",
      "...          [[9, 8], [7, 6]])\n",
      "array([[1, 8],\n",
      "       [3, 4]])\n",
      "\n",
      "The shapes of x, y, and the condition are broadcast together:\n",
      "\n",
      ">>> x, y = np.ogrid[:3, :4]\n",
      ">>> np.where(x < y, x, 10 + y)  # both x and 10+y are broadcast\n",
      "array([[10,  0,  0,  0],\n",
      "       [10, 11,  1,  1],\n",
      "       [10, 11, 12,  2]])\n",
      "\n",
      ">>> a = np.array([[0, 1, 2],\n",
      "...               [0, 2, 4],\n",
      "...               [0, 3, 6]])\n",
      ">>> np.where(a < 4, a, -1)  # -1 is broadcast\n",
      "array([[ 0,  1,  2],\n",
      "       [ 0,  2, -1],\n",
      "       [ 0,  3, -1]])\n"
     ]
    }
   ],
   "source": [
    "np.info(np.where)"
   ]
  },
  {
   "cell_type": "markdown",
   "id": "56be1f05",
   "metadata": {},
   "source": [
    "#### 30. How to find common values between two arrays? (★☆☆)"
   ]
  },
  {
   "cell_type": "code",
   "execution_count": 227,
   "id": "62eeedc0",
   "metadata": {},
   "outputs": [
    {
     "data": {
      "text/plain": [
       "array([5, 6, 7, 8, 9])"
      ]
     },
     "execution_count": 227,
     "metadata": {},
     "output_type": "execute_result"
    }
   ],
   "source": [
    "a = np.arange(10).reshape(2, -1)\n",
    "b = np.arange(5, 21)[::-1].reshape(2, -1)\n",
    "\n",
    "np.intersect1d(a, b)"
   ]
  },
  {
   "cell_type": "markdown",
   "id": "7d07be98",
   "metadata": {},
   "source": [
    "intersect1d는 교집합의 개념으로 생각하자.\n",
    "\n",
    "따라서 순서가 달라도 그 안에 있는 같은 값이 있으면 출력한다.\n",
    "\n",
    "1d라는 것은 출력값을 의미하는 것, 위처럼 다차원 array일 경우에도 공통값을 뽑아준다."
   ]
  },
  {
   "cell_type": "markdown",
   "id": "83567c5c",
   "metadata": {},
   "source": [
    "#### 31. How to ignore all numpy warnings (not recommended)? (★☆☆)"
   ]
  },
  {
   "cell_type": "code",
   "execution_count": 261,
   "id": "fa02b423",
   "metadata": {},
   "outputs": [],
   "source": [
    "with np.errstate(all='ignore'):\n",
    "    np.array(2) // 0"
   ]
  },
  {
   "cell_type": "code",
   "execution_count": 262,
   "id": "01a88356",
   "metadata": {},
   "outputs": [
    {
     "name": "stderr",
     "output_type": "stream",
     "text": [
      "/var/folders/d7/8zsbg3r51rs_vl832mx18q_00000gn/T/ipykernel_5589/1863088232.py:1: RuntimeWarning: divide by zero encountered in floor_divide\n",
      "  np.array(2) // 0\n"
     ]
    },
    {
     "data": {
      "text/plain": [
       "0"
      ]
     },
     "execution_count": 262,
     "metadata": {},
     "output_type": "execute_result"
    }
   ],
   "source": [
    "np.array(2) // 0 "
   ]
  },
  {
   "cell_type": "markdown",
   "id": "a8436e02",
   "metadata": {},
   "source": [
    "    np.errstate(all = 'ignore')은 warning 창을 띄어주는 것을 막아준다.\n",
    "    \n",
    "주의할 점은 '오류창'을 지워주는 것이 아니다. 에러 창이 나타나는 것은 저 코드를 입력해도 에러 창이 나타난다.\n",
    "\n",
    "warning은 계산은 되는데, 이상하게 계산되는 것에 나타나는 것(예를 들어 0으로 나누는 것)."
   ]
  },
  {
   "cell_type": "markdown",
   "id": "0a7449b6",
   "metadata": {},
   "source": [
    "#### 32. Is the following expressions true? (★☆☆)\n",
    "```python\n",
    "np.sqrt(-1) == np.emath.sqrt(-1)\n",
    "```"
   ]
  },
  {
   "cell_type": "code",
   "execution_count": 213,
   "id": "69eb4456",
   "metadata": {},
   "outputs": [
    {
     "name": "stderr",
     "output_type": "stream",
     "text": [
      "/var/folders/d7/8zsbg3r51rs_vl832mx18q_00000gn/T/ipykernel_5589/244602691.py:1: RuntimeWarning: invalid value encountered in sqrt\n",
      "  np.sqrt(-1) == np.emath.sqrt(-1)\n"
     ]
    },
    {
     "data": {
      "text/plain": [
       "False"
      ]
     },
     "execution_count": 213,
     "metadata": {},
     "output_type": "execute_result"
    }
   ],
   "source": [
    "np.sqrt(-1) == np.emath.sqrt(-1)"
   ]
  },
  {
   "cell_type": "code",
   "execution_count": 215,
   "id": "7dcae494",
   "metadata": {},
   "outputs": [
    {
     "name": "stderr",
     "output_type": "stream",
     "text": [
      "/var/folders/d7/8zsbg3r51rs_vl832mx18q_00000gn/T/ipykernel_5589/357378591.py:1: RuntimeWarning: invalid value encountered in sqrt\n",
      "  np.sqrt(-1) # np.sqrt에서 negative value를 넣으면 출력되지 않는다.\n"
     ]
    },
    {
     "data": {
      "text/plain": [
       "nan"
      ]
     },
     "execution_count": 215,
     "metadata": {},
     "output_type": "execute_result"
    }
   ],
   "source": [
    "np.sqrt(-1) # np.sqrt에서 negative value를 넣으면 출력되지 않는다."
   ]
  },
  {
   "cell_type": "code",
   "execution_count": 217,
   "id": "154f9403",
   "metadata": {},
   "outputs": [
    {
     "data": {
      "text/plain": [
       "1j"
      ]
     },
     "execution_count": 217,
     "metadata": {},
     "output_type": "execute_result"
    }
   ],
   "source": [
    "np.emath.sqrt(-1) # np.emath.sqrt는 negative value를 넣으면 허수값이 출력된다."
   ]
  },
  {
   "cell_type": "markdown",
   "id": "e51377b9",
   "metadata": {},
   "source": [
    "numpy의 공식 설명에도\n",
    "\n",
    "    np.sqrt와 np.emath.sqrt는 양수 범위에서는 똑같은 값을 출력하지만, 음수 값을 넣을 때 np.emath.sqrt를 활용해야 한다\n",
    "\n",
    "라고 적혀있다."
   ]
  },
  {
   "cell_type": "markdown",
   "id": "9d434219",
   "metadata": {},
   "source": [
    "#### 33. How to get the dates of yesterday, today and tomorrow? (★☆☆)"
   ]
  },
  {
   "cell_type": "code",
   "execution_count": 229,
   "id": "0b192943",
   "metadata": {},
   "outputs": [
    {
     "data": {
      "text/plain": [
       "numpy.datetime64('2023-01-12')"
      ]
     },
     "execution_count": 229,
     "metadata": {},
     "output_type": "execute_result"
    }
   ],
   "source": [
    "np.datetime64('today')"
   ]
  },
  {
   "cell_type": "code",
   "execution_count": 231,
   "id": "020aa593",
   "metadata": {},
   "outputs": [
    {
     "data": {
      "text/plain": [
       "numpy.datetime64('2023-01-13')"
      ]
     },
     "execution_count": 231,
     "metadata": {},
     "output_type": "execute_result"
    }
   ],
   "source": [
    "np.datetime64('today') + timedelta64(1)"
   ]
  },
  {
   "cell_type": "code",
   "execution_count": 233,
   "id": "3f7106b8",
   "metadata": {},
   "outputs": [
    {
     "data": {
      "text/plain": [
       "numpy.datetime64('2023-01-11')"
      ]
     },
     "execution_count": 233,
     "metadata": {},
     "output_type": "execute_result"
    }
   ],
   "source": [
    "np.datetime64('today') - timedelta64(1)"
   ]
  },
  {
   "cell_type": "markdown",
   "id": "2f1b9ba8",
   "metadata": {},
   "source": [
    "    np.datetime64('today')를 이용해 오늘 날짜를 뽑아낼 수 있다.\n",
    "    \n",
    "    주의해야 할 점은 timedelta64를 통해 날짜 계산을 해야 한다는 것. 날짜는 dtype이 np.datetime64이다. integer이나 float처럼 생각하면 안된다.\n",
    "    \n",
    "    numpy 말고도 datetime을 불러와서도 수행할 수 있다."
   ]
  },
  {
   "cell_type": "code",
   "execution_count": 238,
   "id": "98061662",
   "metadata": {},
   "outputs": [
    {
     "data": {
      "text/plain": [
       "datetime.datetime(2023, 1, 12, 22, 26, 28, 926305)"
      ]
     },
     "execution_count": 238,
     "metadata": {},
     "output_type": "execute_result"
    }
   ],
   "source": [
    "from datetime import *\n",
    "\n",
    "datetime.today()"
   ]
  },
  {
   "cell_type": "code",
   "execution_count": 239,
   "id": "8d24d851",
   "metadata": {},
   "outputs": [
    {
     "data": {
      "text/plain": [
       "datetime.datetime(2023, 1, 13, 22, 26, 41, 790883)"
      ]
     },
     "execution_count": 239,
     "metadata": {},
     "output_type": "execute_result"
    }
   ],
   "source": [
    "datetime.today() + timedelta(1)"
   ]
  },
  {
   "cell_type": "code",
   "execution_count": 242,
   "id": "d27b7df1",
   "metadata": {
    "scrolled": true
   },
   "outputs": [
    {
     "data": {
      "text/plain": [
       "datetime.datetime(2023, 1, 11, 22, 27, 7, 665539)"
      ]
     },
     "execution_count": 242,
     "metadata": {},
     "output_type": "execute_result"
    }
   ],
   "source": [
    "datetime.today() - timedelta(1)"
   ]
  },
  {
   "cell_type": "markdown",
   "id": "28cc99f0",
   "metadata": {},
   "source": [
    "넘파이가 출력하는 yyyy-mm-dd 형식이 싫을 때는 datetime에서 숫자를 가져와서 재조직해보자."
   ]
  },
  {
   "cell_type": "markdown",
   "id": "b0e44339",
   "metadata": {},
   "source": [
    "#### 34. How to get all the dates corresponding to the month of July 2016? (★★☆)"
   ]
  },
  {
   "cell_type": "code",
   "execution_count": null,
   "id": "8bf7daa6",
   "metadata": {},
   "outputs": [],
   "source": []
  },
  {
   "cell_type": "markdown",
   "id": "f9b3c24a",
   "metadata": {},
   "source": [
    "#### 35. How to compute ((A+B)*(-A/2)) in place (without copy)? (★★☆)"
   ]
  },
  {
   "cell_type": "code",
   "execution_count": null,
   "id": "40da18c9",
   "metadata": {},
   "outputs": [],
   "source": []
  },
  {
   "cell_type": "markdown",
   "id": "cbb64ee9",
   "metadata": {},
   "source": [
    "#### 36. Extract the integer part of a random array of positive numbers using 4 different methods (★★☆)"
   ]
  },
  {
   "cell_type": "code",
   "execution_count": 2,
   "id": "f83748bd",
   "metadata": {},
   "outputs": [
    {
     "data": {
      "text/plain": [
       "array([1.13030594, 0.13651564, 3.1249999 , 1.00463731, 0.34178531,\n",
       "       0.90264776, 0.19188975, 0.81227439, 0.84125742, 1.05616705,\n",
       "       1.30452795, 0.55073788, 0.72040333, 0.054368  , 0.06118264])"
      ]
     },
     "execution_count": 2,
     "metadata": {},
     "output_type": "execute_result"
    }
   ],
   "source": [
    "sample = np.random.randn(5,5)\n",
    "\n",
    "# 첫 번째 method\n",
    "\n",
    "sample[sample >= 0]"
   ]
  },
  {
   "cell_type": "code",
   "execution_count": 3,
   "id": "f210a85b",
   "metadata": {},
   "outputs": [
    {
     "data": {
      "text/plain": [
       "array([1.13030594, 0.13651564, 3.1249999 , 1.00463731, 0.34178531,\n",
       "       0.90264776, 0.19188975, 0.81227439, 0.84125742, 1.05616705,\n",
       "       1.30452795, 0.55073788, 0.72040333, 0.054368  , 0.06118264])"
      ]
     },
     "execution_count": 3,
     "metadata": {},
     "output_type": "execute_result"
    }
   ],
   "source": [
    "# 두 번째 method\n",
    "\n",
    "sample[np.where(sample >= 0)]"
   ]
  },
  {
   "cell_type": "code",
   "execution_count": 15,
   "id": "47f56743",
   "metadata": {
    "scrolled": false
   },
   "outputs": [
    {
     "data": {
      "text/plain": [
       "array([1.13030594, 0.13651564, 3.1249999 , 1.00463731, 0.34178531,\n",
       "       0.90264776, 0.19188975, 0.81227439, 0.84125742, 1.05616705,\n",
       "       1.30452795, 0.55073788, 0.72040333, 0.054368  , 0.06118264])"
      ]
     },
     "execution_count": 15,
     "metadata": {},
     "output_type": "execute_result"
    }
   ],
   "source": [
    "# 세 번째 method\n",
    "sample_positive = []\n",
    "\n",
    "for i in range(5):\n",
    "    for j in range(5):\n",
    "        if sample[i,j] >= 0:\n",
    "            sample_positive.append(sample[i, j])\n",
    "        else:\n",
    "            continue\n",
    "\n",
    "np.array(sample_positive)"
   ]
  },
  {
   "cell_type": "code",
   "execution_count": null,
   "id": "4a9855e5",
   "metadata": {},
   "outputs": [],
   "source": [
    "# 네 번째 method"
   ]
  },
  {
   "cell_type": "markdown",
   "id": "8418e1e4",
   "metadata": {},
   "source": [
    "#### 37. Create a 5x5 matrix with row values ranging from 0 to 4 (★★☆)"
   ]
  },
  {
   "cell_type": "code",
   "execution_count": 22,
   "id": "08e726e4",
   "metadata": {},
   "outputs": [
    {
     "data": {
      "text/plain": [
       "array([[0., 1., 2., 3., 4.],\n",
       "       [0., 1., 2., 3., 4.],\n",
       "       [0., 1., 2., 3., 4.],\n",
       "       [0., 1., 2., 3., 4.],\n",
       "       [0., 1., 2., 3., 4.]])"
      ]
     },
     "execution_count": 22,
     "metadata": {},
     "output_type": "execute_result"
    }
   ],
   "source": [
    "zero_matrix = np.zeros((5,5))\n",
    "zero_matrix += np.arange(0, 5, 1)\n",
    "zero_matrix"
   ]
  },
  {
   "cell_type": "markdown",
   "id": "a8420e2c",
   "metadata": {},
   "source": [
    "#### 38. Consider a generator function that generates 10 integers and use it to build an array (★☆☆)"
   ]
  },
  {
   "cell_type": "code",
   "execution_count": 72,
   "id": "c58e77ad",
   "metadata": {},
   "outputs": [
    {
     "data": {
      "text/plain": [
       "array([0, 1, 2, 3, 4, 5, 6, 7, 8, 9])"
      ]
     },
     "execution_count": 72,
     "metadata": {},
     "output_type": "execute_result"
    }
   ],
   "source": [
    "def generate(size):\n",
    "    x = np.arange(0, size, 1).astype('int')\n",
    "    return np.array(x)\n",
    "\n",
    "generate(10)"
   ]
  },
  {
   "cell_type": "markdown",
   "id": "deab3e77",
   "metadata": {},
   "source": [
    "#### 39. Create a vector of size 10 with values ranging from 0 to 1, both excluded (★★☆)"
   ]
  },
  {
   "cell_type": "code",
   "execution_count": 24,
   "id": "2c5fafc8",
   "metadata": {},
   "outputs": [
    {
     "data": {
      "text/plain": [
       "array([0.95383221, 0.22494338, 0.64322796, 0.20150415, 0.81634796,\n",
       "       0.9982158 , 0.10505279, 0.27558441, 0.52918131, 0.24013445])"
      ]
     },
     "execution_count": 24,
     "metadata": {},
     "output_type": "execute_result"
    }
   ],
   "source": [
    "vec = np.random.uniform(0, 1, 10)\n",
    "vec"
   ]
  },
  {
   "cell_type": "code",
   "execution_count": 30,
   "id": "3968a320",
   "metadata": {},
   "outputs": [
    {
     "data": {
      "text/plain": [
       "array([0.09090909, 0.18181818, 0.27272727, 0.36363636, 0.45454545,\n",
       "       0.54545455, 0.63636364, 0.72727273, 0.81818182, 0.90909091])"
      ]
     },
     "execution_count": 30,
     "metadata": {},
     "output_type": "execute_result"
    }
   ],
   "source": [
    "Z = np.linspace(0,1,11,endpoint=False)[1:]\n",
    "Z"
   ]
  },
  {
   "cell_type": "markdown",
   "id": "5bb5de9c",
   "metadata": {},
   "source": [
    "#### 40. Create a random vector of size 10 and sort it (★★☆)"
   ]
  },
  {
   "cell_type": "code",
   "execution_count": 8,
   "id": "b9916965",
   "metadata": {},
   "outputs": [],
   "source": [
    "random_vector = np.random.randn(10)\n",
    "asc = sorted(random_vector) # 오름차순\n",
    "desc = sorted(random_vector, reverse=True) # 내림차순"
   ]
  },
  {
   "cell_type": "code",
   "execution_count": 15,
   "id": "dd04b87b",
   "metadata": {},
   "outputs": [
    {
     "name": "stdout",
     "output_type": "stream",
     "text": [
      "[-2.4916459331983476, -1.5670358226807273, -1.4384555351355817, -1.3603124535669717, -1.2408391702051247, -0.8216314005578755, 0.6001684892127097, 0.8349351445775134, 0.8979330994272304, 1.1476601352963238] \n",
      " ------------------------------------------------------------------- \n",
      " [1.1476601352963238, 0.8979330994272304, 0.8349351445775134, 0.6001684892127097, -0.8216314005578755, -1.2408391702051247, -1.3603124535669717, -1.4384555351355817, -1.5670358226807273, -2.4916459331983476]\n"
     ]
    }
   ],
   "source": [
    "print(asc, '\\n ------------------------------------------------------------------- \\n', desc)"
   ]
  },
  {
   "cell_type": "markdown",
   "id": "ebc8ad64",
   "metadata": {},
   "source": [
    "#### 41. How to sum a small array faster than np.sum? (★★☆)"
   ]
  },
  {
   "cell_type": "code",
   "execution_count": 46,
   "id": "e7ac9923",
   "metadata": {},
   "outputs": [
    {
     "data": {
      "text/plain": [
       "-2.3507415892259216"
      ]
     },
     "execution_count": 46,
     "metadata": {},
     "output_type": "execute_result"
    }
   ],
   "source": [
    "array_1 = np.random.randn(3)\n",
    "\n",
    "# np.sum\n",
    "np.sum(array_1)"
   ]
  },
  {
   "cell_type": "code",
   "execution_count": 47,
   "id": "6783afc7",
   "metadata": {},
   "outputs": [
    {
     "data": {
      "text/plain": [
       "-2.3507415892259216"
      ]
     },
     "execution_count": 47,
     "metadata": {},
     "output_type": "execute_result"
    }
   ],
   "source": [
    "# 다른 방법\n",
    "np.add.reduce(array_1)"
   ]
  },
  {
   "cell_type": "markdown",
   "id": "2645b4cb",
   "metadata": {},
   "source": [
    "small array일 경우 np.add.reduce가 더 빠르다."
   ]
  },
  {
   "cell_type": "markdown",
   "id": "4abfb753",
   "metadata": {},
   "source": [
    "#### 42. Consider two random array A and B, check if they are equal (★★☆)"
   ]
  },
  {
   "cell_type": "code",
   "execution_count": 63,
   "id": "d265b5f6",
   "metadata": {},
   "outputs": [
    {
     "data": {
      "text/plain": [
       "array([[False,  True],\n",
       "       [ True,  True],\n",
       "       [False,  True],\n",
       "       [False, False]])"
      ]
     },
     "execution_count": 63,
     "metadata": {},
     "output_type": "execute_result"
    }
   ],
   "source": [
    "A = np.random.randint(0, 2, 8).reshape(4,2)\n",
    "B = np.random.randint(0, 2, 8).reshape(4,2)\n",
    "A # 0부터 2의 range에서 random한 integer을 출력한다. range처럼 끝은 안들어가니 주의.\n",
    "\n",
    "np.equal(A, B) # 원소들이 같은지 확인"
   ]
  },
  {
   "cell_type": "code",
   "execution_count": 65,
   "id": "b7bd8ffb",
   "metadata": {},
   "outputs": [
    {
     "data": {
      "text/plain": [
       "False"
      ]
     },
     "execution_count": 65,
     "metadata": {},
     "output_type": "execute_result"
    }
   ],
   "source": [
    "np.array_equal(A,B) # 배열 자체가 같은지는 np.array_equal 확인"
   ]
  },
  {
   "cell_type": "markdown",
   "id": "c8fad2be",
   "metadata": {},
   "source": [
    "#### 43. Make an array immutable (read-only) (★★☆)"
   ]
  },
  {
   "cell_type": "code",
   "execution_count": 123,
   "id": "cadce095",
   "metadata": {},
   "outputs": [
    {
     "ename": "ValueError",
     "evalue": "assignment destination is read-only",
     "output_type": "error",
     "traceback": [
      "\u001b[0;31m---------------------------------------------------------------------------\u001b[0m",
      "\u001b[0;31mValueError\u001b[0m                                Traceback (most recent call last)",
      "Input \u001b[0;32mIn [123]\u001b[0m, in \u001b[0;36m<cell line: 3>\u001b[0;34m()\u001b[0m\n\u001b[1;32m      1\u001b[0m imm \u001b[38;5;241m=\u001b[39m np\u001b[38;5;241m.\u001b[39mrandom\u001b[38;5;241m.\u001b[39mrandint(\u001b[38;5;241m0\u001b[39m, \u001b[38;5;241m11\u001b[39m, \u001b[38;5;241m10\u001b[39m)\n\u001b[1;32m      2\u001b[0m imm\u001b[38;5;241m.\u001b[39mflags\u001b[38;5;241m.\u001b[39mwriteable \u001b[38;5;241m=\u001b[39m \u001b[38;5;28;01mFalse\u001b[39;00m\n\u001b[0;32m----> 3\u001b[0m \u001b[43mimm\u001b[49m\u001b[43m[\u001b[49m\u001b[38;5;241;43m1\u001b[39;49m\u001b[43m]\u001b[49m \u001b[38;5;241m=\u001b[39m \u001b[38;5;241m3\u001b[39m\n",
      "\u001b[0;31mValueError\u001b[0m: assignment destination is read-only"
     ]
    }
   ],
   "source": [
    "imm = np.random.randint(0, 11, 10)\n",
    "imm.flags.writeable = False\n",
    "imm[1] = 3 # read_only일 경우 직접적인 수정이 불가"
   ]
  },
  {
   "cell_type": "markdown",
   "id": "91b25fb1",
   "metadata": {},
   "source": [
    "#### 44. Consider a random 10x2 matrix representing cartesian coordinates, convert them to polar coordinates (★★☆)"
   ]
  },
  {
   "cell_type": "code",
   "execution_count": null,
   "id": "3f5fb344",
   "metadata": {},
   "outputs": [],
   "source": []
  },
  {
   "cell_type": "markdown",
   "id": "7e4116bc",
   "metadata": {},
   "source": [
    "#### 45. Create random vector of size 10 and replace the maximum value by 0 (★★☆)"
   ]
  },
  {
   "cell_type": "code",
   "execution_count": 126,
   "id": "b4e895f6",
   "metadata": {},
   "outputs": [
    {
     "data": {
      "text/plain": [
       "0.9995256538652486"
      ]
     },
     "execution_count": 126,
     "metadata": {},
     "output_type": "execute_result"
    }
   ],
   "source": [
    "rd_45 = np.random.randn(10)\n",
    "np.max(rd_45)"
   ]
  },
  {
   "cell_type": "code",
   "execution_count": 127,
   "id": "d1a7a141",
   "metadata": {},
   "outputs": [
    {
     "data": {
      "text/plain": [
       "array([-0.8159856 ,  0.16657482, -1.7058031 ,  0.        , -1.16908818,\n",
       "        0.53760518, -0.05083524,  0.32056594, -1.16590078, -1.90184222])"
      ]
     },
     "execution_count": 127,
     "metadata": {},
     "output_type": "execute_result"
    }
   ],
   "source": [
    "rd_45[np.argmax(rd_45)] = 0\n",
    "rd_45"
   ]
  },
  {
   "cell_type": "markdown",
   "id": "f5b68c55",
   "metadata": {},
   "source": [
    "#### 46. Create a structured array with `x` and `y` coordinates covering the [0,1]x[0,1] area (★★☆)"
   ]
  },
  {
   "cell_type": "code",
   "execution_count": 140,
   "id": "32fd3691",
   "metadata": {},
   "outputs": [
    {
     "data": {
      "text/plain": [
       "array([0. , 0.1, 0.2, 0.3, 0.4, 0.5, 0.6, 0.7, 0.8, 0.9])"
      ]
     },
     "execution_count": 140,
     "metadata": {},
     "output_type": "execute_result"
    }
   ],
   "source": [
    "np.arange(0, 1, step = 0.1)"
   ]
  },
  {
   "cell_type": "markdown",
   "id": "378bc4e9",
   "metadata": {},
   "source": [
    "#### 47. Given two arrays, X and Y, construct the Cauchy matrix C (Cij =1/(xi - yj)) (★★☆)"
   ]
  },
  {
   "cell_type": "code",
   "execution_count": 162,
   "id": "43282e51",
   "metadata": {
    "scrolled": true
   },
   "outputs": [
    {
     "data": {
      "text/plain": [
       "array([[-2.94145503,  1.85245613, -1.06644151,  0.60493115,  0.77313798],\n",
       "       [ 0.64664292,  0.55467802, 15.84202963, -0.63806442, -0.50063226],\n",
       "       [ 1.34957354,  1.31720495, -1.66668469,  1.11937771,  2.85163394],\n",
       "       [ 1.50806635, -0.55486473,  0.60230974, -0.59523225, -1.00152497],\n",
       "       [-3.03627938,  4.93573531,  1.05603576,  3.9256971 , -0.4972993 ]])"
      ]
     },
     "execution_count": 162,
     "metadata": {},
     "output_type": "execute_result"
    }
   ],
   "source": [
    "X = np.random.randn(5,5)\n",
    "Y = np.random.randn(5,5)\n",
    "base = np.zeros((5,5))\n",
    "\n",
    "base += 1 / (X - Y)\n",
    "\n",
    "base"
   ]
  },
  {
   "cell_type": "markdown",
   "id": "bc656b07",
   "metadata": {},
   "source": [
    "이게 아니라.."
   ]
  },
  {
   "cell_type": "code",
   "execution_count": 163,
   "id": "b6c97871",
   "metadata": {},
   "outputs": [
    {
     "name": "stdout",
     "output_type": "stream",
     "text": [
      "[[-10609.58331029   2547.10554725   -747.26358172    109.29617879\n",
      "   -3614.45391024]\n",
      " [ -3773.27920922  57575.40135477  -2663.49165455 -11102.58038435\n",
      "    -780.50156317]\n",
      " [   865.41963867   1916.35808472   6660.55904097   1595.22513494\n",
      "   10980.05833044]\n",
      " [  -819.18253179 -12259.49883785     96.0027035    -101.54700919\n",
      "   -3124.04224326]\n",
      " [ -3089.14118297 -22082.89204669   1784.34667787  -5238.48423259\n",
      "   40430.25767076]]\n"
     ]
    }
   ],
   "source": [
    "C = 1.0 / np.subtract.outer(X, Y)\n",
    "print(np.linalg.det(C))"
   ]
  },
  {
   "cell_type": "markdown",
   "id": "54ef0f50",
   "metadata": {},
   "source": [
    "np.outer는 두 벡터의 외부 요소들을 계산한다.\n",
    "\n",
    "따라서 np.subtract.outer(X, Y)는 X와 Y의 외부 차를 계산하며, 여기서 det 값을 꺼내면 cauchy matrix가 만들어진다."
   ]
  },
  {
   "cell_type": "markdown",
   "id": "7f45d2f9",
   "metadata": {},
   "source": [
    "#### 48. Print the minimum and maximum representable value for each numpy scalar type (★★☆)"
   ]
  },
  {
   "cell_type": "code",
   "execution_count": 167,
   "id": "a7f37b9e",
   "metadata": {},
   "outputs": [
    {
     "name": "stdout",
     "output_type": "stream",
     "text": [
      "-128\n",
      "127\n",
      "-2147483648\n",
      "2147483647\n",
      "-9223372036854775808\n",
      "9223372036854775807\n",
      "-3.4028235e+38\n",
      "3.4028235e+38\n",
      "-1.7976931348623157e+308\n",
      "1.7976931348623157e+308\n"
     ]
    }
   ],
   "source": [
    "for dtype in [np.int8, np.int32, np.int64]:\n",
    "    print(np.iinfo(dtype).min)\n",
    "    print(np.iinfo(dtype).max)\n",
    "for dtype in [np.float32, np.float64]:\n",
    "    print(np.finfo(dtype).min)\n",
    "    print(np.finfo(dtype).max)"
   ]
  },
  {
   "cell_type": "markdown",
   "id": "f1ede2ef",
   "metadata": {},
   "source": [
    "1. np.iinfo()를 활용한다.\n",
    "\n",
    "2. np.iinfo(dtype)은 dtype의 limit을 불러올 수 있는 함수이다. 따라서 여기서 min과 max를 입력한다면 각 dtype별 최대와 최소값을 얻을 수 있다."
   ]
  },
  {
   "cell_type": "markdown",
   "id": "1d269f07",
   "metadata": {},
   "source": [
    "#### 49. How to print all the values of an array? (★★☆)"
   ]
  },
  {
   "cell_type": "code",
   "execution_count": 177,
   "id": "fde90b07",
   "metadata": {},
   "outputs": [
    {
     "name": "stdout",
     "output_type": "stream",
     "text": [
      "[[-2.89053199e-02  6.08006681e-01 -1.59155664e+00 -1.14456986e-01\n",
      "  -6.24190097e-01  5.71424512e-01 -7.10256060e-01  7.51811683e-01\n",
      "   3.78609217e-01  1.86934156e+00 -5.41135836e-03 -6.24688058e-02\n",
      "   2.74315462e-01  1.21055498e+00 -1.07329802e+00 -1.59842859e+00\n",
      "   1.28396535e+00 -1.94339150e+00 -1.53141231e-02  9.81389213e-01\n",
      "   2.79220393e+00  2.50361272e+00 -1.15147791e+00 -1.75032788e+00\n",
      "   6.58880476e-02 -5.20070293e-01  3.34058280e-01 -8.10919062e-02\n",
      "  -1.11455450e-01 -3.30237122e-01 -2.54345811e+00  1.26428393e+00\n",
      "   1.16197167e+00 -3.66268111e+00 -1.62302688e-01 -1.65755971e-01\n",
      "   6.17052457e-01  8.26367368e-02  5.43524550e-02  9.85425067e-02\n",
      "  -1.19006780e+00  8.21278857e-01  3.80698394e-01 -7.28994917e-01\n",
      "  -2.49315109e-01 -1.02493912e-02 -8.39632434e-01 -1.12631597e+00\n",
      "  -1.40271310e+00 -9.10391067e-01]\n",
      " [-1.19477922e+00  5.46698351e-02 -5.70223770e-01  1.81359368e-01\n",
      "   1.76478474e+00 -1.68118059e+00  2.82806053e-01  6.03629705e-01\n",
      "   1.76660097e+00  4.22783432e-01  1.03941469e+00  3.16349158e-01\n",
      "  -1.60892599e+00  2.86545557e-01  1.47523878e+00  9.24207091e-01\n",
      "  -1.06689802e+00  1.30767926e+00  1.15002904e+00 -1.15032717e-01\n",
      "   2.06568663e-01 -6.56405687e-01  8.00929379e-01 -7.86109893e-01\n",
      "  -6.14110348e-01  1.59656218e+00 -8.05631616e-01  7.14540064e-01\n",
      "  -1.45141186e-01 -6.81702691e-02 -7.22398130e-01 -6.57964352e-01\n",
      "   5.66537881e-01 -9.14367650e-01 -1.03695958e+00 -1.30471331e+00\n",
      "  -1.20932000e+00  1.19067716e+00 -1.11035503e+00  3.79079082e-01\n",
      "  -1.03545716e+00 -2.63105405e+00 -8.63759018e-02  9.72002424e-01\n",
      "  -5.93923281e-01  2.86524803e-01  6.51924096e-01 -1.04624544e+00\n",
      "   1.30594015e+00 -1.30229497e+00]\n",
      " [ 1.32199578e-01 -3.98089369e-01  6.89548723e-01 -7.35658350e-01\n",
      "   3.15854272e-02 -1.23914025e+00 -9.36182879e-01  2.83213740e-01\n",
      "  -3.81952117e-02  1.08757588e+00 -1.03910826e+00 -1.53957459e-01\n",
      "   9.91996428e-01 -4.40672722e-01 -3.97509467e-01  5.78364969e-01\n",
      "  -6.44921236e-01 -1.85484686e+00 -9.36828647e-01 -6.65233387e-01\n",
      "   3.47640368e-01 -4.64580113e-01 -2.40488465e-01 -2.67466025e-01\n",
      "  -1.13218389e+00 -4.25534843e-01  1.19568438e+00  1.46750420e+00\n",
      "   1.04029429e+00  1.02878450e+00  4.58561705e-01  7.62289531e-02\n",
      "  -5.83921491e-01  1.68261431e-01 -5.42127153e-01  1.63579273e+00\n",
      "  -4.02785804e-01 -1.53319528e+00 -1.00241621e+00  3.44412118e-01\n",
      "   8.59066722e-01 -1.98644893e-01 -9.53409327e-01 -9.42600808e-01\n",
      "  -4.90045628e-01  1.34412766e-01  4.51273481e-01 -1.30158744e+00\n",
      "   4.96110297e-01  2.01329653e-01]\n",
      " [ 6.15420438e-01 -2.26117818e+00 -2.60117575e-01 -1.30077904e+00\n",
      "  -6.43310779e-02 -2.72471585e-01  7.81208496e-01  2.48590602e+00\n",
      "   1.24212078e+00 -1.69005928e+00 -1.47715120e+00 -2.19620594e-01\n",
      "   6.27266836e-01  6.85258292e-01 -1.71482241e+00 -1.86621989e-01\n",
      "   1.48178455e+00  1.55577884e+00 -9.72532235e-01 -7.55728670e-01\n",
      "   8.11146078e-02 -2.73737798e-01  1.55868345e+00 -6.19248647e-01\n",
      "  -7.34117009e-01 -1.12781276e+00 -1.21126266e-01  4.49605794e-02\n",
      "   1.43034982e+00  2.79767388e+00 -5.01121139e-01 -5.28157393e-01\n",
      "   6.30339364e-01  1.16992597e+00  4.90655187e-02  1.00711536e+00\n",
      "   1.15254506e-01 -7.91620937e-01  1.86808063e-01 -1.05027341e+00\n",
      "  -7.98564362e-01 -1.63004022e+00 -1.42331530e+00 -9.46263920e-01\n",
      "  -1.61676954e+00  2.44208397e+00 -8.72630256e-01  1.25256170e+00\n",
      "  -8.62064998e-01  7.51786712e-01]\n",
      " [ 6.71335792e-01 -6.95798282e-01  1.14500816e+00 -3.22804974e-01\n",
      "   4.06906073e-01 -4.10401892e-02 -1.17373402e-01 -2.15398141e-01\n",
      "   2.14149011e-02 -3.26791393e-01 -7.63738882e-01 -3.72845924e-01\n",
      "   4.56790181e-01 -2.01502921e-01 -6.06509009e-01  3.62405286e-01\n",
      "   1.14022157e-02  7.79822739e-01  7.66881373e-01  2.62375484e-01\n",
      "  -1.71438009e+00  1.98443040e-01 -1.89477034e-01  2.97132249e-01\n",
      "  -3.85184357e-01 -1.42987930e+00 -1.78317504e-01 -1.70387443e+00\n",
      "  -6.53713823e-02 -1.41560640e+00  8.43044771e-01  6.95887461e-01\n",
      "   1.37277005e+00 -1.05330108e+00 -1.74770887e-01  4.01217570e-01\n",
      "  -1.09442893e+00  1.15859391e+00  6.95656097e-01 -5.15836123e-01\n",
      "  -1.59106459e+00 -2.83241410e-01  7.47350643e-01 -6.53050485e-01\n",
      "   9.07703893e-01  5.65617156e-01  1.72912747e-01  4.74785647e-01\n",
      "   1.81355332e-01 -1.92068262e+00]\n",
      " [-1.15551694e+00 -3.94996270e-02  8.57218472e-01 -4.58537579e-02\n",
      "  -7.86452448e-01 -3.29681470e-01 -1.36177920e+00 -5.32436947e-01\n",
      "   1.97438972e-01 -6.11028705e-01  1.05156734e+00 -6.79708645e-03\n",
      "  -1.88696795e-01 -8.36524589e-01  1.00232610e+00 -6.64186062e-01\n",
      "  -4.62817453e-01 -1.11284623e+00  9.42805228e-02 -3.43745262e-02\n",
      "   9.51804023e-01 -2.96984169e-01 -9.24643170e-01 -3.01855972e-01\n",
      "  -1.75362109e+00  9.94572281e-01  2.38441371e-01 -4.20072784e-01\n",
      "  -1.60658496e+00  3.16257621e-01  4.55636738e-01  1.52330939e+00\n",
      "  -1.06892039e+00 -2.79065481e-01  4.92347984e-01 -5.05405546e-02\n",
      "  -1.14752530e-01 -1.98995764e+00 -9.48357960e-02  1.15851401e-01\n",
      "   7.53061557e-01  7.38570530e-02 -1.85765215e+00  1.28582864e+00\n",
      "  -5.78554325e-01 -1.55714843e-01 -3.17430223e-01 -2.86184681e-01\n",
      "  -3.45981261e-01  8.39262032e-01]\n",
      " [-1.09963008e+00 -1.02573195e+00 -8.82506054e-02  1.29023012e+00\n",
      "   1.17720395e+00 -1.34510850e+00  1.30903201e+00 -4.36987756e-01\n",
      "  -5.30631541e-01  4.76237815e-01 -1.61668065e-01 -7.29961530e-01\n",
      "  -9.13481353e-01  2.97542826e-01  3.17518844e-01  3.13249173e-01\n",
      "  -6.78534588e-01 -2.43969588e-01  9.52708016e-01 -1.12467512e+00\n",
      "   8.26815190e-01 -9.00078913e-03  2.24014743e+00 -4.98102247e-01\n",
      "  -3.25067533e-01  3.54228844e-01  3.98021223e-01  4.89095376e-01\n",
      "   3.02088155e+00 -3.68450697e-01 -1.65248298e+00 -8.20035486e-01\n",
      "  -5.96562756e-01 -7.37506844e-02  3.29119094e-02  2.76298689e+00\n",
      "  -1.52808789e+00  2.18421601e-01  6.09512461e-01 -9.16582629e-01\n",
      "  -4.52863678e-01 -2.33739432e-02  9.77166065e-01 -2.65611054e-01\n",
      "  -1.64611130e-01 -2.78121282e-01 -1.29966025e+00 -1.13682186e-01\n",
      "   1.26335182e-01 -6.11505592e-01]\n",
      " [ 1.40271495e-01  9.98388232e-01 -1.52514664e+00  3.59910283e-01\n",
      "  -6.86019445e-01 -2.50352235e+00 -1.59709167e+00 -2.20924339e+00\n",
      "   1.15788324e+00 -1.22882563e-01  6.66506483e-01 -9.32558904e-01\n",
      "   9.06278037e-01 -1.67756133e-01  1.78152289e-01 -1.50832546e+00\n",
      "   3.49192912e-01 -6.57825386e-01 -2.32718928e-01 -1.96040155e-02\n",
      "  -1.43050584e+00  1.03480322e+00  9.33919560e-01  7.35088994e-01\n",
      "   1.20591880e+00 -7.90987989e-01 -1.06193185e+00  1.10145489e+00\n",
      "   5.01923100e-02 -1.07841071e+00  4.01044076e-01 -1.43696610e+00\n",
      "   3.61602204e-01 -5.91154032e-01 -4.14676782e-02  1.66705774e-01\n",
      "  -5.63435119e-01  4.07519232e-01  4.10211390e-01 -6.44366158e-01\n",
      "  -1.06155095e+00  8.19953763e-01  1.16659509e+00 -2.37986909e-01\n",
      "   1.45948302e+00  3.27374612e-01 -5.91023757e-01  4.23980310e-01\n",
      "   7.63566059e-01 -2.47582019e+00]\n",
      " [-1.44204960e-01 -1.60283460e+00  1.61705492e+00 -1.89746140e-01\n",
      "   1.05856412e-01 -2.18109607e-01  3.64591857e-01 -2.70656877e-01\n",
      "  -1.40140607e+00 -2.20111189e-01 -6.63366055e-01 -8.90008029e-01\n",
      "   2.39409243e+00 -1.05244411e+00  1.01132812e+00 -1.48412236e+00\n",
      "   1.36012986e+00 -2.19610102e-01  3.59822790e-02 -3.82043030e-01\n",
      "  -2.56552570e+00 -3.00499350e-01 -2.19986761e-01 -7.03011203e-01\n",
      "  -4.60175063e-01 -9.71414142e-02  2.67106327e+00 -7.41692438e-01\n",
      "   5.49023991e-01  6.79175088e-01  1.65081985e-01  4.27764512e-01\n",
      "  -3.39132114e-02 -1.30226825e+00 -6.47155098e-01 -1.63902213e+00\n",
      "  -3.56426285e-01 -1.66344294e+00  2.53150788e-01 -8.36872421e-01\n",
      "   6.17475706e-01  1.01504746e+00  1.15162177e+00  2.50218604e+00\n",
      "   1.72597219e+00 -2.66870685e+00  4.71620265e-01  3.35637901e-02\n",
      "   4.66272352e-01 -1.90205223e-01]\n",
      " [ 8.81983299e-01 -8.66437509e-01 -1.62534786e+00 -1.35394370e+00\n",
      "  -1.15697045e+00  1.87694214e+00 -1.14793275e+00  3.14001011e-01\n",
      "  -6.27395665e-01  1.27561959e-01 -3.20214723e-01 -7.67041166e-01\n",
      "   7.68972168e-01 -1.95166824e+00 -1.14346846e+00  3.18677891e-01\n",
      "   6.57907134e-01 -1.87614195e+00 -3.36302706e-02  8.73370396e-01\n",
      "   1.58932143e+00  4.22852966e-01 -5.67150772e-02  7.57804001e-01\n",
      "   4.00498734e-01 -6.67795556e-01  6.12181578e-01 -1.02836308e+00\n",
      "   1.01617579e-02 -4.28171730e-01 -4.26816733e-02  1.37016538e+00\n",
      "  -2.61751291e-02 -2.56074123e-01 -7.37503107e-01  4.11047856e-01\n",
      "  -7.57458743e-01 -4.20546609e-01  4.38636306e-01 -3.98494484e-01\n",
      "   5.67979518e-01 -6.71820318e-01  5.77787067e-01 -4.96300184e-01\n",
      "  -5.25702510e-01  1.04011061e+00 -6.59178989e-01 -6.35767591e-01\n",
      "  -1.78908318e-01 -4.79728154e-01]\n",
      " [-1.91755633e-01 -9.80030357e-01  3.89668459e-01  6.49239828e-01\n",
      "  -2.65029241e+00 -6.05571726e-01  7.93822337e-01 -3.11754040e-01\n",
      "  -6.44855252e-01 -7.99301509e-01  4.17205158e-01 -1.36999676e+00\n",
      "   7.26105282e-01 -8.05550390e-01  3.52565538e-01 -3.55148636e-01\n",
      "   2.01729430e+00 -1.74072334e-01  4.77798979e-01  7.90451264e-02\n",
      "   9.58306205e-01  7.00510295e-01 -7.48200960e-01 -1.59016337e-01\n",
      "  -2.07337379e+00 -2.33249877e-01 -7.61629729e-01 -1.35073856e+00\n",
      "   9.19708015e-01 -1.11432697e-01 -5.55789430e-01  1.15430988e-01\n",
      "  -9.22572434e-01 -2.70284986e-01  8.11377298e-01  1.87172677e+00\n",
      "  -3.59650221e-01 -4.40781018e-01 -8.37722152e-01  2.54471936e+00\n",
      "  -2.82282408e-01  6.96409659e-01 -4.91608822e-01 -5.02588510e-01\n",
      "   2.20300794e+00 -1.52245335e+00  1.15579964e+00 -1.03439733e-01\n",
      "  -3.53380998e-01 -7.38229930e-01]\n",
      " [-1.31693964e+00 -7.63487204e-01  6.44404441e-02  6.46759695e-01\n",
      "   7.27880479e-01  6.33587314e-01  3.22892824e-01 -1.28318931e+00\n",
      "  -1.79886300e+00  1.74573804e-01 -6.20458060e-01  1.11752738e+00\n",
      "   1.68019179e+00  4.93296078e-01 -1.35410735e+00  5.53020325e-01\n",
      "  -1.70364561e+00  1.73498632e+00 -8.30769332e-02 -9.00702255e-01\n",
      "  -3.09579644e-01 -2.10835942e+00 -4.18034580e-01 -7.82399788e-02\n",
      "  -1.25174231e-01  6.56134328e-01  9.86447242e-03  8.36918406e-01\n",
      "   1.10738930e-01  1.35055706e+00  5.74567969e-01 -1.81154731e+00\n",
      "  -5.05557661e-01  1.03121907e+00  1.68053531e-02 -7.53308194e-01\n",
      "  -2.29801680e-01 -1.18333069e+00 -9.10096164e-01  9.94810919e-01\n",
      "   1.40097858e+00 -8.83333241e-01  5.67856810e-01 -1.40410417e+00\n",
      "   3.23316607e-02  6.00718107e-01 -2.28068015e-01 -8.01610098e-01\n",
      "  -3.14832103e-01 -2.70497744e-01]\n",
      " [-7.91021408e-01  1.70950230e+00 -8.80403982e-01  8.78378082e-01\n",
      "  -3.89969697e-01  6.68860067e-01  1.75398256e-01  2.39050562e-01\n",
      "  -4.10018241e-01 -9.06151564e-01 -8.47343861e-02 -2.56928195e-01\n",
      "   1.76407741e+00  9.90078135e-01 -8.74323549e-01 -8.81428887e-01\n",
      "  -6.93817769e-01 -2.02593677e+00  1.51356251e+00  1.01601179e+00\n",
      "   2.97713970e-01  1.53553972e+00  1.44586843e+00 -8.79039600e-02\n",
      "  -7.45333546e-01  1.46507730e-01  4.31147899e-01  1.15266843e+00\n",
      "   7.74474178e-01 -5.39273033e-01 -1.25327168e+00 -1.24289925e+00\n",
      "  -6.74872197e-01 -1.45479617e+00 -1.05934753e-01  1.63594311e+00\n",
      "  -2.29768334e-01  8.23704195e-01 -1.12763505e-01  1.55498196e+00\n",
      "  -6.32821382e-01  1.31741071e+00 -2.07898193e-01 -1.22399898e+00\n",
      "  -1.20698159e+00 -2.13489871e-01  4.40335030e-01  1.45477191e-01\n",
      "   7.42457829e-02 -5.00113963e-01]\n",
      " [ 3.23309956e-01  8.81743830e-01 -3.13324998e-01  5.10585206e-01\n",
      "  -6.17048865e-01 -1.41786540e-01 -2.76666860e-01 -6.82073434e-01\n",
      "  -8.11038022e-01  7.04854512e-01 -1.67043158e+00 -1.61059428e-01\n",
      "   2.94431096e+00 -2.00746580e+00  8.63190652e-01 -1.00999633e+00\n",
      "  -7.42762460e-01  3.47577083e-01 -1.43743986e-02 -6.92591814e-01\n",
      "  -8.14867865e-01  1.58579398e+00  1.82174540e+00  1.71747508e-01\n",
      "  -5.58388758e-01 -4.99200898e-01  6.38276887e-02 -1.27129147e+00\n",
      "   7.87841872e-01 -1.14113291e-01 -7.30095895e-01  4.89933595e-01\n",
      "  -2.31277533e-01 -7.03414497e-01 -6.28783876e-01  1.03176917e+00\n",
      "  -8.57389989e-02 -3.85612346e-01 -7.83022450e-01  3.29619981e-02\n",
      "  -1.66266183e+00 -1.70501427e+00 -8.28083047e-01  2.69604493e-01\n",
      "   5.27844300e-01 -3.04846601e-01  1.30432563e+00 -9.48021941e-02\n",
      "   1.17760834e+00 -2.18143587e-02]\n",
      " [ 4.08402993e-01  9.95591115e-01  1.68954124e+00  7.58408160e-01\n",
      "   4.47232663e-01  2.60655852e-02  4.31716267e-01 -1.91899307e+00\n",
      "  -1.12548655e-01 -6.12545183e-01  5.64035017e-01 -2.68381814e-01\n",
      "   3.19442014e-01  1.33758081e+00 -2.78516901e-01  7.92809269e-01\n",
      "  -4.60309131e-01  6.70830414e-01  1.37914631e+00  9.04347177e-01\n",
      "  -3.99261500e-01  5.69259946e-01 -3.47728815e-01 -6.23543557e-01\n",
      "  -1.09222939e-01  2.28854429e-01  9.38371719e-01  5.37217629e-01\n",
      "  -1.08587301e-01  1.80402851e+00  7.29219861e-01  1.90370538e+00\n",
      "   1.78990001e+00 -2.92677385e+00 -7.59807331e-01 -2.91750216e-01\n",
      "   7.67029087e-01  2.08631997e+00  1.91642199e-01 -9.24755375e-01\n",
      "   3.23348265e-02  3.42907775e-01  9.23301998e-01  1.80026259e+00\n",
      "   2.17205272e+00 -1.20790535e+00 -2.79581990e-01 -7.54699573e-01\n",
      "   1.86191574e-01  1.86835213e+00]\n",
      " [ 8.48592880e-01 -1.08820214e+00 -2.49666893e-01  2.02487769e-01\n",
      "   3.64789959e-01  1.03316977e+00 -7.44191918e-01 -6.92239113e-01\n",
      "   8.99970529e-01  2.16832663e-01 -2.12975580e+00 -1.04287787e+00\n",
      "   1.13004557e-01  1.26657276e+00  6.36984962e-01  2.83091660e-01\n",
      "  -4.70957164e-02  1.70456182e+00 -2.15838139e-01  3.95532540e-01\n",
      "   4.58262044e-01 -8.37702199e-01 -1.88876541e+00  6.42532501e-01\n",
      "  -8.89515919e-01 -2.67002876e+00 -7.68698368e-01  2.40501060e-01\n",
      "  -4.30414260e-01 -6.54692166e-01 -1.83814339e-01  1.05844025e+00\n",
      "  -8.19094090e-01  9.76596079e-01  1.36625631e-01  9.35723071e-01\n",
      "   1.13637384e+00 -1.66511638e+00  3.98592463e-01  5.65549179e-01\n",
      "   1.36091202e+00  1.34517001e+00 -1.47017473e+00 -2.48881410e-01\n",
      "  -2.30366867e+00  3.90532577e-01 -7.57832996e-01  4.78655017e-01\n",
      "  -7.91635848e-03  8.91896257e-02]\n",
      " [-1.85579354e-01  4.38519770e-01  5.40430629e-01 -1.51259906e-01\n",
      "  -9.96515209e-01  1.10581720e+00  9.63929298e-01 -4.40166131e-01\n",
      "   5.47231116e-01  6.41214134e-01 -1.68540095e+00 -8.91187193e-01\n",
      "   6.43372736e-01 -5.71435628e-01  3.75289658e-01 -8.60628010e-01\n",
      "  -1.23808054e-01 -8.36926456e-01  5.36766731e-01  8.18091454e-02\n",
      "  -1.04116207e+00  9.59635278e-01  4.06535748e-01  7.05063586e-01\n",
      "  -6.30140214e-01  3.91321290e-01 -4.78551963e-01  1.80114249e-01\n",
      "  -1.86007078e+00  1.57959925e+00 -6.36568396e-02 -3.25530142e-01\n",
      "   2.13000408e+00  5.73059955e-01 -1.06674434e+00 -1.38256371e+00\n",
      "   5.94444947e-01 -7.95000484e-01  7.64815020e-01 -1.31525934e+00\n",
      "  -1.60973276e+00 -5.80185881e-01  2.94846401e+00  1.06257863e-01\n",
      "   2.03219273e+00 -1.00368285e+00 -5.48484046e-01 -9.62006239e-02\n",
      "   9.08319459e-01  3.05791248e-01]\n",
      " [ 3.60957001e-01  1.06486567e+00 -2.94832534e-01 -1.27156266e+00\n",
      "  -1.22814947e-01  5.78174099e-01 -6.19277316e-01  1.26870310e+00\n",
      "  -6.10324197e-02  5.16429182e-01 -4.52715453e-01 -1.45438716e-01\n",
      "  -1.24597094e+00 -1.00993089e+00  2.55163333e-01  7.30126987e-01\n",
      "  -8.78211113e-01 -1.76028604e+00  1.15359987e+00  3.43712261e-01\n",
      "  -1.32607236e+00  1.42506343e+00  1.18494202e+00 -4.14463512e-01\n",
      "  -1.19619379e-01  5.89141304e-01 -8.79457415e-01 -6.37497429e-01\n",
      "   5.57460200e-01  3.66567693e-01  7.86730915e-01 -5.32688333e-01\n",
      "   1.84072024e+00 -1.04817400e+00  2.34143482e+00  6.29932499e-01\n",
      "  -2.24182187e+00 -3.75561986e-01  2.21837263e+00 -3.62790633e-01\n",
      "   2.50355914e+00  9.62252749e-01  8.95578162e-02 -1.18758614e+00\n",
      "  -3.66205799e-01  2.81743399e-01 -8.79706448e-01 -8.16501046e-01\n",
      "  -4.38126566e-01 -2.74965446e-01]\n",
      " [-1.97364762e+00 -1.77414405e+00 -4.69561611e-01 -1.53437543e+00\n",
      "  -1.61815957e-01  1.93759980e-01 -1.11458155e-01  1.96738554e+00\n",
      "   9.59318717e-01  7.36538583e-01 -7.10615673e-01 -1.05359011e+00\n",
      "  -1.26082428e+00 -2.34574256e+00 -9.71142302e-01 -7.64724365e-01\n",
      "   8.88342756e-01  2.80019312e-01 -2.01924339e+00  1.40053559e+00\n",
      "   1.02392041e+00  1.01809151e+00  5.00569548e-01  1.60059050e-01\n",
      "  -9.81186485e-01 -1.11771563e+00 -3.59169096e-01 -8.42608914e-01\n",
      "  -9.63986453e-02  1.37584945e-01 -2.32145498e-01 -1.52427943e+00\n",
      "   6.32083621e-01  8.17868611e-01 -6.52846570e-01  6.40518036e-01\n",
      "  -9.26419915e-01 -4.02360340e-01 -6.82099199e-01  7.25506300e-01\n",
      "   1.31152750e+00  8.34226411e-01  8.79760173e-01 -8.26669840e-01\n",
      "   6.26569003e-01 -2.22984579e+00  8.09449862e-02 -4.12331878e-01\n",
      "  -8.19618208e-01 -1.78626349e-01]\n",
      " [-8.10722646e-01  1.39307815e+00 -1.61330191e+00  1.51367287e-01\n",
      "   6.39144443e-02 -4.81236954e-01  2.94626039e+00  1.79406276e+00\n",
      "  -8.17248659e-01 -1.80736190e+00  1.18260538e+00  6.14516812e-01\n",
      "   5.34409216e-02  6.96063144e-01  2.01820948e-01 -6.73695391e-01\n",
      "  -6.84155514e-02  3.84065700e-01 -1.60024709e+00 -7.86585164e-02\n",
      "   5.84701132e-01  1.56652842e+00  2.35052227e-01 -1.61639351e+00\n",
      "  -8.84625040e-01  1.08654137e+00  1.51895166e+00 -1.51871618e+00\n",
      "   5.50629561e-01 -3.35505737e-01  2.02562411e-02 -1.56757402e+00\n",
      "   1.48179886e+00 -6.36416264e-02 -1.46481861e+00  1.52845145e-01\n",
      "   2.16417142e+00 -4.74738637e-01 -4.14511761e-01 -4.71805096e-01\n",
      "  -1.39432754e+00 -1.61671513e+00 -1.18520829e+00  8.22402366e-01\n",
      "  -7.68247480e-01  4.73633981e-01 -4.51468160e-01  4.49925274e-01\n",
      "   2.63738350e+00 -5.77042494e-01]\n",
      " [ 8.45912311e-01  7.95006261e-01 -1.99488256e+00  1.07426758e+00\n",
      "   1.02129242e+00 -2.08247528e-01 -9.75118320e-02 -3.35621586e-01\n",
      "   3.78126196e-02  1.21293900e+00 -1.07083780e-02  8.13713169e-01\n",
      "   7.04782357e-02  2.46958877e-01 -7.00380803e-01  2.33400239e-01\n",
      "  -9.50443059e-01 -6.86282255e-01  1.24829607e+00 -7.93372093e-01\n",
      "   2.31246487e-01 -2.42009825e-01  1.97554095e+00  1.12389706e-01\n",
      "  -2.30042435e-01  2.66271783e-01 -8.02223321e-02 -1.80463730e+00\n",
      "   2.35264848e-01  1.58690563e-01  1.89979140e+00 -4.67072175e-01\n",
      "  -1.74762045e+00  1.04832108e+00  4.18445978e-01 -9.96870477e-01\n",
      "  -1.64992737e-01  3.80321441e-01  1.09076499e+00  1.76801785e+00\n",
      "  -2.37387358e-01 -2.27421501e+00  4.34686532e-01 -6.67854856e-01\n",
      "   7.19364082e-01 -6.31571912e-01 -4.32653108e-01 -2.67913929e+00\n",
      "   9.07793254e-01 -6.79235960e-01]\n",
      " [-1.97963331e-01 -7.30901630e-01  1.35967895e-02 -8.06660934e-01\n",
      "   5.24771970e-02  7.13056875e-01  9.55270589e-01 -5.65000328e-01\n",
      "   3.23197408e-01  9.06500657e-01  7.91230397e-01 -1.55694043e-01\n",
      "   6.01870505e-01  2.71971500e-01  1.49237633e+00 -1.66589329e-01\n",
      "   1.75382507e-03 -9.87786818e-01  1.18793530e+00  9.27348395e-01\n",
      "  -1.61852494e+00  1.27570362e-01  6.18415494e-01  3.36447235e-01\n",
      "   3.94065285e-01 -9.89078500e-02  1.33304524e+00 -2.21449231e-01\n",
      "   5.20106632e-01 -2.62785511e-01  3.04783753e-01 -9.92380384e-01\n",
      "   8.14996163e-01 -4.80537966e-01 -2.07896448e+00  4.86825168e-01\n",
      "   2.12310804e+00 -4.05828376e-01 -5.76216062e-01  3.23423891e-01\n",
      "   6.07156975e-02  1.31227671e+00  1.61131539e-01 -5.10907653e-01\n",
      "  -6.80235358e-01 -3.01151661e-01  1.41304925e+00  1.77355914e+00\n",
      "   9.39251897e-01 -2.01524419e+00]\n",
      " [-3.82807087e-01 -2.42478147e-01 -8.03544118e-01 -1.48161586e+00\n",
      "  -3.11783586e-01 -2.92329561e-01  7.18014771e-01  2.42678767e-01\n",
      "  -1.73173367e+00 -6.71017138e-01  2.76486272e+00  2.29147649e+00\n",
      "  -7.57471044e-01  1.13668696e+00 -3.19628740e-01 -6.75125762e-01\n",
      "   5.01383896e-01 -1.29215948e+00 -5.90011968e-01 -1.07465407e+00\n",
      "   1.91584775e+00  2.16107137e+00 -3.94729250e-01 -2.69737848e-01\n",
      "   8.72092640e-01  1.17239292e+00 -1.02389951e+00  4.42187039e-01\n",
      "  -8.57175544e-01 -1.03300753e+00  6.07309068e-01 -2.23322952e-01\n",
      "  -9.23868898e-01  1.30286220e+00 -9.79991566e-01  1.37572827e+00\n",
      "   9.10414490e-01 -3.28272589e-01 -1.08993795e+00  8.92633758e-01\n",
      "  -2.16263998e-01  1.80987117e-02 -7.18486116e-02 -1.48280025e+00\n",
      "  -3.61003363e-03 -1.47883810e+00  2.30467195e-01 -4.15188825e-01\n",
      "   6.81229054e-01 -8.79385283e-01]\n",
      " [ 3.19304569e-01  1.23062382e+00 -2.73188540e-01  1.34019795e-01\n",
      "  -2.96089023e-01  9.57337919e-01  8.23761371e-01  1.87705882e+00\n",
      "  -5.80961270e-01 -1.50117535e+00 -1.47926459e+00  2.06207447e-01\n",
      "   2.46118305e-01  5.60362367e-01 -7.46890420e-01  8.85920346e-01\n",
      "  -3.68400617e-01 -1.59982611e+00  3.83994467e-01 -1.56008846e+00\n",
      "   3.86343465e-01  1.78585617e-01 -1.19231416e+00  3.88985348e-01\n",
      "   1.14703276e+00 -2.51394009e-01  1.50880900e-01  1.06736547e+00\n",
      "  -1.19948926e+00  9.78335550e-02  6.81135589e-01  9.62002038e-01\n",
      "   1.03297334e-01  8.67446425e-01 -3.48255143e-01  1.21050110e+00\n",
      "   9.29289764e-01  5.85688943e-02  7.29157425e-01  8.75157499e-01\n",
      "  -1.36425846e+00  1.31526761e+00 -7.28282855e-01 -4.76879542e-01\n",
      "   2.01299729e-01  1.24612440e-01 -1.26146972e+00  8.08351371e-01\n",
      "   3.93845017e-01  9.75876432e-01]\n",
      " [-4.71994738e-01  3.17857601e-01  3.36244321e-02  2.14959952e-01\n",
      "   2.44477581e+00  3.44281570e-01  2.85602597e-01 -6.89195069e-01\n",
      "   1.27745443e+00 -3.76783340e-01 -1.49886100e-03  1.38373533e-01\n",
      "  -6.69487604e-01 -2.18703402e+00  1.54346366e-01 -1.69000614e-01\n",
      "   1.40657112e+00 -2.39231431e-01 -3.06370234e-02  8.59480155e-01\n",
      "   1.95128874e+00 -1.45805461e+00 -5.79721474e-01  4.43700124e-01\n",
      "  -7.26956834e-01  7.82151693e-01  5.49847293e-01  1.30216493e+00\n",
      "   1.40608130e+00 -9.82934523e-01 -9.59484189e-02 -6.17556864e-01\n",
      "   1.74601657e+00  1.97571193e-01 -4.69518393e-02 -2.81601775e-01\n",
      "   1.24837671e+00 -4.23084362e-02  7.41762075e-01 -3.25817476e-01\n",
      "   7.55138278e-01 -8.07339908e-01 -9.67584438e-01  1.14381837e+00\n",
      "   1.56866043e+00  1.59256572e+00 -1.47448940e-01  1.83611249e-02\n",
      "   1.85867510e+00  5.51348121e-01]\n",
      " [-4.78815245e-01 -1.09370155e+00  2.13561126e+00 -1.86011379e+00\n",
      "   6.05634749e-01  1.42433616e+00 -1.12371554e-01 -2.45518437e-02\n",
      "   1.04421176e+00 -9.30397768e-01 -7.09007459e-02  1.39701798e+00\n",
      "   2.37057299e-01  4.38082493e-01  2.89484653e-01 -2.51003068e-01\n",
      "  -3.19583278e-01  2.83094446e-01  1.07401914e+00  7.73106611e-01\n",
      "  -8.93469396e-01  2.80494331e-01 -1.46981405e+00 -1.22802786e+00\n",
      "  -9.27785486e-01  6.07260654e-01 -2.46774707e-01 -1.21681628e+00\n",
      "  -1.54922108e+00 -1.18214154e+00  7.36513705e-01 -9.24207963e-01\n",
      "   7.74863131e-01 -4.62557584e-01 -1.15324329e-02  1.21220959e+00\n",
      "   1.39478333e+00  9.52149565e-02  7.31667022e-01 -1.70902487e+00\n",
      "   2.36577200e+00  7.08078456e-01 -1.02981320e+00 -9.10592452e-01\n",
      "  -1.69706274e+00 -3.04222579e-01 -2.45704164e-01 -1.05690827e-02\n",
      "   9.55706494e-01  8.92072622e-01]\n",
      " [-4.31981380e-01 -1.27170630e+00 -3.85827931e-02  1.69709484e-02\n",
      "   1.30791419e+00 -4.40089590e-01 -6.75037275e-01  6.02897372e-01\n",
      "   4.75669451e-02 -2.63021274e-01  4.49530563e-01  8.42113959e-01\n",
      "   1.32072922e+00 -1.09837642e+00  2.45929400e+00  2.42603949e-01\n",
      "   1.27278405e+00 -3.43650270e-01  1.66413407e+00  1.09554959e-01\n",
      "   1.99820647e+00  2.20748819e+00  4.08749961e-01  3.91736671e-01\n",
      "  -1.59707457e+00 -1.53007368e-01 -5.03503951e-02 -3.14579741e-01\n",
      "   4.15671325e-02  8.43686906e-01 -1.07287157e+00 -7.35021866e-01\n",
      "   3.85432545e-01 -1.87107972e-01  1.16097981e+00 -1.12500036e+00\n",
      "   1.07097364e+00 -1.28107014e+00  1.71122403e+00  1.62411210e+00\n",
      "   9.96738593e-01  1.65286074e-01  9.17896862e-02 -4.93075675e-01\n",
      "  -5.06454055e-01 -6.01025980e-02  7.05319780e-01  1.80537355e+00\n",
      "   7.57191722e-01 -5.32686073e-01]\n",
      " [ 8.95109004e-01 -2.05023020e-01  1.71081277e+00 -9.41925824e-01\n",
      "   2.59769904e-01 -7.78940500e-01 -1.25170844e+00 -1.37024531e+00\n",
      "   7.62699599e-01  1.06396082e-01  2.68449960e-01  5.65155024e-01\n",
      "  -8.26487746e-01 -1.01095724e+00  1.30351463e+00 -6.79068225e-01\n",
      "   1.60631840e+00  1.28224198e+00 -2.13706017e+00  1.42131690e-01\n",
      "  -8.72533367e-01 -1.05153905e+00  1.27048709e+00 -1.36096181e+00\n",
      "   2.63250156e-01 -5.51058380e-01  1.54833575e+00 -2.80456187e-01\n",
      "  -2.42205041e-01 -8.01259525e-01 -3.32307823e-01 -7.74686329e-01\n",
      "  -5.55479846e-01 -2.26094397e+00  8.56332351e-02  9.39332860e-01\n",
      "   2.59262181e-01 -8.16978275e-01  6.51316355e-01 -8.04848424e-01\n",
      "   7.96908503e-01  2.52152804e-01  1.04826385e+00 -4.82323990e-01\n",
      "   2.50870167e+00  1.28920420e+00  3.30339880e-01  1.22498164e+00\n",
      "   1.54434232e+00 -4.99658676e-02]\n",
      " [-1.74393879e-01  1.30180940e-01  1.89725530e-01  9.11794874e-02\n",
      "   1.88288614e+00  2.03983347e-01  1.10062807e+00 -6.24457836e-02\n",
      "  -8.18734447e-01  3.11212804e-01  1.27563778e-01  3.84202702e-01\n",
      "   9.86003726e-01 -1.15693083e-01 -6.10854843e-01  3.99715982e-01\n",
      "   2.15250093e-01  6.81543421e-01 -2.08690506e-01 -3.91493923e-01\n",
      "  -5.24523753e-01  8.03725312e-01  5.74432747e-02  1.05516807e+00\n",
      "   7.19249810e-01  2.47884158e-01 -1.42761110e+00  2.72765540e-01\n",
      "   6.12233880e-01  3.78013677e-01  1.30569613e-01  2.17532515e-01\n",
      "   6.63253108e-01  2.25181390e+00 -1.03951608e+00 -5.82833727e-02\n",
      "  -5.51094450e-02  1.47160921e+00 -3.49777307e-02  2.17581742e-01\n",
      "   5.67032624e-01  4.86414877e-01 -5.46219821e-01 -1.62207587e+00\n",
      "  -1.30855613e+00 -5.92305914e-02 -9.77237756e-01 -2.24177722e-01\n",
      "  -5.43958788e-01  2.69736115e+00]\n",
      " [-2.18751459e+00 -3.08386301e+00  6.19325712e-01  5.36511390e-01\n",
      "  -5.94635297e-01  5.41645114e-01 -3.09139000e-01 -4.54355182e-01\n",
      "   2.33419929e+00 -5.04987755e-02 -7.91003111e-01  1.81941091e-01\n",
      "   1.07633527e+00  1.10782764e-01  1.75603328e+00 -2.77170719e-01\n",
      "   2.79536485e-01  3.49247813e-01 -2.14356650e+00  6.75736994e-01\n",
      "   1.00016651e+00 -7.19908845e-01  9.74080655e-01 -3.33756424e-01\n",
      "  -8.58630240e-01 -2.32549109e-01  1.35991533e+00 -2.08015697e-01\n",
      "   1.67784489e-02 -1.92687604e+00  1.00852498e+00  3.76387014e-01\n",
      "   9.46737888e-01 -1.47383978e-01 -1.24279622e+00 -1.31759935e+00\n",
      "  -6.42473548e-01 -1.59402063e+00  3.88842283e-02  5.26078321e-01\n",
      "   9.44769940e-01 -4.14460638e-01 -1.30980512e-02  9.42092729e-02\n",
      "  -4.04520484e-01  2.63645859e-01 -2.16031629e+00  5.70098075e-02\n",
      "   1.07798131e+00 -1.65884669e-01]\n",
      " [-1.28929776e+00  1.89566476e+00  5.52890935e-01  5.91396214e-01\n",
      "  -1.92356977e-01  1.26681286e+00 -4.41047948e-01  1.12619683e+00\n",
      "   5.19643031e-01  5.30734545e-01 -9.31359571e-01  1.87960898e+00\n",
      "   3.20759305e-01 -2.66743898e-01  6.00403883e-01  9.00873967e-01\n",
      "  -1.00847260e-01  1.10122472e+00  1.12006215e+00 -2.98949406e-01\n",
      "   1.41234465e+00  4.47947931e-01  1.72816053e-01  2.33522197e-02\n",
      "   1.58916337e+00 -6.78058592e-01 -3.49771839e-01  1.32658078e-01\n",
      "  -7.65593076e-01  3.81729058e-01 -1.03342166e+00  5.75917462e-01\n",
      "  -2.98753436e-01  6.98264617e-01  1.51282902e+00  6.60422771e-01\n",
      "   5.45763837e-01  2.78458781e+00  1.09643349e+00  2.44105177e-01\n",
      "  -3.51243978e-02 -3.88899572e-01  9.63570153e-01 -1.54172138e+00\n",
      "   7.98159484e-01  7.44560010e-01 -1.75335626e+00  1.22299055e-02\n",
      "  -1.68458904e+00  9.49415858e-01]\n",
      " [ 1.05459534e+00  8.98112521e-01 -2.52524401e+00 -1.21427550e+00\n",
      "   1.96953434e+00 -1.59419777e+00 -1.05422622e+00 -1.89300681e+00\n",
      "  -1.85602288e+00  5.89867613e-01  1.81755575e+00 -1.92507494e-01\n",
      "  -3.42626390e-01  1.44273098e-01  1.62187828e-01 -7.51382414e-01\n",
      "  -2.12072398e-01 -2.74003460e-01 -2.50889653e-01 -3.27023918e-01\n",
      "  -1.15888021e-01  1.76306607e+00  1.41750634e+00 -2.14190111e-01\n",
      "   6.88024448e-01 -8.03016661e-01  1.69943990e-01 -1.51586841e+00\n",
      "   7.61588463e-01  7.86872459e-01 -1.20922723e+00 -3.10882788e-02\n",
      "  -5.74281788e-01 -9.28342117e-01 -4.53264000e-01  1.62410619e+00\n",
      "  -1.43842668e+00  4.74014615e-03 -3.92379269e-01 -6.18956185e-01\n",
      "  -7.96324994e-01 -3.09986717e-01 -1.41883369e+00  3.02829825e-01\n",
      "  -6.66630943e-01 -1.24429994e+00 -1.05198157e-04  1.94494152e-01\n",
      "  -6.65897897e-01 -2.70211912e-01]\n",
      " [ 7.95110702e-02 -1.29474565e-01  1.49908859e+00  2.83249401e-01\n",
      "   2.29943587e-01  8.93577791e-01  1.12910659e+00 -1.03897020e+00\n",
      "   8.53064961e-01  5.99165448e-01 -7.28065286e-01 -5.66361748e-01\n",
      "   2.15325704e-01 -8.64725467e-02 -6.29139057e-01  1.25531121e+00\n",
      "   1.50307670e+00  5.97283395e-03 -1.07235777e+00  1.72660339e+00\n",
      "   9.52903599e-01 -1.72758530e-01 -6.43700798e-01 -5.55668521e-01\n",
      "   3.63670607e-01  6.90855305e-01 -2.59901925e-01  5.12072618e-01\n",
      "   1.86382633e-01 -2.38985716e-01 -1.78343778e+00 -1.28373346e+00\n",
      "   6.75741234e-01 -3.33538816e-01  1.28618357e+00  6.03488421e-02\n",
      "   8.11392653e-01 -8.44825453e-01  1.88643893e+00  5.12762285e-01\n",
      "   5.56898799e-01 -3.23228874e-02  1.23559756e+00 -7.54289879e-01\n",
      "  -1.33418332e+00  1.87434631e+00 -1.38159299e+00 -1.26585321e+00\n",
      "  -7.35548811e-01 -4.88402068e-01]\n",
      " [ 6.40580581e-01  2.91889090e-01 -5.22707467e-01 -2.46151252e-01\n",
      "  -6.71582402e-01  7.28022853e-01 -1.47422931e-01 -3.05711629e-02\n",
      "   7.55578902e-01 -2.16409782e+00 -1.83917968e+00  2.14408866e-01\n",
      "   2.02174709e+00  1.23797908e-01  8.78113035e-01  3.41290014e-01\n",
      "  -5.06153927e-01  7.75796530e-01  2.67226330e-02 -1.38647711e+00\n",
      "  -9.79534892e-02  1.45606884e+00  1.15825574e+00 -5.68617319e-01\n",
      "   5.39837757e-01  5.63007981e-01 -5.44676571e-01  1.33323052e+00\n",
      "   2.35628351e-02  8.00824372e-01 -1.82961377e+00  2.48426245e-02\n",
      "  -4.02330609e-01  5.72491082e-01  9.82688018e-01 -2.79222171e-01\n",
      "  -9.62169462e-01 -3.26221000e-02  4.88754707e-01 -1.76779417e+00\n",
      "   1.39104147e-01  5.12600110e-02 -6.78326162e-01  5.82343227e-01\n",
      "   1.43215183e+00  6.87788197e-02  8.67011295e-01 -1.12173915e+00\n",
      "   1.06958664e-01 -2.43552848e-01]\n",
      " [-7.14812624e-01 -3.95676587e-01 -1.30894253e+00 -4.40236142e-01\n",
      "   5.50839206e-01  7.81251138e-02  7.43913682e-01 -9.35134745e-01\n",
      "   3.09435699e-02 -1.00259917e+00 -3.80712357e-02  7.79873728e-01\n",
      "   8.60400111e-01  3.54386894e-02  2.11237428e+00  1.64732331e+00\n",
      "  -4.14227358e-01  2.64852268e-01 -5.25322678e-01 -6.55998723e-01\n",
      "   2.78144953e-01 -8.84355540e-01  7.93207889e-01  5.75413902e-01\n",
      "  -2.08131772e+00  6.73988330e-01 -9.86817968e-01  1.25529496e+00\n",
      "  -1.02716065e+00  1.24697751e+00  2.47056395e+00  5.53817874e-01\n",
      "   6.36246564e-01  9.11007248e-01  4.40691676e-02 -4.89448850e-01\n",
      "  -7.42804738e-01  3.44489529e+00 -6.32320606e-01 -1.57182190e-02\n",
      "  -8.70223846e-01  1.94480085e+00  8.07487877e-01  1.35064086e-01\n",
      "  -1.90630369e+00 -5.95887644e-01  8.25388746e-01 -2.13343620e-01\n",
      "  -1.09204335e+00  1.77948645e+00]\n",
      " [-3.33689592e-01  1.17041340e+00 -1.54050722e-01 -6.61583393e-01\n",
      "  -1.84588286e+00  1.33926328e+00  6.44753511e-01 -8.22295067e-03\n",
      "  -3.02007149e-01 -1.67784961e+00 -4.86016291e-01  1.17394350e+00\n",
      "   7.59831593e-02  1.45968897e+00  1.61190141e-01 -8.00764459e-01\n",
      "  -8.96445403e-02  1.33883109e-01 -6.32320012e-02 -4.58480951e-01\n",
      "   1.16836103e+00  8.22923281e-01  5.58851326e-01  1.09390860e+00\n",
      "   1.33873304e+00  1.31617482e+00  8.43011442e-01 -9.40189680e-01\n",
      "  -7.14490529e-02  1.01973263e+00 -2.91725576e-01  2.54202721e-01\n",
      "  -2.84313393e-01  2.01286695e+00 -1.34348666e-01  8.23997378e-01\n",
      "  -9.46799746e-01 -1.89351818e-02 -4.94231708e-01  4.53449639e-01\n",
      "   1.29616893e-01  1.27545838e+00 -8.68118874e-01  1.71852283e+00\n",
      "   9.86566485e-01  1.74479482e-01  2.99099733e-01  7.07947988e-01\n",
      "  -4.93130044e-01  1.86519202e-02]\n",
      " [ 3.40664177e-01  5.32725826e-01  3.98583126e-01  2.54582148e-01\n",
      "   2.05228306e-01 -6.83248298e-01  9.67088763e-01  1.46365318e+00\n",
      "  -7.07599442e-02 -7.60612967e-01  1.97936408e+00  1.59156703e+00\n",
      "  -2.10617733e+00  5.48425029e-01 -7.11799907e-02 -1.96440567e-01\n",
      "   4.58522542e-01 -7.31008391e-01  5.16482184e-01 -1.39257732e+00\n",
      "   8.75654525e-01 -6.85426565e-01 -1.04791949e+00 -1.18139563e+00\n",
      "  -6.39712759e-01 -1.22975951e+00 -2.10921648e+00  4.13109330e-01\n",
      "  -8.65774745e-01 -8.88469004e-01 -3.13933856e-02 -1.17685770e+00\n",
      "  -1.45642123e+00 -4.21434419e-01 -9.74463489e-01  1.18432716e+00\n",
      "   1.19067616e+00 -1.66453901e+00 -1.12283706e+00  1.20736765e+00\n",
      "   1.08211112e+00 -1.19032030e+00  8.36066519e-01  7.57919825e-01\n",
      "  -9.71371140e-01  8.90573160e-02 -1.24739050e+00  8.56663724e-01\n",
      "  -3.72272971e-01 -1.85878078e+00]\n",
      " [ 5.33519230e-01  1.10741453e+00 -1.02150306e+00  4.16244882e-01\n",
      "   9.67438277e-01  2.54504108e-01 -1.37858086e+00 -8.48569601e-01\n",
      "   1.18729171e+00  1.76388700e-02  1.66917172e-01  6.64536944e-01\n",
      "  -1.77640056e-01 -7.99524845e-01 -7.31302137e-01 -1.21195939e+00\n",
      "  -2.25299916e+00  2.10499536e-02  4.16679897e-01  1.48340259e-01\n",
      "   6.58413337e-01  4.14799393e-01  1.26383014e-01 -6.53774175e-01\n",
      "   8.52429381e-01  6.14181822e-01  3.54093606e-01 -3.57215225e-01\n",
      "  -2.81231317e-01  1.29863046e+00 -5.96898050e-01  1.15383009e+00\n",
      "  -6.56032221e-01  1.75832364e+00 -7.01745910e-01  2.26662352e+00\n",
      "   5.01040727e-01  7.64440439e-01  1.89860705e-02 -4.77002896e-01\n",
      "  -5.80308830e-01  1.36915119e+00 -3.75645390e-01  4.47781081e-01\n",
      "   1.04647126e-01 -1.00457266e+00  7.33255572e-01  4.58698194e-01\n",
      "   8.07281556e-03 -1.39328688e+00]\n",
      " [-2.35893236e-01 -1.43856664e-01  1.67476835e+00  2.64076303e-01\n",
      "  -6.68620881e-01 -4.30598070e-01  3.17533525e-01  1.54380396e-01\n",
      "   1.28779524e+00  3.31855832e-02  6.71502487e-01 -1.40114669e+00\n",
      "  -5.35206600e-01 -1.36043090e+00 -6.22476562e-01 -1.74157158e-01\n",
      "  -8.34522246e-01 -9.16259111e-01  6.68157782e-02  2.73207254e+00\n",
      "   1.57129098e-01 -1.58356846e-02 -1.61951747e+00  5.21675919e-02\n",
      "  -2.18902346e+00 -6.09399243e-01 -1.17765580e+00 -1.39860578e+00\n",
      "  -4.29461285e-01 -2.39667780e+00 -2.70347728e-01 -2.95939129e-01\n",
      "  -6.38054366e-01  7.95214446e-01 -9.80028527e-01 -1.60873669e+00\n",
      "   1.85250915e+00 -2.48457054e-01 -4.16532840e-01  5.24345964e-01\n",
      "   1.33510409e+00 -7.72718029e-01  8.48972461e-01 -2.64426970e-02\n",
      "   8.05181772e-01  5.85005650e-01  6.04729113e-01 -1.20971804e-01\n",
      "  -4.06622520e-01 -6.60899753e-02]\n",
      " [ 1.12663649e+00  1.90092706e-01  1.20825293e+00 -6.88008849e-01\n",
      "   8.01057741e-01  1.70782558e-02  6.66513720e-01 -1.80173582e-01\n",
      "   2.25492342e-01  4.88578620e-01 -6.23446738e-01  9.01375681e-01\n",
      "   7.47053857e-01 -9.46446026e-01  3.48832786e-01  6.94885226e-01\n",
      "  -1.62239313e+00 -6.92008009e-01 -9.25377302e-01  1.25649115e+00\n",
      "   2.12053759e+00 -2.23563157e-02 -1.43872719e-01  2.43585767e+00\n",
      "  -8.40967371e-01 -2.93544234e-02  1.61695237e+00 -7.48553032e-01\n",
      "   2.45921389e+00 -1.69960735e+00 -1.39262693e+00 -3.94850957e-01\n",
      "  -4.71362479e-01  2.24710599e-01  6.88511317e-01  6.80254447e-01\n",
      "  -3.35764007e-01 -4.10525288e-01  5.34498652e-02 -1.27558032e+00\n",
      "   1.48407717e+00  3.78122821e-01  1.10996766e+00  4.89742412e-01\n",
      "  -1.50051956e-01 -8.13745536e-01  1.80405148e-01  4.10415510e-01\n",
      "   8.69687734e-01  1.72990703e+00]\n",
      " [ 4.58982731e-01  1.60249636e-01  2.26327592e-01 -8.70642482e-01\n",
      "  -8.81229570e-01  1.37433875e+00  8.08750805e-01  1.24295928e+00\n",
      "  -1.01756880e+00  5.47238574e-01 -8.74369102e-01 -5.35202851e-02\n",
      "   4.67079628e-01  4.24898246e-01  9.51884786e-01 -2.57224532e-01\n",
      "  -1.11824827e+00  5.39766419e-01 -8.42738564e-01 -1.10438557e+00\n",
      "   4.66167422e-01  1.45829614e+00 -6.33766144e-03  1.80078329e+00\n",
      "   1.06512751e-01  5.96020516e-01  4.90002648e-01  1.19255830e-01\n",
      "  -5.98860524e-01 -1.59246458e-01  1.13764488e+00 -2.76674664e-01\n",
      "   4.92407373e-01  1.63809534e-01  1.55788176e+00  6.52829242e-02\n",
      "   1.04553828e+00 -2.69050261e-01  6.19434905e-01 -1.23671202e+00\n",
      "  -1.37177546e+00 -9.67850994e-01 -1.02133867e+00 -8.72504061e-01\n",
      "  -7.78648761e-01  2.78642439e-01  1.64702810e+00  1.33415260e-01\n",
      "  -7.29839060e-01 -4.77620180e-01]\n",
      " [-3.28816350e-01 -1.22782791e+00  9.75099675e-01  7.67705481e-01\n",
      "  -1.70181396e+00 -1.11153143e+00  1.21195093e+00 -6.08244724e-01\n",
      "   1.16137650e+00 -6.34668646e-01  5.58794693e-01 -3.03703454e-01\n",
      "  -1.21457520e+00 -1.73629524e+00 -1.09015893e+00 -1.35053260e+00\n",
      "  -8.92243223e-02  3.53938733e-01 -8.41916814e-01 -6.92781124e-01\n",
      "  -5.27852430e-01  4.48096472e-01 -1.46112536e+00 -5.58729783e-01\n",
      "  -8.97991629e-01 -1.04919636e+00  6.43662238e-02 -8.59756831e-02\n",
      "   9.28120849e-01 -9.28055674e-01 -2.92300732e-01  1.21601449e+00\n",
      "   5.62508238e-01 -1.05103170e+00  1.11778530e+00 -1.38570145e+00\n",
      "   1.17268604e+00  4.98442651e-01 -4.21659752e-01 -5.17058975e-01\n",
      "   3.96745435e-02  2.81352060e-01  1.35319218e+00 -8.27951949e-01\n",
      "  -3.44476527e-01  8.55231125e-01 -1.14037416e+00 -1.30774247e+00\n",
      "  -1.18559240e-01  7.19135935e-01]\n",
      " [-4.06210919e-01  5.26875780e-02  6.77995570e-01  1.44564904e+00\n",
      "  -6.38466463e-01  2.91497972e-01 -8.28191249e-01  1.23010368e+00\n",
      "   2.98075714e-01  1.08223200e+00 -1.14905697e+00 -2.41215600e-01\n",
      "  -1.24314288e+00 -1.05627536e+00 -2.54034939e-01  1.32843134e+00\n",
      "   4.96196164e-01 -3.89505824e-01  1.85694422e-01  3.82091217e-01\n",
      "   2.14847848e-01  8.16107418e-01 -3.50390218e-01 -5.71828882e-01\n",
      "  -6.61494173e-02 -1.42472296e+00 -8.76268552e-01  1.79387192e+00\n",
      "   6.94078131e-01  1.27868241e+00 -1.30363263e+00  4.02782792e-01\n",
      "   7.26420914e-01 -1.44928673e+00  2.11632012e-01  3.52448938e-01\n",
      "  -2.47950991e-01  1.06218013e+00  6.94807377e-01 -3.38548086e-01\n",
      "  -1.73373743e+00 -7.26782035e-01 -1.37875635e+00  6.62511072e-01\n",
      "   1.72064558e-01 -1.20586460e+00  1.31785829e+00  5.41099893e-01\n",
      "   1.20306427e-01  5.03619253e-01]\n",
      " [-1.05372363e+00  5.63832301e-01  5.27237092e-01  1.99316687e+00\n",
      "   4.60584407e-03 -9.53627269e-01  1.11778859e+00  4.20737631e-01\n",
      "  -9.42224226e-01  2.49082466e+00 -3.14157681e-01 -8.63365299e-01\n",
      "   2.70154408e-01 -2.21985986e-02 -7.17068872e-01  3.18477340e-01\n",
      "  -4.18480484e-01  8.40538955e-01  8.23003002e-01  3.08201937e-01\n",
      "   9.48704763e-01 -8.15168486e-01  4.06086077e-01  8.06451819e-01\n",
      "  -5.91270469e-01  1.36488676e+00  2.13221381e-01  1.43498119e+00\n",
      "   3.78566885e-01  7.02895310e-01  9.45473108e-01  1.80594680e+00\n",
      "  -1.03541904e+00 -8.75257054e-01 -5.50885467e-01 -7.08698298e-01\n",
      "  -3.93986427e-01 -1.71374119e+00  1.91424289e+00 -7.73485816e-01\n",
      "  -6.56651593e-01  6.65003894e-02  3.52716455e-02 -1.14151682e+00\n",
      "  -9.70713667e-01  8.04314150e-01 -5.52954943e-01  2.31474730e+00\n",
      "   1.66336587e+00 -6.53073989e-01]\n",
      " [-1.50730588e+00  1.13764147e+00  3.03793084e-01  1.50742237e-01\n",
      "   5.58932457e-01  7.45265573e-01  5.43073517e-01  3.97477979e-01\n",
      "  -1.23886378e+00  9.94986185e-01  6.02801672e-02 -1.12415206e+00\n",
      "  -1.94071127e-02 -1.24904101e+00  1.86235658e-01 -5.94082674e-01\n",
      "  -1.15387022e+00  8.45483077e-01 -2.56350348e+00 -1.61749540e-01\n",
      "  -5.37239845e-01  1.02301714e+00  3.85397637e-01  1.20293530e+00\n",
      "  -1.05944276e+00 -4.67426959e-01  2.24687728e+00 -7.52517087e-01\n",
      "  -6.24274640e-01  1.31922635e+00  1.12925636e-01 -3.78654536e-01\n",
      "  -1.27681967e+00 -1.48297636e+00  1.55193781e-01 -1.96967423e-01\n",
      "  -8.98127267e-01  1.41892299e+00  6.62298974e-01 -1.14102057e+00\n",
      "   1.02427828e+00 -2.59298764e-01 -6.34341022e-01  6.51535490e-01\n",
      "   3.29394680e-02 -4.90440752e-01  8.65838072e-01 -6.63895603e-01\n",
      "   1.65571258e+00 -1.60644312e-01]\n",
      " [-4.12705429e-01  1.23806639e+00  7.65489069e-03  6.31625828e-01\n",
      "   2.02626625e+00  4.33087297e-01 -3.67824414e-01 -7.31400688e-01\n",
      "   2.08014893e-02  5.41162319e-01 -2.66691159e-01 -8.23814855e-01\n",
      "   4.28410052e-01 -8.33080060e-02 -2.43981399e-01  4.28519084e-01\n",
      "   1.86532114e+00 -8.15321123e-01  1.02990964e+00  1.92999970e-01\n",
      "  -9.59875087e-01 -5.87429358e-01 -1.66093989e+00  3.10538582e-01\n",
      "   1.82753681e-01  1.18731927e+00  3.38751585e-01 -1.70957302e+00\n",
      "   8.54566088e-01  1.06261868e+00 -7.84782211e-01  8.90131904e-01\n",
      "   1.42943111e+00  2.07032150e-02  1.06517433e-01 -4.98889174e-01\n",
      "   6.17628757e-01  2.20928176e-01  1.26543086e+00  5.66572019e-01\n",
      "  -7.92211283e-01 -1.70083069e-01  8.13917911e-01 -1.92592122e-01\n",
      "  -3.07829174e-01 -8.80729715e-01  1.64210161e+00 -6.10500563e-01\n",
      "   3.84254022e-01  1.68959464e-01]\n",
      " [-1.07702727e+00  3.22012072e-01 -2.24429471e+00 -6.21541953e-03\n",
      "  -8.22160565e-01  5.91724288e-01  4.75943142e-01  5.95872873e-02\n",
      "  -1.57004813e+00 -3.93453748e-01  8.90456233e-01  1.27986652e-01\n",
      "  -1.14509719e+00 -3.05845454e-01  4.47239605e-02 -1.74194815e-01\n",
      "  -9.59602616e-01  1.58236457e+00  4.57530948e-01  1.77956790e+00\n",
      "  -1.34583264e+00  8.51967900e-02  1.05270241e+00  4.60584492e-01\n",
      "  -1.11704042e+00  4.45002446e-01 -2.61040693e-01  8.38861394e-01\n",
      "  -6.65477653e-01 -2.59899826e-01  1.75949412e-01 -1.19628559e+00\n",
      "   1.96806658e-01  5.73568610e-01 -8.24758991e-01 -3.37342552e-01\n",
      "   7.38255845e-01  7.73849216e-01 -1.57634005e+00  1.29092434e+00\n",
      "  -1.32640905e+00 -1.43681019e-01  1.75186462e-01  8.88955132e-01\n",
      "   8.99514487e-01  8.40980888e-02  2.68245396e-01 -1.86360546e+00\n",
      "   5.70968036e-01 -1.04638542e-01]\n",
      " [-7.79102409e-01 -1.95629444e+00  2.27414558e+00 -7.99363555e-01\n",
      "  -4.67310264e-01  1.43065311e-01 -1.18060300e+00 -6.97407560e-01\n",
      "  -7.40764529e-01  1.24474575e+00 -2.66479517e-01 -2.09815796e+00\n",
      "   1.31842167e+00  1.52235759e+00 -1.37346951e+00 -9.40753085e-03\n",
      "   5.04880564e-01 -6.21009800e-01  1.57918413e-01 -4.24925222e-01\n",
      "  -8.88458831e-01  1.57294355e+00  9.30308670e-01  5.06696896e-01\n",
      "   5.74907407e-01  2.76000049e-01 -1.88979469e-01 -7.68690696e-01\n",
      "  -1.87679210e-02 -2.80345460e-01  2.26629647e+00 -8.37226911e-01\n",
      "  -1.33299843e+00 -9.77710525e-01 -1.04703419e-02 -1.76620228e+00\n",
      "   1.59791568e-01  1.23280744e+00 -2.10573979e+00  1.05301770e+00\n",
      "   6.53452620e-01  2.17852940e+00  9.96847915e-02  2.13011978e+00\n",
      "  -1.18524092e+00  3.63805168e-01 -1.55183475e+00 -5.86885738e-01\n",
      "  -8.96436186e-01  1.79550313e+00]\n",
      " [-6.99809450e-01  8.18456379e-01 -3.74029210e-01 -2.16380698e+00\n",
      "   4.30287982e-01 -1.06623172e-01 -4.92830436e-01  7.17709246e-01\n",
      "   1.72121867e-01 -6.49053009e-01  2.45717838e-01  6.62748603e-01\n",
      "  -6.71644437e-01  2.19330310e+00  5.03131311e-02 -7.12160992e-01\n",
      "  -9.28181838e-02 -1.80589781e+00 -4.66980141e-01  1.16626447e+00\n",
      "  -7.08829957e-01  8.83517175e-01 -1.36398933e+00  5.61502131e-01\n",
      "  -1.02208431e+00 -3.66807129e-01 -4.46719431e-01 -3.15043299e-01\n",
      "   2.14757377e-01 -5.91728728e-01 -9.60381494e-02  5.69772825e-01\n",
      "   1.38940996e+00 -1.15121569e-01  1.45633011e+00 -2.34180163e-01\n",
      "  -1.49431315e-01  7.92898179e-01  1.05866930e+00 -1.63737769e+00\n",
      "   1.07185700e+00 -2.56494346e+00  2.73199624e-01 -1.25862596e+00\n",
      "   1.66836757e-01  5.57582843e-02 -5.28108283e-01 -1.98482861e+00\n",
      "   1.63386115e-01 -1.00971013e+00]\n",
      " [-7.65057331e-01  2.78937762e-01  2.05504248e-01  3.36022153e-01\n",
      "  -5.07555209e-01  6.31778030e-01  1.36848200e+00 -2.03575392e-01\n",
      "  -4.11058171e-01 -4.36593355e-01  1.13424124e-01 -1.15662373e+00\n",
      "   5.32421898e-02 -2.15678755e-02  2.24782792e+00  8.17691317e-01\n",
      "   7.49605608e-01  1.69199140e+00 -7.18793163e-02  5.73627338e-01\n",
      "  -1.16654829e+00  1.34215339e+00  1.59777426e+00  4.96744879e-01\n",
      "  -2.89038413e-01  4.69934669e-01 -2.16740495e-01  9.08068757e-02\n",
      "  -8.09135912e-01  4.59330498e-01  2.05025348e-02  1.23616774e+00\n",
      "  -5.55043636e-04 -6.72132445e-01 -6.77630547e-01 -7.82193183e-01\n",
      "   3.88161260e-01  2.12854214e-01 -2.33061029e-01  3.10430771e-01\n",
      "   1.09614571e+00  5.01495417e-01  5.52411368e-02  9.69283288e-01\n",
      "   7.04646083e-01 -1.02134282e+00  3.03943085e-01 -7.20768639e-01\n",
      "   6.15507046e-01  1.15123974e+00]]\n"
     ]
    }
   ],
   "source": [
    "rand_array = np.random.randn(50,50)\n",
    "np.set_printoptions(threshold = np.inf)\n",
    "print(rand_array)"
   ]
  },
  {
   "cell_type": "code",
   "execution_count": 179,
   "id": "e472b881",
   "metadata": {},
   "outputs": [
    {
     "data": {
      "text/plain": [
       "array([[-0.02890532,  0.60800668, -1.59155664, ..., -1.12631597,\n",
       "        -1.4027131 , -0.91039107],\n",
       "       [-1.19477922,  0.05466984, -0.57022377, ..., -1.04624544,\n",
       "         1.30594015, -1.30229497],\n",
       "       [ 0.13219958, -0.39808937,  0.68954872, ..., -1.30158744,\n",
       "         0.4961103 ,  0.20132965],\n",
       "       ...,\n",
       "       [-0.77910241, -1.95629444,  2.27414558, ..., -0.58688574,\n",
       "        -0.89643619,  1.79550313],\n",
       "       [-0.69980945,  0.81845638, -0.37402921, ..., -1.98482861,\n",
       "         0.16338612, -1.00971013],\n",
       "       [-0.76505733,  0.27893776,  0.20550425, ..., -0.72076864,\n",
       "         0.61550705,  1.15123974]])"
      ]
     },
     "execution_count": 179,
     "metadata": {},
     "output_type": "execute_result"
    }
   ],
   "source": [
    "# 원래대로 돌리려면?\n",
    "np.set_printoptions(threshold = 1000) # 디폴트 값이 1000이다.\n",
    "rand_array"
   ]
  },
  {
   "cell_type": "markdown",
   "id": "571a8275",
   "metadata": {},
   "source": [
    "    이 외에도 np.set_printoptions에서 precision을 활용해 반올림, format을 이용해 출력 데이터의 형식을 지정할 수 있다."
   ]
  },
  {
   "cell_type": "markdown",
   "id": "ed655678",
   "metadata": {},
   "source": [
    "#### 50. How to find the closest value (to a given scalar) in a vector? (★★☆)"
   ]
  },
  {
   "cell_type": "code",
   "execution_count": 2,
   "id": "55e0812f",
   "metadata": {},
   "outputs": [
    {
     "data": {
      "text/plain": [
       "1"
      ]
     },
     "execution_count": 2,
     "metadata": {},
     "output_type": "execute_result"
    }
   ],
   "source": [
    "X = np.arange(50)\n",
    "Y = np.random.uniform(0, 50)\n",
    "index = (np.abs(X - Y)).argmin()\n",
    "X[index]"
   ]
  },
  {
   "cell_type": "markdown",
   "id": "3f73f88f",
   "metadata": {},
   "source": [
    "#### 51. Create a structured array representing a position (x,y) and a color (r,g,b) (★★☆)"
   ]
  },
  {
   "cell_type": "code",
   "execution_count": 4,
   "id": "74b51105",
   "metadata": {},
   "outputs": [
    {
     "name": "stdout",
     "output_type": "stream",
     "text": [
      "[((0., 0.), (0., 0., 0.)) ((0., 0.), (0., 0., 0.))\n",
      " ((0., 0.), (0., 0., 0.)) ((0., 0.), (0., 0., 0.))\n",
      " ((0., 0.), (0., 0., 0.)) ((0., 0.), (0., 0., 0.))\n",
      " ((0., 0.), (0., 0., 0.)) ((0., 0.), (0., 0., 0.))\n",
      " ((0., 0.), (0., 0., 0.)) ((0., 0.), (0., 0., 0.))]\n"
     ]
    },
    {
     "name": "stderr",
     "output_type": "stream",
     "text": [
      "/var/folders/d7/8zsbg3r51rs_vl832mx18q_00000gn/T/ipykernel_17220/3108791801.py:1: FutureWarning: Passing (type, 1) or '1type' as a synonym of type is deprecated; in a future version of numpy, it will be understood as (type, (1,)) / '(1,)type'.\n",
      "  X = np.zeros(10, [ ('position', [ ('x', float, 1),\n"
     ]
    }
   ],
   "source": [
    "X = np.zeros(10, [ ('position', [ ('x', float, 1),\n",
    "                                  ('y', float, 1)]),\n",
    "                   ('color',    [ ('r', float, 1),\n",
    "                                  ('g', float, 1),\n",
    "                                  ('b', float, 1)])])\n",
    "print(X)"
   ]
  },
  {
   "cell_type": "markdown",
   "id": "db83eee0",
   "metadata": {},
   "source": [
    "#### 52. Consider a random vector with shape (100,2) representing coordinates, find point by point distances (★★☆)"
   ]
  },
  {
   "cell_type": "code",
   "execution_count": 13,
   "id": "10884922",
   "metadata": {},
   "outputs": [
    {
     "name": "stdout",
     "output_type": "stream",
     "text": [
      "[[0.         0.37458694 0.6949065  0.78525034 0.56414025 0.57053494\n",
      "  0.82699373 0.30159171 0.58616481 0.85768235]\n",
      " [0.37458694 0.         0.33159184 0.44680856 0.46027379 0.21608126\n",
      "  0.59022416 0.18087122 0.72128114 0.69980445]\n",
      " [0.6949065  0.33159184 0.         0.37252854 0.67564733 0.12571567\n",
      "  0.64784516 0.49415545 1.01433659 0.81955108]\n",
      " [0.78525034 0.44680856 0.37252854 0.         0.46315605 0.40749367\n",
      "  0.29854584 0.49078297 0.85937715 0.49037352]\n",
      " [0.56414025 0.46027379 0.67564733 0.46315605 0.         0.61461566\n",
      "  0.31412571 0.32063188 0.39832005 0.29392181]\n",
      " [0.57053494 0.21608126 0.12571567 0.40749367 0.61461566 0.\n",
      "  0.64588814 0.39001179 0.92415507 0.79853674]\n",
      " [0.82699373 0.59022416 0.64784516 0.29854584 0.31412571 0.64588814\n",
      "  0.         0.53455057 0.68587663 0.19653516]\n",
      " [0.30159171 0.18087122 0.49415545 0.49078297 0.32063188 0.39001179\n",
      "  0.53455057 0.         0.54047817 0.59666701]\n",
      " [0.58616481 0.72128114 1.01433659 0.85937715 0.39832005 0.92415507\n",
      "  0.68587663 0.54047817 0.         0.57304848]\n",
      " [0.85768235 0.69980445 0.81955108 0.49037352 0.29392181 0.79853674\n",
      "  0.19653516 0.59666701 0.57304848 0.        ]]\n"
     ]
    }
   ],
   "source": [
    "Z = np.random.random((10,2))\n",
    "X,Y = np.atleast_2d(Z[:,0], Z[:,1])\n",
    "D = np.sqrt( (X-X.T)**2 + (Y-Y.T)**2)\n",
    "print(D)"
   ]
  },
  {
   "cell_type": "markdown",
   "id": "b90e0bb2",
   "metadata": {},
   "source": [
    "#### 53. How to convert a float (32 bits) array into an integer (32 bits) in place?"
   ]
  },
  {
   "cell_type": "code",
   "execution_count": 12,
   "id": "db97ea05",
   "metadata": {},
   "outputs": [
    {
     "name": "stdout",
     "output_type": "stream",
     "text": [
      "[[-1 -1  1  0  0]\n",
      " [ 0  0  2  0  0]\n",
      " [ 1  0  1  0  0]\n",
      " [-1  0  0  1  0]\n",
      " [-1  1  0  1  0]\n",
      " [ 0  0  0  0  0]\n",
      " [ 0  0  0  1 -1]\n",
      " [ 0  0  0  0  1]\n",
      " [ 0  0  0  0  0]\n",
      " [ 0  0  0  0  0]]\n"
     ]
    }
   ],
   "source": [
    "vector = np.random.randn(10 ,5).astype('float32')\n",
    "integer = vector.view('int32')\n",
    "integer[:] = vector\n",
    "print(integer)"
   ]
  },
  {
   "cell_type": "markdown",
   "id": "0d1b021c",
   "metadata": {},
   "source": [
    "#### 54. How to read the following file? (★★☆)\n",
    "```\n",
    "1, 2, 3, 4, 5\n",
    "6,  ,  , 7, 8\n",
    " ,  , 9,10,11\n",
    "```"
   ]
  },
  {
   "cell_type": "code",
   "execution_count": null,
   "id": "9551928e",
   "metadata": {},
   "outputs": [
    {
     "ename": "",
     "evalue": "",
     "output_type": "error",
     "traceback": [
      "\u001b[1;31m커널을 시작하지 못했습니다. \n",
      "\u001b[1;31m커널 Python 3.10.6을(를) ​사용할 수 없습니다. 자세한 내용은 Jupyter 출력 탭을 확인하세요. \n",
      "\u001b[1;31m자세한 내용은 Jupyter <a href='command:jupyter.viewOutput'>로그</a>를 참조하세요."
     ]
    }
   ],
   "source": []
  },
  {
   "cell_type": "markdown",
   "id": "56928772",
   "metadata": {},
   "source": [
    "#### 55. What is the equivalent of enumerate for numpy arrays? (★★☆)"
   ]
  },
  {
   "cell_type": "code",
   "execution_count": 64,
   "id": "327d9b88",
   "metadata": {},
   "outputs": [
    {
     "name": "stdout",
     "output_type": "stream",
     "text": [
      "(0, 0) 0\n",
      "(0, 1) 1\n",
      "(1, 0) 2\n",
      "(1, 1) 3\n"
     ]
    }
   ],
   "source": [
    "enu = np.arange(4).reshape(2,2)\n",
    "\n",
    "for index, value in np.ndenumerate(enu):\n",
    "    print(index, value) # np.ndenumerate는 (x,y)를 인덱스로 출력한다."
   ]
  },
  {
   "cell_type": "markdown",
   "id": "257e0bac",
   "metadata": {},
   "source": [
    "#### 56. Generate a generic 2D Gaussian-like array (★★☆)"
   ]
  },
  {
   "cell_type": "code",
   "execution_count": 65,
   "id": "1325d664",
   "metadata": {},
   "outputs": [
    {
     "data": {
      "text/plain": [
       "array([[-1.        , -0.77777778, -0.55555556, -0.33333333, -0.11111111,\n",
       "         0.11111111,  0.33333333,  0.55555556,  0.77777778,  1.        ],\n",
       "       [-1.        , -0.77777778, -0.55555556, -0.33333333, -0.11111111,\n",
       "         0.11111111,  0.33333333,  0.55555556,  0.77777778,  1.        ]])"
      ]
     },
     "execution_count": 65,
     "metadata": {},
     "output_type": "execute_result"
    }
   ],
   "source": [
    "gaussian = np.array([np.linspace(-1, 1, 10), np.linspace(-1, 1, 10)])\n",
    "mu = 0\n",
    "sigma = 1\n",
    "\n",
    "(gaussian - mu)/sigma\n"
   ]
  },
  {
   "cell_type": "markdown",
   "id": "441347ee",
   "metadata": {},
   "source": [
    "#### 57. How to randomly place p elements in a 2D array? (★★☆)"
   ]
  },
  {
   "cell_type": "code",
   "execution_count": 28,
   "id": "1e61fce5",
   "metadata": {},
   "outputs": [
    {
     "data": {
      "text/plain": [
       "array([[1., 0., 0.],\n",
       "       [1., 0., 0.],\n",
       "       [0., 0., 1.]])"
      ]
     },
     "execution_count": 28,
     "metadata": {},
     "output_type": "execute_result"
    }
   ],
   "source": [
    "array_57 = np.zeros((3, 3))\n",
    "np.put(array_57, np.random.choice(range(9), 3, replace = False), 1) # 어디에(array_57), 몇 번째 요소에(np.random.choice 부분), 무엇을(1) 집어넣어라.\n",
    "array_57"
   ]
  },
  {
   "cell_type": "markdown",
   "id": "8a76af52",
   "metadata": {},
   "source": [
    "#### 58. Subtract the mean of each row of a matrix (★★☆)"
   ]
  },
  {
   "cell_type": "code",
   "execution_count": 17,
   "id": "65cf18e9",
   "metadata": {},
   "outputs": [
    {
     "data": {
      "text/plain": [
       "array([-1.16826304,  0.56667231, -0.08120563,  0.20964938, -0.17918587,\n",
       "       -0.1547881 ,  0.12645999, -0.2507749 ,  0.12436045, -0.89836105])"
      ]
     },
     "execution_count": 17,
     "metadata": {},
     "output_type": "execute_result"
    }
   ],
   "source": [
    "matrix = np.random.randn(10, 5)\n",
    "matrix.mean(axis = 1) # axis = 1은 행별 연산, axis = 0은 열별 계산"
   ]
  },
  {
   "cell_type": "markdown",
   "id": "d2dc8b5f",
   "metadata": {},
   "source": [
    "#### 59. How to sort an array by the nth column? (★★☆)"
   ]
  },
  {
   "cell_type": "code",
   "execution_count": 25,
   "id": "83b5eafe",
   "metadata": {},
   "outputs": [
    {
     "data": {
      "text/plain": [
       "array([[ 1.4655717 ,  0.89902885,  1.49373322, -1.83646102,  1.10640823],\n",
       "       [-0.1276673 ,  2.3482649 , -0.06265615, -0.42908647,  1.18892496],\n",
       "       [ 1.16059368,  0.21522969,  0.00609088, -0.18101011,  0.93827008],\n",
       "       [ 0.7947502 ,  0.73034973,  0.27362178,  0.94432827, -0.61438565],\n",
       "       [-0.28584091,  1.03927505,  0.38701966,  1.43550081, -0.59563441]])"
      ]
     },
     "execution_count": 25,
     "metadata": {},
     "output_type": "execute_result"
    }
   ],
   "source": [
    "array_59 = np.random.randn(5,5)\n",
    "array_59[:, 3].sort() # n = 3\n",
    "array_59"
   ]
  },
  {
   "cell_type": "markdown",
   "id": "4886f74e",
   "metadata": {},
   "source": [
    "#### 60. How to tell if a given 2D array has null columns? (★★☆)"
   ]
  },
  {
   "cell_type": "code",
   "execution_count": 62,
   "id": "7a066dd9",
   "metadata": {},
   "outputs": [
    {
     "name": "stdout",
     "output_type": "stream",
     "text": [
      "[False False  True]\n"
     ]
    }
   ],
   "source": [
    "Z=np.array([\n",
    "    [0,1,np.nan],\n",
    "    [1,2,np.nan],\n",
    "    [4,5,np.nan]\n",
    "])\n",
    "print(np.isnan(Z).all(axis = 0)) # all은 배열의 모든 원소가 참인지 판별한다. 따라서 bool 배열이 필요하다."
   ]
  },
  {
   "cell_type": "markdown",
   "id": "1f5ad2a9",
   "metadata": {},
   "source": [
    "#### 61. Find the nearest value from a given value in an array (★★☆)"
   ]
  },
  {
   "cell_type": "code",
   "execution_count": 57,
   "id": "f53df167",
   "metadata": {},
   "outputs": [
    {
     "data": {
      "text/plain": [
       "array([[ 2., -1.,  1., -1.,  1.],\n",
       "       [ 1.,  1.,  1., -0., -1.],\n",
       "       [-1.,  0.,  2., -0., -1.],\n",
       "       [ 0., -1., -1.,  0., -0.],\n",
       "       [-0.,  0.,  1., -0.,  0.]])"
      ]
     },
     "execution_count": 57,
     "metadata": {},
     "output_type": "execute_result"
    }
   ],
   "source": [
    "v = np.random.randn(5,5)\n",
    "\n",
    "np.round(v, 0)"
   ]
  },
  {
   "cell_type": "markdown",
   "id": "aa48f9b2",
   "metadata": {},
   "source": [
    "#### 62. Considering two arrays with shape (1,3) and (3,1), how to compute their sum using an iterator? (★★☆)"
   ]
  },
  {
   "cell_type": "code",
   "execution_count": 73,
   "id": "68987301",
   "metadata": {},
   "outputs": [
    {
     "name": "stdout",
     "output_type": "stream",
     "text": [
      "[[ 0.46763648  0.02527878 -0.04601826]\n",
      " [ 1.93942225  1.49706456  1.42576752]\n",
      " [ 1.77363117  1.33127347  1.25997644]]\n"
     ]
    }
   ],
   "source": [
    "array_first = np.random.randn(1,3)\n",
    "array_second = np.random.randn(3,1)\n",
    "\n",
    "it = np.nditer([array_first, array_second, None]) # iter은 값을 순서대로 꺼낸다.\n",
    "for x,y,z in it: z[...] = x + y\n",
    "print(it.operands[2])\n"
   ]
  },
  {
   "cell_type": "markdown",
   "id": "0bed1516",
   "metadata": {},
   "source": [
    "#### 63. Create an array class that has a name attribute (★★☆)"
   ]
  },
  {
   "cell_type": "code",
   "execution_count": null,
   "id": "fa1d52fc",
   "metadata": {},
   "outputs": [
    {
     "ename": "",
     "evalue": "",
     "output_type": "error",
     "traceback": [
      "\u001b[1;31m커널을 시작하지 못했습니다. \n",
      "\u001b[1;31m커널 Python 3.10.6을(를) ​사용할 수 없습니다. 자세한 내용은 Jupyter 출력 탭을 확인하세요. \n",
      "\u001b[1;31m자세한 내용은 Jupyter <a href='command:jupyter.viewOutput'>로그</a>를 참조하세요."
     ]
    }
   ],
   "source": []
  },
  {
   "cell_type": "markdown",
   "id": "463a40bb",
   "metadata": {},
   "source": [
    "#### 64. Consider a given vector, how to add 1 to each element indexed by a second vector (be careful with repeated indices)? (★★★)"
   ]
  },
  {
   "cell_type": "code",
   "execution_count": 81,
   "id": "cdb2cad0",
   "metadata": {},
   "outputs": [
    {
     "data": {
      "text/plain": [
       "array([2., 1., 4., 4., 1., 4., 2., 4., 4., 4.])"
      ]
     },
     "execution_count": 81,
     "metadata": {},
     "output_type": "execute_result"
    }
   ],
   "source": [
    "Z = np.ones(10)\n",
    "index = np.random.randint(0, len(Z), 20)\n",
    "\n",
    "np.add.at(Z, index, 1) # Z에 index번의 원소에 1만큼 더해라. 행렬 연산 시에도 적용(행의 index를 index에 넣어주어야 함)\n",
    "Z"
   ]
  },
  {
   "cell_type": "markdown",
   "id": "2a2f8219",
   "metadata": {},
   "source": [
    "#### 65. How to accumulate elements of a vector (X) to an array (F) based on an index list (I)? (★★★)"
   ]
  },
  {
   "cell_type": "code",
   "execution_count": 122,
   "id": "9cc34a77",
   "metadata": {},
   "outputs": [
    {
     "name": "stdout",
     "output_type": "stream",
     "text": [
      "[0. 7. 0. 6. 5. 0. 0. 0. 0. 3.]\n"
     ]
    }
   ],
   "source": [
    "X = [1,2,3,4,5,6]\n",
    "I = [1,3,9,3,4,1]\n",
    "F = np.bincount(I,X) # np.bincount은 빈도수를 출력한다.\n",
    "print(F)"
   ]
  },
  {
   "cell_type": "markdown",
   "id": "6a6a3c66",
   "metadata": {},
   "source": [
    "#### 66. Considering a (w,h,3) image of (dtype=ubyte), compute the number of unique colors (★★☆)"
   ]
  },
  {
   "cell_type": "code",
   "execution_count": null,
   "id": "c88f5a5e",
   "metadata": {},
   "outputs": [
    {
     "ename": "",
     "evalue": "",
     "output_type": "error",
     "traceback": [
      "\u001b[1;31m커널을 시작하지 못했습니다. \n",
      "\u001b[1;31m커널 Python 3.10.6을(를) ​사용할 수 없습니다. 자세한 내용은 Jupyter 출력 탭을 확인하세요. \n",
      "\u001b[1;31m자세한 내용은 Jupyter <a href='command:jupyter.viewOutput'>로그</a>를 참조하세요."
     ]
    }
   ],
   "source": []
  },
  {
   "cell_type": "markdown",
   "id": "4b030baa",
   "metadata": {},
   "source": [
    "#### 67. Considering a four dimensions array, how to get sum over the last two axis at once? (★★★)"
   ]
  },
  {
   "cell_type": "code",
   "execution_count": 307,
   "id": "cd2e7c9c",
   "metadata": {},
   "outputs": [
    {
     "data": {
      "text/plain": [
       "array([[[ 0.87210838, -0.26673107, -3.44511563,  1.28226321],\n",
       "        [ 3.64962279,  2.18655509, -1.81453687,  0.04335972],\n",
       "        [-4.15626079,  2.68973972, -0.68282521, -2.03722198],\n",
       "        [ 5.84552019,  0.13034609, -0.46773997, -0.76464813]],\n",
       "\n",
       "       [[-0.89559063, -0.30111856, -0.18583338, -0.07726826],\n",
       "        [ 0.43964502, -0.36806171,  2.08961062, -0.04864876],\n",
       "        [-0.18443067,  0.18926139,  1.34289912,  1.86133346],\n",
       "        [-1.23758084, -2.14499344,  0.9704515 ,  1.24103147]],\n",
       "\n",
       "       [[-1.33113415, -2.98926808,  0.90598331,  2.26783225],\n",
       "        [-0.25680158, -1.38313634, -2.62797952, -2.82097849],\n",
       "        [-5.52610785,  0.12999774,  2.78043136,  3.06829496],\n",
       "        [-4.82372514,  0.99388834, -0.46907088,  0.90443352]],\n",
       "\n",
       "       [[ 1.38542324, -1.2437508 , -0.80184212,  0.68646866],\n",
       "        [-1.52716153,  3.79317264, -2.7519163 , -2.81406042],\n",
       "        [-2.45747609, -0.03400347,  2.51803342, -0.8885841 ],\n",
       "        [ 0.40358217, -0.64037842,  0.70421615,  2.01060503]]])"
      ]
     },
     "execution_count": 307,
     "metadata": {},
     "output_type": "execute_result"
    }
   ],
   "source": [
    "# given\n",
    "\n",
    "arr = np.random.randn(4,4,4,4)\n",
    "\n",
    "np.sum(arr, axis = (3 & 4))"
   ]
  },
  {
   "cell_type": "markdown",
   "id": "1fa6053b",
   "metadata": {},
   "source": [
    "#### 68. Considering a one-dimensional vector D, how to compute means of subsets of D using a vector S of same size describing subset  indices? (★★★)"
   ]
  },
  {
   "cell_type": "code",
   "execution_count": null,
   "id": "9b5a070d",
   "metadata": {},
   "outputs": [
    {
     "ename": "",
     "evalue": "",
     "output_type": "error",
     "traceback": [
      "\u001b[1;31m커널을 시작하지 못했습니다. \n",
      "\u001b[1;31m커널 Python 3.10.6을(를) ​사용할 수 없습니다. 자세한 내용은 Jupyter 출력 탭을 확인하세요. \n",
      "\u001b[1;31m자세한 내용은 Jupyter <a href='command:jupyter.viewOutput'>로그</a>를 참조하세요."
     ]
    }
   ],
   "source": []
  },
  {
   "cell_type": "markdown",
   "id": "2e7b0395",
   "metadata": {},
   "source": [
    "#### 69. How to get the diagonal of a dot product? (★★★)"
   ]
  },
  {
   "cell_type": "code",
   "execution_count": 87,
   "id": "ae437196",
   "metadata": {},
   "outputs": [
    {
     "data": {
      "text/plain": [
       "array([ 0, 16, 64])"
      ]
     },
     "execution_count": 87,
     "metadata": {},
     "output_type": "execute_result"
    }
   ],
   "source": [
    "X = np.arange(9).reshape(3,3)\n",
    "Y = np.arange(9).reshape(3,3)\n",
    "\n",
    "np.diag(X * Y)"
   ]
  },
  {
   "cell_type": "markdown",
   "id": "2bf2f8e4",
   "metadata": {},
   "source": [
    "#### 70. Consider the vector [1, 2, 3, 4, 5], how to build a new vector with 3 consecutive zeros interleaved between each value? (★★★)"
   ]
  },
  {
   "cell_type": "code",
   "execution_count": 102,
   "id": "8a427342",
   "metadata": {},
   "outputs": [
    {
     "data": {
      "text/plain": [
       "array([1, 0, 0, 0, 2, 0, 0, 0, 3, 0, 0, 0, 4, 0, 0, 0, 5])"
      ]
     },
     "execution_count": 102,
     "metadata": {},
     "output_type": "execute_result"
    }
   ],
   "source": [
    "vec = np.arange(1, 6, 1)\n",
    "\n",
    "vec_ex= np.repeat(vec, 4, axis = 0)[:-3]\n",
    "index = np.arange(len(vec_ex))\n",
    "\n",
    "vec_ex[index % 4 != 0] = 0\n",
    "vec_ex"
   ]
  },
  {
   "cell_type": "markdown",
   "id": "fff802ea",
   "metadata": {},
   "source": [
    "#### 71. Consider an array of dimension (5,5,3), how to mulitply it by an array with dimensions (5,5)? (★★★)"
   ]
  },
  {
   "cell_type": "code",
   "execution_count": 112,
   "id": "e83ab7b5",
   "metadata": {},
   "outputs": [
    {
     "data": {
      "text/plain": [
       "array([[[   0,    0,    0],\n",
       "        [   3,    4,    5],\n",
       "        [  12,   14,   16],\n",
       "        [  27,   30,   33],\n",
       "        [  48,   52,   56]],\n",
       "\n",
       "       [[  75,   80,   85],\n",
       "        [ 108,  114,  120],\n",
       "        [ 147,  154,  161],\n",
       "        [ 192,  200,  208],\n",
       "        [ 243,  252,  261]],\n",
       "\n",
       "       [[ 300,  310,  320],\n",
       "        [ 363,  374,  385],\n",
       "        [ 432,  444,  456],\n",
       "        [ 507,  520,  533],\n",
       "        [ 588,  602,  616]],\n",
       "\n",
       "       [[ 675,  690,  705],\n",
       "        [ 768,  784,  800],\n",
       "        [ 867,  884,  901],\n",
       "        [ 972,  990, 1008],\n",
       "        [1083, 1102, 1121]],\n",
       "\n",
       "       [[1200, 1220, 1240],\n",
       "        [1323, 1344, 1365],\n",
       "        [1452, 1474, 1496],\n",
       "        [1587, 1610, 1633],\n",
       "        [1728, 1752, 1776]]])"
      ]
     },
     "execution_count": 112,
     "metadata": {},
     "output_type": "execute_result"
    }
   ],
   "source": [
    "a = np.arange(5*5*3).reshape(5,5,3)\n",
    "b = np.arange(5*5).reshape(5,5)\n",
    "\n",
    "a * b[:, :, None]"
   ]
  },
  {
   "cell_type": "markdown",
   "id": "a0865c04",
   "metadata": {},
   "source": [
    "#### 72. How to swap two rows of an array? (★★★)"
   ]
  },
  {
   "cell_type": "code",
   "execution_count": 45,
   "id": "bb510428",
   "metadata": {},
   "outputs": [
    {
     "data": {
      "text/plain": [
       "array([1.1457807 , 0.37216449, 0.4346589 , 0.26550281, 0.76164193])"
      ]
     },
     "execution_count": 45,
     "metadata": {},
     "output_type": "execute_result"
    }
   ],
   "source": [
    "origin = np.random.randn(5,5)\n",
    "\n",
    "first_row = origin[0]\n",
    "second_row = origin[1]\n",
    "\n",
    "first_row"
   ]
  },
  {
   "cell_type": "code",
   "execution_count": 46,
   "id": "e649e0d8",
   "metadata": {},
   "outputs": [
    {
     "data": {
      "text/plain": [
       "array([-1.24061065, -0.19556852,  0.40974084, -0.86839128, -0.61976626])"
      ]
     },
     "execution_count": 46,
     "metadata": {},
     "output_type": "execute_result"
    }
   ],
   "source": [
    "second_row"
   ]
  },
  {
   "cell_type": "code",
   "execution_count": 54,
   "id": "d9162561",
   "metadata": {},
   "outputs": [
    {
     "data": {
      "text/plain": [
       "array([-1.24061065, -0.19556852,  0.40974084, -0.86839128, -0.61976626])"
      ]
     },
     "execution_count": 54,
     "metadata": {},
     "output_type": "execute_result"
    }
   ],
   "source": [
    "origin[0] = second_row\n",
    "origin[1] = first_row"
   ]
  },
  {
   "cell_type": "markdown",
   "id": "52beda8d",
   "metadata": {},
   "source": [
    "#### 73. Consider a set of 10 triplets describing 10 triangles (with shared vertices), find the set of unique line segments composing all the  triangles (★★★)"
   ]
  },
  {
   "cell_type": "code",
   "execution_count": null,
   "id": "5b9895de",
   "metadata": {},
   "outputs": [
    {
     "ename": "",
     "evalue": "",
     "output_type": "error",
     "traceback": [
      "\u001b[1;31m커널을 시작하지 못했습니다. \n",
      "\u001b[1;31m커널 Python 3.10.6을(를) ​사용할 수 없습니다. 자세한 내용은 Jupyter 출력 탭을 확인하세요. \n",
      "\u001b[1;31m자세한 내용은 Jupyter <a href='command:jupyter.viewOutput'>로그</a>를 참조하세요."
     ]
    }
   ],
   "source": []
  },
  {
   "cell_type": "markdown",
   "id": "b1f8e571",
   "metadata": {},
   "source": [
    "#### 74. Given a sorted array C that corresponds to a bincount, how to produce an array A such that np.bincount(A) == C? (★★★)"
   ]
  },
  {
   "cell_type": "code",
   "execution_count": 155,
   "id": "ea6d42e9",
   "metadata": {},
   "outputs": [
    {
     "data": {
      "text/plain": [
       "array([6, 6, 1, 5, 8])"
      ]
     },
     "execution_count": 155,
     "metadata": {},
     "output_type": "execute_result"
    }
   ],
   "source": [
    "## Given array\n",
    "\n",
    "C = np.random.randint(1, 10, 5)\n",
    "C"
   ]
  },
  {
   "cell_type": "code",
   "execution_count": 166,
   "id": "ccac5df6",
   "metadata": {},
   "outputs": [
    {
     "data": {
      "text/plain": [
       "True"
      ]
     },
     "execution_count": 166,
     "metadata": {},
     "output_type": "execute_result"
    }
   ],
   "source": [
    "## array A\n",
    "A = np.repeat(np.arange(5), C, axis = 0)\n",
    "np.array_equal(np.bincount(A), C)"
   ]
  },
  {
   "cell_type": "markdown",
   "id": "db1ed658",
   "metadata": {},
   "source": [
    "#### 75. How to compute averages using a sliding window over an array? (★★★)"
   ]
  },
  {
   "cell_type": "code",
   "execution_count": 174,
   "id": "9dc6a98a",
   "metadata": {},
   "outputs": [
    {
     "data": {
      "text/plain": [
       "[1.0,\n",
       " 2.0,\n",
       " 3.0,\n",
       " 4.0,\n",
       " 5.0,\n",
       " 6.0,\n",
       " 7.0,\n",
       " 8.0,\n",
       " 9.0,\n",
       " 10.0,\n",
       " 11.0,\n",
       " 12.0,\n",
       " 13.0,\n",
       " 14.0,\n",
       " 15.0,\n",
       " 16.0,\n",
       " 17.0]"
      ]
     },
     "execution_count": 174,
     "metadata": {},
     "output_type": "execute_result"
    }
   ],
   "source": [
    "# Given Array\n",
    "\n",
    "array_75 = np.arange(20)\n",
    "\n",
    "# moving average\n",
    "\n",
    "def moving_average(array, window = 3):\n",
    "    avg_list = []\n",
    "    for i in range(len(array) - window):\n",
    "            base = array[i:i+window]\n",
    "            value = np.average(base)\n",
    "            avg_list.append(value)\n",
    "    return avg_list\n",
    "\n",
    "moving_average(array_75, 3)"
   ]
  },
  {
   "cell_type": "markdown",
   "id": "1ca35bda",
   "metadata": {},
   "source": [
    "#### 76. Consider a one-dimensional array Z, build a two-dimensional array whose first row is (Z[0],Z[1],Z[2]) and each subsequent row is  shifted by 1 (last row should be (Z[-3],Z[-2],Z[-1]) (★★★)"
   ]
  },
  {
   "cell_type": "code",
   "execution_count": 251,
   "id": "900e8b0a",
   "metadata": {},
   "outputs": [
    {
     "data": {
      "text/plain": [
       "array([[ 0,  1,  2],\n",
       "       [ 1,  2,  3],\n",
       "       [ 2,  3,  4],\n",
       "       [ 3,  4,  5],\n",
       "       [ 4,  5,  6],\n",
       "       [ 5,  6,  7],\n",
       "       [ 6,  7,  8],\n",
       "       [ 7,  8,  9],\n",
       "       [ 8,  9, 10],\n",
       "       [ 9, 10, 11],\n",
       "       [10, 11, 12],\n",
       "       [11, 12, 13],\n",
       "       [12, 13, 14]])"
      ]
     },
     "execution_count": 251,
     "metadata": {},
     "output_type": "execute_result"
    }
   ],
   "source": [
    "Z = np.arange(16)\n",
    "\n",
    "a = [Z[i:i+3] for i in range(len(Z) - 3)]\n",
    "np.array(a)"
   ]
  },
  {
   "cell_type": "markdown",
   "id": "18bd6fab",
   "metadata": {},
   "source": [
    "#### 77. How to negate a boolean, or to change the sign of a float inplace? (★★★)"
   ]
  },
  {
   "cell_type": "code",
   "execution_count": null,
   "id": "554c5103",
   "metadata": {},
   "outputs": [
    {
     "ename": "",
     "evalue": "",
     "output_type": "error",
     "traceback": [
      "\u001b[1;31m커널을 시작하지 못했습니다. \n",
      "\u001b[1;31m커널 Python 3.10.6을(를) ​사용할 수 없습니다. 자세한 내용은 Jupyter 출력 탭을 확인하세요. \n",
      "\u001b[1;31m자세한 내용은 Jupyter <a href='command:jupyter.viewOutput'>로그</a>를 참조하세요."
     ]
    }
   ],
   "source": []
  },
  {
   "cell_type": "markdown",
   "id": "79a5b412",
   "metadata": {},
   "source": [
    "#### 78. Consider 2 sets of points P0,P1 describing lines (2d) and a point p, how to compute distance from p to each line i (P0[i],P1[i])? (★★★)"
   ]
  },
  {
   "cell_type": "code",
   "execution_count": null,
   "id": "4e4eac2f",
   "metadata": {},
   "outputs": [
    {
     "ename": "",
     "evalue": "",
     "output_type": "error",
     "traceback": [
      "\u001b[1;31m커널을 시작하지 못했습니다. \n",
      "\u001b[1;31m커널 Python 3.10.6을(를) ​사용할 수 없습니다. 자세한 내용은 Jupyter 출력 탭을 확인하세요. \n",
      "\u001b[1;31m자세한 내용은 Jupyter <a href='command:jupyter.viewOutput'>로그</a>를 참조하세요."
     ]
    }
   ],
   "source": []
  },
  {
   "cell_type": "markdown",
   "id": "33ffa66d",
   "metadata": {},
   "source": [
    "#### 79. Consider 2 sets of points P0,P1 describing lines (2d) and a set of points P, how to compute distance from each point j (P[j]) to each line i (P0[i],P1[i])? (★★★)"
   ]
  },
  {
   "cell_type": "code",
   "execution_count": null,
   "id": "b56c2510",
   "metadata": {},
   "outputs": [
    {
     "ename": "",
     "evalue": "",
     "output_type": "error",
     "traceback": [
      "\u001b[1;31m커널을 시작하지 못했습니다. \n",
      "\u001b[1;31m커널 Python 3.10.6을(를) ​사용할 수 없습니다. 자세한 내용은 Jupyter 출력 탭을 확인하세요. \n",
      "\u001b[1;31m자세한 내용은 Jupyter <a href='command:jupyter.viewOutput'>로그</a>를 참조하세요."
     ]
    }
   ],
   "source": []
  },
  {
   "cell_type": "markdown",
   "id": "a0f23dfa",
   "metadata": {},
   "source": [
    "#### 80. Consider an arbitrary array, write a function that extract a subpart with a fixed shape and centered on a given element (pad with a `fill` value when necessary) (★★★)"
   ]
  },
  {
   "cell_type": "code",
   "execution_count": null,
   "id": "4b7b96fc",
   "metadata": {},
   "outputs": [
    {
     "ename": "",
     "evalue": "",
     "output_type": "error",
     "traceback": [
      "\u001b[1;31m커널을 시작하지 못했습니다. \n",
      "\u001b[1;31m커널 Python 3.10.6을(를) ​사용할 수 없습니다. 자세한 내용은 Jupyter 출력 탭을 확인하세요. \n",
      "\u001b[1;31m자세한 내용은 Jupyter <a href='command:jupyter.viewOutput'>로그</a>를 참조하세요."
     ]
    }
   ],
   "source": []
  },
  {
   "cell_type": "markdown",
   "id": "cc27e944",
   "metadata": {},
   "source": [
    "#### 81. Consider an array Z = [1,2,3,4,5,6,7,8,9,10,11,12,13,14], how to generate an array R = [[1,2,3,4], [2,3,4,5], [3,4,5,6], ..., [11,12,13,14]]? (★★★)"
   ]
  },
  {
   "cell_type": "code",
   "execution_count": 194,
   "id": "2fdaa26c",
   "metadata": {},
   "outputs": [
    {
     "data": {
      "text/plain": [
       "array([[ 1.,  2.,  3.,  4.],\n",
       "       [ 2.,  3.,  4.,  5.],\n",
       "       [ 3.,  4.,  5.,  6.],\n",
       "       [ 4.,  5.,  6.,  7.],\n",
       "       [ 5.,  6.,  7.,  8.],\n",
       "       [ 6.,  7.,  8.,  9.],\n",
       "       [ 7.,  8.,  9., 10.],\n",
       "       [ 8.,  9., 10., 11.],\n",
       "       [ 9., 10., 11., 12.],\n",
       "       [10., 11., 12., 13.],\n",
       "       [11., 12., 13., 14.]])"
      ]
     },
     "execution_count": 194,
     "metadata": {},
     "output_type": "execute_result"
    }
   ],
   "source": [
    "# base list\n",
    "\n",
    "Z = np.arange(1, 15)\n",
    "\n",
    "# reshape\n",
    "R = np.zeros((11, 4))\n",
    "for i in range(11):\n",
    "    value = Z[i:i+4]\n",
    "    R[i] += value\n",
    "\n",
    "R\n"
   ]
  },
  {
   "cell_type": "markdown",
   "id": "9bc44d6e",
   "metadata": {},
   "source": [
    "#### 82. Compute a matrix rank (★★★)"
   ]
  },
  {
   "cell_type": "code",
   "execution_count": 215,
   "id": "3a4c7564",
   "metadata": {},
   "outputs": [
    {
     "name": "stdout",
     "output_type": "stream",
     "text": [
      "10\n"
     ]
    }
   ],
   "source": [
    "Z = np.random.uniform(0,1,(10,10))\n",
    "rank = np.linalg.matrix_rank(Z)\n",
    "print(rank)"
   ]
  },
  {
   "cell_type": "markdown",
   "id": "718a82dd",
   "metadata": {},
   "source": [
    "#### 83. How to find the most frequent value in an array?"
   ]
  },
  {
   "cell_type": "code",
   "execution_count": 214,
   "id": "8ffc513c",
   "metadata": {},
   "outputs": [
    {
     "data": {
      "text/plain": [
       "4"
      ]
     },
     "execution_count": 214,
     "metadata": {},
     "output_type": "execute_result"
    }
   ],
   "source": [
    "# Given Array\n",
    "\n",
    "import random\n",
    "random.seed(0)\n",
    "ga = np.random.randint(0, 5, 30)\n",
    "\n",
    "# compute most frequent value\n",
    "\n",
    "count = np.bincount(ga).argmax()\n",
    "count"
   ]
  },
  {
   "cell_type": "markdown",
   "id": "754ceeba",
   "metadata": {},
   "source": [
    "#### 84. Extract all the contiguous 3x3 blocks from a random 10x10 matrix (★★★)"
   ]
  },
  {
   "cell_type": "code",
   "execution_count": 224,
   "id": "c32bb120",
   "metadata": {},
   "outputs": [
    {
     "data": {
      "text/plain": [
       "[array([[ 0.4,  1.3,  1.2],\n",
       "        [ 0.8,  1.7,  0.9],\n",
       "        [-1.3, -0.3, -0.8]]),\n",
       " array([[ 1.3,  1.2, -0.6],\n",
       "        [ 1.7,  0.9, -0.9],\n",
       "        [-0.3, -0.8, -2. ]]),\n",
       " array([[ 1.2, -0.6,  0.5],\n",
       "        [ 0.9, -0.9, -0.2],\n",
       "        [-0.8, -2. , -0.9]]),\n",
       " array([[-0.6,  0.5,  0.5],\n",
       "        [-0.9, -0.2,  1.7],\n",
       "        [-2. , -0.9,  0.1]]),\n",
       " array([[ 0.5,  0.5,  0.3],\n",
       "        [-0.2,  1.7, -2.1],\n",
       "        [-0.9,  0.1,  0.5]]),\n",
       " array([[ 0.5,  0.3, -0.3],\n",
       "        [ 1.7, -2.1, -0.9],\n",
       "        [ 0.1,  0.5,  0.2]]),\n",
       " array([[ 0.3, -0.3, -0.4],\n",
       "        [-2.1, -0.9,  0.5],\n",
       "        [ 0.5,  0.2, -1.1]]),\n",
       " array([[ 0.8,  1.7,  0.9],\n",
       "        [-1.3, -0.3, -0.8],\n",
       "        [ 0.5, -0.4, -0.1]]),\n",
       " array([[ 1.7,  0.9, -0.9],\n",
       "        [-0.3, -0.8, -2. ],\n",
       "        [-0.4, -0.1, -0.1]]),\n",
       " array([[ 0.9, -0.9, -0.2],\n",
       "        [-0.8, -2. , -0.9],\n",
       "        [-0.1, -0.1,  0.1]]),\n",
       " array([[-0.9, -0.2,  1.7],\n",
       "        [-2. , -0.9,  0.1],\n",
       "        [-0.1,  0.1,  0.3]]),\n",
       " array([[-0.2,  1.7, -2.1],\n",
       "        [-0.9,  0.1,  0.5],\n",
       "        [ 0.1,  0.3, -1.4]]),\n",
       " array([[ 1.7, -2.1, -0.9],\n",
       "        [ 0.1,  0.5,  0.2],\n",
       "        [ 0.3, -1.4, -0.1]]),\n",
       " array([[-2.1, -0.9,  0.5],\n",
       "        [ 0.5,  0.2, -1.1],\n",
       "        [-1.4, -0.1, -0.6]]),\n",
       " array([[-1.3, -0.3, -0.8],\n",
       "        [ 0.5, -0.4, -0.1],\n",
       "        [ 0.8, -0.5, -1. ]]),\n",
       " array([[-0.3, -0.8, -2. ],\n",
       "        [-0.4, -0.1, -0.1],\n",
       "        [-0.5, -1. ,  0.2]]),\n",
       " array([[-0.8, -2. , -0.9],\n",
       "        [-0.1, -0.1,  0.1],\n",
       "        [-1. ,  0.2,  0.5]]),\n",
       " array([[-2. , -0.9,  0.1],\n",
       "        [-0.1,  0.1,  0.3],\n",
       "        [ 0.2,  0.5, -0.5]]),\n",
       " array([[-0.9,  0.1,  0.5],\n",
       "        [ 0.1,  0.3, -1.4],\n",
       "        [ 0.5, -0.5,  0.5]]),\n",
       " array([[ 0.1,  0.5,  0.2],\n",
       "        [ 0.3, -1.4, -0.1],\n",
       "        [-0.5,  0.5, -0.4]]),\n",
       " array([[ 0.5,  0.2, -1.1],\n",
       "        [-1.4, -0.1, -0.6],\n",
       "        [ 0.5, -0.4, -0.8]]),\n",
       " array([[ 0.5, -0.4, -0.1],\n",
       "        [ 0.8, -0.5, -1. ],\n",
       "        [ 1.8,  0.1,  2.1]]),\n",
       " array([[-0.4, -0.1, -0.1],\n",
       "        [-0.5, -1. ,  0.2],\n",
       "        [ 0.1,  2.1,  0. ]]),\n",
       " array([[-0.1, -0.1,  0.1],\n",
       "        [-1. ,  0.2,  0.5],\n",
       "        [ 2.1,  0. ,  0.3]]),\n",
       " array([[-0.1,  0.1,  0.3],\n",
       "        [ 0.2,  0.5, -0.5],\n",
       "        [ 0. ,  0.3,  0.7]]),\n",
       " array([[ 0.1,  0.3, -1.4],\n",
       "        [ 0.5, -0.5,  0.5],\n",
       "        [ 0.3,  0.7,  1.8]]),\n",
       " array([[ 0.3, -1.4, -0.1],\n",
       "        [-0.5,  0.5, -0.4],\n",
       "        [ 0.7,  1.8, -2.5]]),\n",
       " array([[-1.4, -0.1, -0.6],\n",
       "        [ 0.5, -0.4, -0.8],\n",
       "        [ 1.8, -2.5,  0.4]]),\n",
       " array([[ 0.8, -0.5, -1. ],\n",
       "        [ 1.8,  0.1,  2.1],\n",
       "        [-0.2,  1.2, -0.8]]),\n",
       " array([[-0.5, -1. ,  0.2],\n",
       "        [ 0.1,  2.1,  0. ],\n",
       "        [ 1.2, -0.8, -1.3]]),\n",
       " array([[-1. ,  0.2,  0.5],\n",
       "        [ 2.1,  0. ,  0.3],\n",
       "        [-0.8, -1.3, -1.2]]),\n",
       " array([[ 0.2,  0.5, -0.5],\n",
       "        [ 0. ,  0.3,  0.7],\n",
       "        [-1.3, -1.2, -0.9]]),\n",
       " array([[ 0.5, -0.5,  0.5],\n",
       "        [ 0.3,  0.7,  1.8],\n",
       "        [-1.2, -0.9,  0.3]]),\n",
       " array([[-0.5,  0.5, -0.4],\n",
       "        [ 0.7,  1.8, -2.5],\n",
       "        [-0.9,  0.3,  1.5]]),\n",
       " array([[ 0.5, -0.4, -0.8],\n",
       "        [ 1.8, -2.5,  0.4],\n",
       "        [ 0.3,  1.5, -0.4]]),\n",
       " array([[ 1.8,  0.1,  2.1],\n",
       "        [-0.2,  1.2, -0.8],\n",
       "        [-0.6,  0.8,  2.1]]),\n",
       " array([[ 0.1,  2.1,  0. ],\n",
       "        [ 1.2, -0.8, -1.3],\n",
       "        [ 0.8,  2.1, -1.2]]),\n",
       " array([[ 2.1,  0. ,  0.3],\n",
       "        [-0.8, -1.3, -1.2],\n",
       "        [ 2.1, -1.2,  0.3]]),\n",
       " array([[ 0. ,  0.3,  0.7],\n",
       "        [-1.3, -1.2, -0.9],\n",
       "        [-1.2,  0.3, -0.1]]),\n",
       " array([[ 0.3,  0.7,  1.8],\n",
       "        [-1.2, -0.9,  0.3],\n",
       "        [ 0.3, -0.1,  1.7]]),\n",
       " array([[ 0.7,  1.8, -2.5],\n",
       "        [-0.9,  0.3,  1.5],\n",
       "        [-0.1,  1.7,  1.1]]),\n",
       " array([[ 1.8, -2.5,  0.4],\n",
       "        [ 0.3,  1.5, -0.4],\n",
       "        [ 1.7,  1.1, -0.2]]),\n",
       " array([[-0.2,  1.2, -0.8],\n",
       "        [-0.6,  0.8,  2.1],\n",
       "        [-0.7,  0.7, -0.8]]),\n",
       " array([[ 1.2, -0.8, -1.3],\n",
       "        [ 0.8,  2.1, -1.2],\n",
       "        [ 0.7, -0.8,  0.7]]),\n",
       " array([[-0.8, -1.3, -1.2],\n",
       "        [ 2.1, -1.2,  0.3],\n",
       "        [-0.8,  0.7, -0. ]]),\n",
       " array([[-1.3, -1.2, -0.9],\n",
       "        [-1.2,  0.3, -0.1],\n",
       "        [ 0.7, -0. ,  0.1]]),\n",
       " array([[-1.2, -0.9,  0.3],\n",
       "        [ 0.3, -0.1,  1.7],\n",
       "        [-0. ,  0.1, -1.3]]),\n",
       " array([[-0.9,  0.3,  1.5],\n",
       "        [-0.1,  1.7,  1.1],\n",
       "        [ 0.1, -1.3,  0.4]]),\n",
       " array([[ 0.3,  1.5, -0.4],\n",
       "        [ 1.7,  1.1, -0.2],\n",
       "        [-1.3,  0.4, -0.5]])]"
      ]
     },
     "execution_count": 224,
     "metadata": {},
     "output_type": "execute_result"
    }
   ],
   "source": [
    "mat = np.round(np.random.randn(10,10), 1)\n",
    "subset = []\n",
    "\n",
    "block_size = 3\n",
    "\n",
    "for i in range(mat.shape[0]-block_size):\n",
    "    for j in range(mat.shape[1] - block_size):        \n",
    "        submat = mat[i:i+block_size, j:j+block_size]\n",
    "        subset.append(submat)\n",
    "\n",
    "subset"
   ]
  },
  {
   "cell_type": "markdown",
   "id": "9fc0b63a",
   "metadata": {},
   "source": [
    "#### 85. Create a 2D array subclass such that Z[i,j] == Z[j,i] (★★★)"
   ]
  },
  {
   "cell_type": "code",
   "execution_count": null,
   "id": "c41d0f9b",
   "metadata": {},
   "outputs": [
    {
     "ename": "",
     "evalue": "",
     "output_type": "error",
     "traceback": [
      "\u001b[1;31m커널을 시작하지 못했습니다. \n",
      "\u001b[1;31m커널 Python 3.10.6을(를) ​사용할 수 없습니다. 자세한 내용은 Jupyter 출력 탭을 확인하세요. \n",
      "\u001b[1;31m자세한 내용은 Jupyter <a href='command:jupyter.viewOutput'>로그</a>를 참조하세요."
     ]
    }
   ],
   "source": [
    "# "
   ]
  },
  {
   "cell_type": "markdown",
   "id": "ae909782",
   "metadata": {},
   "source": [
    "#### 86. Consider a set of p matrices wich shape (n,n) and a set of p vectors with shape (n,1). How to compute the sum of of the p matrix products at once? (result has shape (n,1)) (★★★)"
   ]
  },
  {
   "cell_type": "code",
   "execution_count": null,
   "id": "013944b1",
   "metadata": {},
   "outputs": [
    {
     "ename": "",
     "evalue": "",
     "output_type": "error",
     "traceback": [
      "\u001b[1;31m커널을 시작하지 못했습니다. \n",
      "\u001b[1;31m커널 Python 3.10.6을(를) ​사용할 수 없습니다. 자세한 내용은 Jupyter 출력 탭을 확인하세요. \n",
      "\u001b[1;31m자세한 내용은 Jupyter <a href='command:jupyter.viewOutput'>로그</a>를 참조하세요."
     ]
    }
   ],
   "source": []
  },
  {
   "cell_type": "markdown",
   "id": "5f134bf4",
   "metadata": {},
   "source": [
    "#### 87. Consider a 16x16 array, how to get the block-sum (block size is 4x4)? (★★★)"
   ]
  },
  {
   "cell_type": "code",
   "execution_count": 55,
   "id": "bf480005",
   "metadata": {},
   "outputs": [
    {
     "data": {
      "text/plain": [
       "array([ 0.06658472, -1.84639729, -0.94041959, -0.51479791])"
      ]
     },
     "execution_count": 55,
     "metadata": {},
     "output_type": "execute_result"
    }
   ],
   "source": [
    "bs = np.random.randn(16, 16)\n",
    "window = np.arange(4, 20, 4)\n",
    "block_list = []\n",
    "\n",
    "for idx in range(4):\n",
    "    block = bs[idx * 4, idx * 4]\n",
    "    block_sum = np.sum(block)\n",
    "    block_list.append(block_sum)\n",
    "\n",
    "np.array(block_list)"
   ]
  },
  {
   "cell_type": "markdown",
   "id": "aa91a3be",
   "metadata": {},
   "source": [
    "#### 88. How to implement the Game of Life using numpy arrays? (★★★)"
   ]
  },
  {
   "cell_type": "code",
   "execution_count": null,
   "id": "a20f0e2b",
   "metadata": {},
   "outputs": [
    {
     "ename": "",
     "evalue": "",
     "output_type": "error",
     "traceback": [
      "\u001b[1;31m커널을 시작하지 못했습니다. \n",
      "\u001b[1;31m커널 Python 3.10.6을(를) ​사용할 수 없습니다. 자세한 내용은 Jupyter 출력 탭을 확인하세요. \n",
      "\u001b[1;31m자세한 내용은 Jupyter <a href='command:jupyter.viewOutput'>로그</a>를 참조하세요."
     ]
    }
   ],
   "source": []
  },
  {
   "cell_type": "markdown",
   "id": "885023d9",
   "metadata": {},
   "source": [
    "#### 89. How to get the n largest values of an array (★★★)"
   ]
  },
  {
   "cell_type": "code",
   "execution_count": 151,
   "id": "996ab585",
   "metadata": {},
   "outputs": [
    {
     "data": {
      "text/plain": [
       "array([19, 16, 16, 15, 10])"
      ]
     },
     "execution_count": 151,
     "metadata": {},
     "output_type": "execute_result"
    }
   ],
   "source": [
    "array_89 = np.random.randint(0, 20, size = 10)\n",
    "n = 5\n",
    "\n",
    "array_89[array_89.argsort()][::-1][:n]"
   ]
  },
  {
   "cell_type": "markdown",
   "id": "d0518aeb",
   "metadata": {},
   "source": [
    "#### 90. Given an arbitrary number of vectors, build the cartesian product (every combinations of every item) (★★★)"
   ]
  },
  {
   "cell_type": "code",
   "execution_count": null,
   "id": "d9ae30ca",
   "metadata": {},
   "outputs": [
    {
     "ename": "",
     "evalue": "",
     "output_type": "error",
     "traceback": [
      "\u001b[1;31m커널을 시작하지 못했습니다. \n",
      "\u001b[1;31m커널 Python 3.10.6을(를) ​사용할 수 없습니다. 자세한 내용은 Jupyter 출력 탭을 확인하세요. \n",
      "\u001b[1;31m자세한 내용은 Jupyter <a href='command:jupyter.viewOutput'>로그</a>를 참조하세요."
     ]
    }
   ],
   "source": []
  },
  {
   "cell_type": "markdown",
   "id": "20cc5dc6",
   "metadata": {},
   "source": [
    "#### 91. How to create a record array from a regular array? (★★★)"
   ]
  },
  {
   "cell_type": "code",
   "execution_count": null,
   "id": "a7d05a34",
   "metadata": {},
   "outputs": [
    {
     "ename": "",
     "evalue": "",
     "output_type": "error",
     "traceback": [
      "\u001b[1;31m커널을 시작하지 못했습니다. \n",
      "\u001b[1;31m커널 Python 3.10.6을(를) ​사용할 수 없습니다. 자세한 내용은 Jupyter 출력 탭을 확인하세요. \n",
      "\u001b[1;31m자세한 내용은 Jupyter <a href='command:jupyter.viewOutput'>로그</a>를 참조하세요."
     ]
    }
   ],
   "source": []
  },
  {
   "cell_type": "markdown",
   "id": "e59a2c44",
   "metadata": {},
   "source": [
    "#### 92. Consider a large vector Z, compute Z to the power of 3 using 3 different methods (★★★)"
   ]
  },
  {
   "cell_type": "code",
   "execution_count": 325,
   "id": "916168ea",
   "metadata": {},
   "outputs": [],
   "source": [
    "# Given method\n",
    "\n",
    "Z = np.random.randn(1000)\n",
    "\n",
    "# method 1\n",
    "\n",
    "m1 = np.power(Z, 3)\n",
    "\n",
    "# method 2\n",
    "\n",
    "m2 = Z * Z * Z\n",
    "\n",
    "# method 3\n",
    "\n",
    "m3 = Z ** 3"
   ]
  },
  {
   "cell_type": "markdown",
   "id": "f1fc4b70",
   "metadata": {},
   "source": [
    "#### 93. Consider two arrays A and B of shape (8,3) and (2,2). How to find rows of A that contain elements of each row of B regardless of the order of the elements in B? (★★★)"
   ]
  },
  {
   "cell_type": "code",
   "execution_count": 294,
   "id": "d35b4705",
   "metadata": {},
   "outputs": [
    {
     "data": {
      "text/plain": [
       "0"
      ]
     },
     "execution_count": 294,
     "metadata": {},
     "output_type": "execute_result"
    }
   ],
   "source": []
  },
  {
   "cell_type": "markdown",
   "id": "821a6ce8",
   "metadata": {},
   "source": [
    "#### 94. Considering a 10x3 matrix, extract rows with unequal values (e.g. [2,2,3]) (★★★)"
   ]
  },
  {
   "cell_type": "code",
   "execution_count": 257,
   "id": "5690c131",
   "metadata": {},
   "outputs": [
    {
     "data": {
      "text/plain": [
       "array([[ 0,  1,  2],\n",
       "       [ 2,  3,  4],\n",
       "       [ 4,  5,  6],\n",
       "       [ 6,  7,  8],\n",
       "       [ 8,  9, 10],\n",
       "       [10, 11, 12],\n",
       "       [12, 13, 14],\n",
       "       [14, 15, 16],\n",
       "       [16, 17, 18],\n",
       "       [18, 19, 20]])"
      ]
     },
     "execution_count": 257,
     "metadata": {},
     "output_type": "execute_result"
    }
   ],
   "source": [
    "# def\n",
    "\n",
    "default = np.arange(30).reshape(10, 3)\n",
    "\n",
    "default - np.arange(default.shape[0]).reshape(-1, 1)"
   ]
  },
  {
   "cell_type": "markdown",
   "id": "9dc9a61c",
   "metadata": {},
   "source": [
    "#### 95. Convert a vector of ints into a matrix binary representation (★★★)"
   ]
  },
  {
   "cell_type": "code",
   "execution_count": null,
   "id": "c728306f",
   "metadata": {},
   "outputs": [
    {
     "ename": "",
     "evalue": "",
     "output_type": "error",
     "traceback": [
      "\u001b[1;31m커널을 시작하지 못했습니다. \n",
      "\u001b[1;31m커널 Python 3.10.6을(를) ​사용할 수 없습니다. 자세한 내용은 Jupyter 출력 탭을 확인하세요. \n",
      "\u001b[1;31m자세한 내용은 Jupyter <a href='command:jupyter.viewOutput'>로그</a>를 참조하세요."
     ]
    }
   ],
   "source": []
  },
  {
   "cell_type": "markdown",
   "id": "cca48e6e",
   "metadata": {},
   "source": [
    "#### 96. Given a two dimensional array, how to extract unique rows? (★★★)"
   ]
  },
  {
   "cell_type": "code",
   "execution_count": null,
   "id": "ae2e6484",
   "metadata": {},
   "outputs": [
    {
     "ename": "",
     "evalue": "",
     "output_type": "error",
     "traceback": [
      "\u001b[1;31m커널을 시작하지 못했습니다. \n",
      "\u001b[1;31m커널 Python 3.10.6을(를) ​사용할 수 없습니다. 자세한 내용은 Jupyter 출력 탭을 확인하세요. \n",
      "\u001b[1;31m자세한 내용은 Jupyter <a href='command:jupyter.viewOutput'>로그</a>를 참조하세요."
     ]
    }
   ],
   "source": []
  },
  {
   "cell_type": "markdown",
   "id": "3621d474",
   "metadata": {},
   "source": [
    "#### 97. Considering 2 vectors A & B, write the einsum equivalent of inner, outer, sum, and mul function (★★★)"
   ]
  },
  {
   "cell_type": "code",
   "execution_count": null,
   "id": "09238dfb",
   "metadata": {},
   "outputs": [
    {
     "ename": "",
     "evalue": "",
     "output_type": "error",
     "traceback": [
      "\u001b[1;31m커널을 시작하지 못했습니다. \n",
      "\u001b[1;31m커널 Python 3.10.6을(를) ​사용할 수 없습니다. 자세한 내용은 Jupyter 출력 탭을 확인하세요. \n",
      "\u001b[1;31m자세한 내용은 Jupyter <a href='command:jupyter.viewOutput'>로그</a>를 참조하세요."
     ]
    }
   ],
   "source": []
  },
  {
   "cell_type": "markdown",
   "id": "26162fae",
   "metadata": {},
   "source": [
    "#### 98. Considering a path described by two vectors (X,Y), how to sample it using equidistant samples (★★★)?"
   ]
  },
  {
   "cell_type": "code",
   "execution_count": null,
   "id": "283c279f",
   "metadata": {},
   "outputs": [
    {
     "ename": "",
     "evalue": "",
     "output_type": "error",
     "traceback": [
      "\u001b[1;31m커널을 시작하지 못했습니다. \n",
      "\u001b[1;31m커널 Python 3.10.6을(를) ​사용할 수 없습니다. 자세한 내용은 Jupyter 출력 탭을 확인하세요. \n",
      "\u001b[1;31m자세한 내용은 Jupyter <a href='command:jupyter.viewOutput'>로그</a>를 참조하세요."
     ]
    }
   ],
   "source": []
  },
  {
   "cell_type": "markdown",
   "id": "44b20c57",
   "metadata": {},
   "source": [
    "#### 99. Given an integer n and a 2D array X, select from X the rows which can be interpreted as draws from a multinomial distribution with n degrees, i.e., the rows which only contain integers and which sum to n. (★★★)"
   ]
  },
  {
   "cell_type": "code",
   "execution_count": null,
   "id": "389b7190",
   "metadata": {},
   "outputs": [
    {
     "ename": "",
     "evalue": "",
     "output_type": "error",
     "traceback": [
      "\u001b[1;31m커널을 시작하지 못했습니다. \n",
      "\u001b[1;31m커널 Python 3.10.6을(를) ​사용할 수 없습니다. 자세한 내용은 Jupyter 출력 탭을 확인하세요. \n",
      "\u001b[1;31m자세한 내용은 Jupyter <a href='command:jupyter.viewOutput'>로그</a>를 참조하세요."
     ]
    }
   ],
   "source": []
  },
  {
   "cell_type": "markdown",
   "id": "6fa5ed76",
   "metadata": {},
   "source": [
    "#### 100. Compute bootstrapped 95% confidence intervals for the mean of a 1D array X (i.e., resample the elements of an array with replacement N times, compute the mean of each sample, and then compute percentiles over the means). (★★★)"
   ]
  },
  {
   "cell_type": "code",
   "execution_count": null,
   "id": "4db4cc57",
   "metadata": {},
   "outputs": [
    {
     "ename": "",
     "evalue": "",
     "output_type": "error",
     "traceback": [
      "\u001b[1;31m커널을 시작하지 못했습니다. \n",
      "\u001b[1;31m커널 Python 3.10.6을(를) ​사용할 수 없습니다. 자세한 내용은 Jupyter 출력 탭을 확인하세요. \n",
      "\u001b[1;31m자세한 내용은 Jupyter <a href='command:jupyter.viewOutput'>로그</a>를 참조하세요."
     ]
    }
   ],
   "source": []
  }
 ],
 "metadata": {
  "kernelspec": {
   "display_name": "base",
   "language": "python",
   "name": "python3"
  },
  "language_info": {
   "codemirror_mode": {
    "name": "ipython",
    "version": 3
   },
   "file_extension": ".py",
   "mimetype": "text/x-python",
   "name": "python",
   "nbconvert_exporter": "python",
   "pygments_lexer": "ipython3",
   "version": "3.9.12 (main, Apr  5 2022, 01:53:17) \n[Clang 12.0.0 ]"
  },
  "vscode": {
   "interpreter": {
    "hash": "6c084588ddc99ecfa5893987730956e72e2b095d02e836974b6e39a38a952fd4"
   }
  }
 },
 "nbformat": 4,
 "nbformat_minor": 5
}
