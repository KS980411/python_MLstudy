{
 "cells": [
  {
   "cell_type": "markdown",
   "id": "43320134",
   "metadata": {},
   "source": [
    "## 로지스틱 회귀\n",
    "\n",
    "Classification : 주어진 데이터를 범주에 따라 분류\n",
    "\n",
    "예측 결과가 숫자가 아닐 때 사용될 수 있음.\n",
    "\n",
    "로지스틱 회귀는 분류 모델\n",
    "\n",
    "- 선형 회귀 방식을 분류에 적용한 알고리즘\n",
    "- 데이터가 어떤 범주에 속할 확률은 0~1 사이의 값으로 예측\n",
    "- 더 높은 범주에 속하는 쪽으로 분류 \n",
    "\n",
    "(예) 스팸 메일, 은행 대출, 악성 여부, 고객의 제품 구매 의사\n",
    "\n",
    "### 공부 시간에 따른 시험 점수 데이터\n",
    "\n",
    "자격증 시험이라고 해보자. 합격 여부는 불합격/합격으로 분류된다.\n",
    "\n",
    "불합격 = 0, 합격 = 1이라고 해보면, 공부 시간에 따라서 상대적으로 공부를 더 한 사람 합격, 덜 한 사람은 불합격이라 말할 수 있음.\n",
    "\n",
    "그렇다면 \"6시간 공부했을 때 자격증을 딸 수 있을까?\"라는 질문에 어떻게 예측을 할 수 있을까?\n",
    "\n",
    "**회귀 모델의 경우**\n",
    "\n",
    "모델을 산정을 할 수는 있으나, 0과 1 사이의 값이 도출되지는 않는다.\n",
    "\n",
    "0에 못 미치거나 1을 넘는 값들을 0과 1로 취급하면 모델 선정이 가능하기는 하다.\n",
    "\n",
    "### 시그모이드 함수\n",
    "\n",
    "단순선형회귀 함수 :\n",
    "\n",
    "$$ y = mx + b$$\n",
    "\n",
    "에서 시그모이드 함수를 적용시킬 수 있다.\n",
    "\n",
    "$$ P = \\frac{1}{1+e^{-y}} $$\n",
    "\n",
    "이는 우리가 원하는 0부터 1 사이의 확률을 얻을 수 있게 한다.\n",
    "\n",
    "이를 다시 한 번 풀어보면 :\n",
    "\n",
    "$$log \\frac{P}{1-P} = mx + b$$로 만들 수 있다.\n",
    "\n",
    "다시, 시험 데이터로 돌아와서 이 데이터에 로지스틱 회귀를 적용하면\n",
    "\n",
    "$$ 0 \\leqq P(pass) \\leqq 1 $$\n",
    "\n",
    "로 결과값이 나타나는 것을 볼 수 있다.\n",
    "\n",
    "## 로지스틱 회귀 실습\n",
    "\n",
    "### 공부 시간에 따른 자격증 시험 합격 가능성"
   ]
  },
  {
   "cell_type": "code",
   "execution_count": 10,
   "id": "592027f5",
   "metadata": {
    "scrolled": true
   },
   "outputs": [
    {
     "name": "stdout",
     "output_type": "stream",
     "text": [
      "Requirement already satisfied: pandas in /Users/choeunsol/opt/anaconda3/lib/python3.9/site-packages (1.4.2)\n",
      "Requirement already satisfied: python-dateutil>=2.8.1 in /Users/choeunsol/opt/anaconda3/lib/python3.9/site-packages (from pandas) (2.8.2)\n",
      "Requirement already satisfied: pytz>=2020.1 in /Users/choeunsol/opt/anaconda3/lib/python3.9/site-packages (from pandas) (2021.3)\n",
      "Requirement already satisfied: numpy>=1.18.5 in /Users/choeunsol/opt/anaconda3/lib/python3.9/site-packages (from pandas) (1.21.5)\n",
      "Requirement already satisfied: six>=1.5 in /Users/choeunsol/opt/anaconda3/lib/python3.9/site-packages (from python-dateutil>=2.8.1->pandas) (1.16.0)\n",
      "Note: you may need to restart the kernel to use updated packages.\n"
     ]
    }
   ],
   "source": [
    "pip install pandas"
   ]
  },
  {
   "cell_type": "code",
   "execution_count": 11,
   "id": "9992d5cc",
   "metadata": {},
   "outputs": [
    {
     "name": "stdout",
     "output_type": "stream",
     "text": [
      "Collecting sklearn\n",
      "  Downloading sklearn-0.0.post1.tar.gz (3.6 kB)\n",
      "Building wheels for collected packages: sklearn\n",
      "  Building wheel for sklearn (setup.py) ... \u001b[?25ldone\n",
      "\u001b[?25h  Created wheel for sklearn: filename=sklearn-0.0.post1-py3-none-any.whl size=2959 sha256=afe4c583580cd05f1a18b8a337c4335f4ad6b8ae0e9af10c30015f7879b2d58c\n",
      "  Stored in directory: /Users/choeunsol/Library/Caches/pip/wheels/f8/e0/3d/9d0c2020c44a519b9f02ab4fa6d2a4a996c98d79ab2f569fa1\n",
      "Successfully built sklearn\n",
      "Installing collected packages: sklearn\n",
      "Successfully installed sklearn-0.0.post1\n",
      "Note: you may need to restart the kernel to use updated packages.\n"
     ]
    }
   ],
   "source": [
    "pip install sklearn"
   ]
  },
  {
   "cell_type": "code",
   "execution_count": 1,
   "id": "5c0bd4e7",
   "metadata": {},
   "outputs": [],
   "source": [
    "import numpy as np\n",
    "import matplotlib.pyplot as plt\n",
    "import pandas as pd\n",
    "import sys, os\n",
    "os.chdir(\"/Users/choeunsol/Python/나도코딩 - 파이썬 스터디/PythonMLWorkspace(LightWeight)/ScikitLearn\")\n",
    "sys.path.append(os.pardir)\n",
    "\n",
    "## 데이터 불러오기\n",
    "dataset = pd.read_csv(\"LogisticRegressionData.csv\")\n",
    "X = dataset.iloc[:, :-1].values\n",
    "## 주의할 점 : 1차원 array가 아닌 다차원 array가 되어야 한다.\n",
    "y = dataset.iloc[:, -1].values"
   ]
  },
  {
   "cell_type": "markdown",
   "id": "36d806b1",
   "metadata": {},
   "source": [
    "### 데이터 분리"
   ]
  },
  {
   "cell_type": "code",
   "execution_count": 2,
   "id": "4f8f06bb",
   "metadata": {},
   "outputs": [],
   "source": [
    "from sklearn.model_selection import train_test_split\n",
    "## 데이터를 분리하는 모듈\n",
    "X_train, X_test, y_train, y_test = train_test_split(X, y, test_size = 0.2, random_state = 0)\n",
    "# random_state는 시드 고정"
   ]
  },
  {
   "cell_type": "markdown",
   "id": "48e6a513",
   "metadata": {},
   "source": [
    "### 학습 (로지스틱 회귀 모델)"
   ]
  },
  {
   "cell_type": "code",
   "execution_count": 3,
   "id": "dc32b3f4",
   "metadata": {
    "scrolled": false
   },
   "outputs": [
    {
     "data": {
      "text/plain": [
       "LogisticRegression()"
      ]
     },
     "execution_count": 3,
     "metadata": {},
     "output_type": "execute_result"
    }
   ],
   "source": [
    "from sklearn.linear_model import LogisticRegression\n",
    "## 로지스틱 회귀 클래스를 가져온다.\n",
    "\n",
    "classifier = LogisticRegression()\n",
    "classifier.fit(X_train, y_train)"
   ]
  },
  {
   "cell_type": "markdown",
   "id": "d2cbcbb1",
   "metadata": {},
   "source": [
    "### 6시간 공부할 때 예측?"
   ]
  },
  {
   "cell_type": "code",
   "execution_count": 4,
   "id": "27766127",
   "metadata": {},
   "outputs": [
    {
     "data": {
      "text/plain": [
       "array([1])"
      ]
     },
     "execution_count": 4,
     "metadata": {},
     "output_type": "execute_result"
    }
   ],
   "source": [
    "classifier.predict([[6]]) # 2차원 배열을 넣어주어야 한다.\n",
    "# 결과 1 : 합격할 것으로 예측"
   ]
  },
  {
   "cell_type": "code",
   "execution_count": 5,
   "id": "b5494460",
   "metadata": {},
   "outputs": [
    {
     "data": {
      "text/plain": [
       "array([[0.14150735, 0.85849265]])"
      ]
     },
     "execution_count": 5,
     "metadata": {},
     "output_type": "execute_result"
    }
   ],
   "source": [
    "classifier.predict_proba([[6]])\n",
    "# 첫 번째가 불합격할 확률, 두 번째가 합격할 확률\n",
    "# 14%의 불합격 확률, 85%의 합격 확률"
   ]
  },
  {
   "cell_type": "markdown",
   "id": "81ebc765",
   "metadata": {},
   "source": [
    "### 4시간 공부할 때 예측"
   ]
  },
  {
   "cell_type": "code",
   "execution_count": 6,
   "id": "23a3a407",
   "metadata": {},
   "outputs": [
    {
     "data": {
      "text/plain": [
       "array([0])"
      ]
     },
     "execution_count": 6,
     "metadata": {},
     "output_type": "execute_result"
    }
   ],
   "source": [
    "classifier.predict([[4]])\n",
    "# 결과 2 : 불합격할 것으로 예측"
   ]
  },
  {
   "cell_type": "code",
   "execution_count": 7,
   "id": "73910b90",
   "metadata": {},
   "outputs": [
    {
     "data": {
      "text/plain": [
       "array([[0.6249966, 0.3750034]])"
      ]
     },
     "execution_count": 7,
     "metadata": {},
     "output_type": "execute_result"
    }
   ],
   "source": [
    "classifier.predict_proba([[4]])"
   ]
  },
  {
   "cell_type": "markdown",
   "id": "b9a353cc",
   "metadata": {},
   "source": [
    "### 분류 결과 예측 (테스트 세트)"
   ]
  },
  {
   "cell_type": "code",
   "execution_count": 10,
   "id": "68f3aa0d",
   "metadata": {},
   "outputs": [
    {
     "data": {
      "text/plain": [
       "array([1, 0, 1, 1])"
      ]
     },
     "execution_count": 10,
     "metadata": {},
     "output_type": "execute_result"
    }
   ],
   "source": [
    "y_pred = classifier.predict(X_test)\n",
    "y_pred # 예측값"
   ]
  },
  {
   "cell_type": "code",
   "execution_count": 11,
   "id": "6e8da65a",
   "metadata": {},
   "outputs": [
    {
     "data": {
      "text/plain": [
       "array([1, 0, 1, 0])"
      ]
     },
     "execution_count": 11,
     "metadata": {},
     "output_type": "execute_result"
    }
   ],
   "source": [
    "y_test # 실제 값"
   ]
  },
  {
   "cell_type": "markdown",
   "id": "b1810811",
   "metadata": {},
   "source": [
    "예측 4개 중에 3개는 맞고, 하나는 틀렸다.\n",
    "\n",
    "그렇다면 이 데이터에 해당하는 공부 시간 정보를 찍어보자."
   ]
  },
  {
   "cell_type": "code",
   "execution_count": 12,
   "id": "21cf90b7",
   "metadata": {},
   "outputs": [
    {
     "data": {
      "text/plain": [
       "array([[ 8.6],\n",
       "       [ 1.2],\n",
       "       [10. ],\n",
       "       [ 4.5]])"
      ]
     },
     "execution_count": 12,
     "metadata": {},
     "output_type": "execute_result"
    }
   ],
   "source": [
    "X_test"
   ]
  },
  {
   "cell_type": "code",
   "execution_count": 13,
   "id": "c1e9b8d6",
   "metadata": {},
   "outputs": [
    {
     "data": {
      "text/plain": [
       "0.75"
      ]
     },
     "execution_count": 13,
     "metadata": {},
     "output_type": "execute_result"
    }
   ],
   "source": [
    "classifier.score(X_test, y_test) # 모델 평가"
   ]
  },
  {
   "cell_type": "markdown",
   "id": "9c934b5e",
   "metadata": {},
   "source": [
    "전체 테스트 세트 4개 중에서 분류 예측을 올바로 맞힌 개수 3개. 75%의 적중률."
   ]
  },
  {
   "cell_type": "markdown",
   "id": "b388666c",
   "metadata": {},
   "source": [
    "### 데이터 시각화 (훈련 세트)\n",
    "\n",
    "먼저 준비해야 할 것 : 데이터를 촘촘하게 나눠서 부드러운 직선으로 표현"
   ]
  },
  {
   "cell_type": "code",
   "execution_count": 14,
   "id": "6f8e6c9b",
   "metadata": {},
   "outputs": [
    {
     "data": {
      "text/plain": [
       "(1, 95)"
      ]
     },
     "execution_count": 14,
     "metadata": {},
     "output_type": "execute_result"
    }
   ],
   "source": [
    "X_range = np.arange(min(X), max(X), 0.1)\n",
    "p = 1 / (1 + np.exp(-(classifier.coef_ * X_range + classifier.intercept_)))\n",
    "\n",
    "p.shape"
   ]
  },
  {
   "cell_type": "code",
   "execution_count": 15,
   "id": "5b7b3322",
   "metadata": {},
   "outputs": [
    {
     "data": {
      "text/plain": [
       "(95,)"
      ]
     },
     "execution_count": 15,
     "metadata": {},
     "output_type": "execute_result"
    }
   ],
   "source": [
    "X_range.shape"
   ]
  },
  {
   "cell_type": "markdown",
   "id": "e9e70777",
   "metadata": {},
   "source": [
    "    p.shape와 X_range.shape를 맞추어야 한다."
   ]
  },
  {
   "cell_type": "code",
   "execution_count": 16,
   "id": "bce1360d",
   "metadata": {},
   "outputs": [
    {
     "data": {
      "text/plain": [
       "(95,)"
      ]
     },
     "execution_count": 16,
     "metadata": {},
     "output_type": "execute_result"
    }
   ],
   "source": [
    "p = p.reshape(X_range.shape)\n",
    "# p = p.reshape(-1)\n",
    "\n",
    "## -1은 이 자리에 맞게 행렬을 재조직.\n",
    "p.shape"
   ]
  },
  {
   "cell_type": "code",
   "execution_count": 17,
   "id": "722758af",
   "metadata": {},
   "outputs": [
    {
     "data": {
      "image/png": "[encoded data removed]",
      "text/plain": [
       "<Figure size 432x288 with 1 Axes>"
      ]
     },
     "metadata": {
      "needs_background": "light"
     },
     "output_type": "display_data"
    }
   ],
   "source": [
    "plt.scatter(X_train, y_train, color = 'blue')\n",
    "plt.plot(X_range, p, color = 'green')\n",
    "plt.plot(X_range, np.full(len(X_range),0.5), color = 'red')\n",
    "# np.full(length, object) : object를 length만큼 채워라\n",
    "# X_range 개수만큼 0.5로 가득찬 배열 만들기\n",
    "plt.title(\"Probability by hours\")\n",
    "plt.xlabel(\"hours\")\n",
    "plt.ylabel(\"P\")\n",
    "plt.show()"
   ]
  },
  {
   "cell_type": "markdown",
   "id": "fcfa8f94",
   "metadata": {},
   "source": [
    "### 데이터 시각화 (테스트 세트)"
   ]
  },
  {
   "cell_type": "code",
   "execution_count": 18,
   "id": "1bc0553b",
   "metadata": {},
   "outputs": [
    {
     "data": {
      "image/png": "[encoded data removed]",
      "text/plain": [
       "<Figure size 432x288 with 1 Axes>"
      ]
     },
     "metadata": {
      "needs_background": "light"
     },
     "output_type": "display_data"
    }
   ],
   "source": [
    "plt.scatter(X_test, y_test, color = 'blue')\n",
    "plt.plot(X_range, p, color = 'green')\n",
    "plt.plot(X_range, np.full(len(X_range),0.5), color = 'red')\n",
    "# np.full(length, object) : object를 length만큼 채워라\n",
    "# X_range 개수만큼 0.5로 가득찬 배열 만들기\n",
    "plt.title(\"Probability by hours(test)\")\n",
    "plt.xlabel(\"hours\")\n",
    "plt.ylabel(\"P\")\n",
    "plt.show()"
   ]
  },
  {
   "cell_type": "markdown",
   "id": "0806fe40",
   "metadata": {},
   "source": [
    "4.5시간에 해당하는 저 데이터는 예측 실패.\n",
    "\n",
    "예측 확률을 한번 보자."
   ]
  },
  {
   "cell_type": "code",
   "execution_count": 20,
   "id": "f2804e0b",
   "metadata": {},
   "outputs": [
    {
     "data": {
      "text/plain": [
       "array([[0.48310686, 0.51689314]])"
      ]
     },
     "execution_count": 20,
     "metadata": {},
     "output_type": "execute_result"
    }
   ],
   "source": [
    "classifier.predict_proba([[4.5]]) # 4.5시간 공부했을 때 확률(모델에서는 합격 예측, 실제로는 불합격)"
   ]
  },
  {
   "cell_type": "markdown",
   "id": "04dd9fae",
   "metadata": {},
   "source": [
    "## 혼동 행렬(Confusion Matrix)"
   ]
  },
  {
   "cell_type": "code",
   "execution_count": 22,
   "id": "9babfc72",
   "metadata": {},
   "outputs": [
    {
     "data": {
      "text/plain": [
       "array([[1, 1],\n",
       "       [0, 2]])"
      ]
     },
     "execution_count": 22,
     "metadata": {},
     "output_type": "execute_result"
    }
   ],
   "source": [
    "from sklearn.metrics import confusion_matrix\n",
    "cm = confusion_matrix(y_test, y_pred)\n",
    "# 실제 데이터와 예측 데이터를 넣음\n",
    "cm"
   ]
  },
  {
   "cell_type": "markdown",
   "id": "4d597fac",
   "metadata": {},
   "source": [
    "$(1,1) \\rightarrow$ 예측 불합격, 실제 불합격 (True Negative)\n",
    "\n",
    "$(1,2) \\rightarrow$ 예측 합격, 실제 불합격 (False Positive)\n",
    "\n",
    "$(2,1) \\rightarrow$ 예측 불합격, 실제 합격 (False Negative)\n",
    "\n",
    "$(2,2) \\rightarrow$ 예측 합격, 실제 합격 (True Positive)"
   ]
  },
  {
   "cell_type": "code",
   "execution_count": 23,
   "id": "3e12178a",
   "metadata": {},
   "outputs": [
    {
     "data": {
      "image/jpeg": "[encoded data removed]",
      "text/plain": [
       "<IPython.core.display.Image object>"
      ]
     },
     "execution_count": 23,
     "metadata": {},
     "output_type": "execute_result"
    }
   ],
   "source": [
    "from IPython.display import Image\n",
    "Image(\"/Users/choeunsol/confusion_matrix.jpeg\")"
   ]
  },
  {
   "cell_type": "markdown",
   "id": "591820e1",
   "metadata": {},
   "source": [
    "이해하려면 위의 사진을 참고하자."
   ]
  },
  {
   "cell_type": "markdown",
   "id": "47ceb09b",
   "metadata": {},
   "source": [
    "## 비지도 학습\n",
    "\n",
    "### Clustering\n",
    "\n",
    "유사한 특징을 가지는 데이터들을 그룹화\n",
    "\n",
    "(예) 고객 세분화, 소셜 네트워크 분석, 기사 그룹 분류, ...\n",
    "\n",
    "지도 학습의 Classification과는 성격이 다르다\n",
    "\n",
    "분류는 정답이 있는 데이터를 학습하고, 인지한 뒤에 새로운 데이터가 들어오면 분류. 군집화는 정답을 모르는 상태에서 **비슷한 성격을 가진 데이터끼리 묶어주는 것**.\n",
    "\n",
    "### K-means\n",
    "\n",
    "데이터를 K개의 클러스터로 군집화하는 알고리즘으로, 각 데이터로부터 이들이 속한 **클러스터의 중심점(Centroid)까지의 평균 길이**를 계산\n",
    "\n",
    "몇 개의 그룹에 해당하는 것이 K-means의 K.\n",
    "\n",
    "**K-means의 동작 순서**\n",
    "\n",
    "1. K값 설정 : 사람이 직접 설명한다.\n",
    "\n",
    "2. 지정된 K 개 만큼의 랜덤 좌표 설정 : 이 좌표가 각 클러스터의 최초 중심점이 되는 것. 데이터에서 고르지 않아도 상관 없음.\n",
    "\n",
    "3. 모든 데이터로부터 가장 가까운 중심점을 선택 : 가까운 중심점으로 데이터를 분류\n",
    "- 중심점을 긋고, 중간 지점을 수직으로 관통하는 선을 그린다. 이 관통하는 선을 기준으로 데이터를 나누는 방법도 있다. \n",
    "\n",
    "4. 데이터들의 평균 중심으로 중심점을 이동\n",
    "\n",
    "5. 중심점이 더 이상 이동되지 않을 때까지 반복\n",
    "- 3번으로 돌아가 모든 데이터로부터 가까운 중심적을 재선택"
   ]
  },
  {
   "cell_type": "markdown",
   "id": "26a4efac",
   "metadata": {},
   "source": [
    "### K값의 지정\n",
    "\n",
    "예를 들어 크기별로 사과를 나눌 때, 기준을 어떻게 할까?\n",
    "\n",
    "대/중/소, 큰 것/작은 것, 특대/대/중/소.. 등등 많은 방법이 있을 것이다.\n",
    "\n",
    "이 때 활용하는 것이 Elbow Method이다."
   ]
  },
  {
   "cell_type": "code",
   "execution_count": 28,
   "id": "233ceaad",
   "metadata": {},
   "outputs": [
    {
     "data": {
      "image/png": "[encoded data removed]",
      "text/plain": [
       "<Figure size 432x288 with 1 Axes>"
      ]
     },
     "metadata": {
      "needs_background": "light"
     },
     "output_type": "display_data"
    }
   ],
   "source": [
    "x = np.array([np.arange(10)]).reshape(-1)\n",
    "y = np.array([2.0, 1.0, 0.63, 0.58, 0.45, 0.42, 0.41, 0.38, 0.37, 0.36])\n",
    "plt.plot(x, y, color = 'blue')\n",
    "plt.scatter(x, y, color = 'blue')\n",
    "plt.xlabel('K (number of clusters)')\n",
    "plt.ylabel('Average distance to centroid')\n",
    "plt.show()"
   ]
  },
  {
   "cell_type": "markdown",
   "id": "be339f2d",
   "metadata": {},
   "source": [
    "1. K 변화에 따른 중심점까지의 평균 거리 비교 (위 그래프)\n",
    "\n",
    "2. 경사가 완만해지는 지점의 K 선정 (위 그래프에서는 K = 3) -> elbow point"
   ]
  },
  {
   "cell_type": "markdown",
   "id": "9e92b535",
   "metadata": {},
   "source": [
    "## 유사도\n",
    "\n",
    "### 유클리드 거리\n",
    "\n",
    "두 점을 직선으로 쭉 연결했을 떄 그 직선거리\n",
    "\n",
    "$$d = \\sqrt{((x_2 - x_1)^2 + (y_2 - y_1)^2}$$\n",
    "\n",
    "### 맨해튼 거리\n",
    "\n",
    "두 지점을 격자에 그린다고 생각해보았을 때, 모눈 안에 건물이 있다고 생각하자.\n",
    "\n",
    "유클리드 거리처럼 가로질러 갈 수가 없으므로 목적지의 $y$좌표까지 먼저 이동한 뒤, 그 다음에 $x$ 좌표로 이동해야 할 것이다.\n",
    "\n",
    "따라서 두 지점의 맨해튼 거리는 다음과 같이 계산된다.\n",
    "\n",
    "$$d = |x_2 - x_1| + |y_2 - y_1|$$"
   ]
  },
  {
   "cell_type": "markdown",
   "id": "85a5da4b",
   "metadata": {},
   "source": [
    "### 코사인 유사도\n",
    "\n",
    "코사인 유사도는 두 데이터 간의 거리가 아닌 각도를 본다.\n",
    "\n",
    "A, B, C 세 직선이 있다고 했을 때, 두 직선 간의 각도가 작을 수록 유사도가 높아진다는 개념이다. \n",
    "\n",
    "$$similarity = cos(\\theta) = \\frac{A}{\\left \\Vert {A} \\right \\|} \\cdot \\frac{B}{\\left \\Vert {B} \\right \\|}$$"
   ]
  },
  {
   "cell_type": "code",
   "execution_count": 31,
   "id": "e7f092d4",
   "metadata": {},
   "outputs": [
    {
     "data": {
      "text/html": [
       "<div>\n",
       "<style scoped>\n",
       "    .dataframe tbody tr th:only-of-type {\n",
       "        vertical-align: middle;\n",
       "    }\n",
       "\n",
       "    .dataframe tbody tr th {\n",
       "        vertical-align: top;\n",
       "    }\n",
       "\n",
       "    .dataframe thead th {\n",
       "        text-align: right;\n",
       "    }\n",
       "</style>\n",
       "<table border=\"1\" class=\"dataframe\">\n",
       "  <thead>\n",
       "    <tr style=\"text-align: right;\">\n",
       "      <th></th>\n",
       "      <th>hour</th>\n",
       "      <th>score</th>\n",
       "    </tr>\n",
       "  </thead>\n",
       "  <tbody>\n",
       "    <tr>\n",
       "      <th>0</th>\n",
       "      <td>7.33</td>\n",
       "      <td>73</td>\n",
       "    </tr>\n",
       "    <tr>\n",
       "      <th>1</th>\n",
       "      <td>3.71</td>\n",
       "      <td>55</td>\n",
       "    </tr>\n",
       "    <tr>\n",
       "      <th>2</th>\n",
       "      <td>3.43</td>\n",
       "      <td>55</td>\n",
       "    </tr>\n",
       "    <tr>\n",
       "      <th>3</th>\n",
       "      <td>3.06</td>\n",
       "      <td>89</td>\n",
       "    </tr>\n",
       "    <tr>\n",
       "      <th>4</th>\n",
       "      <td>3.33</td>\n",
       "      <td>79</td>\n",
       "    </tr>\n",
       "  </tbody>\n",
       "</table>\n",
       "</div>"
      ],
      "text/plain": [
       "   hour  score\n",
       "0  7.33     73\n",
       "1  3.71     55\n",
       "2  3.43     55\n",
       "3  3.06     89\n",
       "4  3.33     79"
      ]
     },
     "execution_count": 31,
     "metadata": {},
     "output_type": "execute_result"
    }
   ],
   "source": [
    "os.chdir(\"/Users/choeunsol/Python/나도코딩 - 파이썬 스터디/PythonMLWorkspace(LightWeight)/ScikitLearn\")\n",
    "sys.path.append(os.pardir)\n",
    "kmeans_data = pd.read_csv(\"KMeansData.csv\")\n",
    "\n",
    "dataset[:5]"
   ]
  },
  {
   "cell_type": "markdown",
   "id": "0cbfb448",
   "metadata": {},
   "source": [
    "Kmeans는 **비지도 학습**이기 때문에 종속 변수가 필요없다."
   ]
  },
  {
   "cell_type": "code",
   "execution_count": 32,
   "id": "460ee0f8",
   "metadata": {},
   "outputs": [
    {
     "data": {
      "text/plain": [
       "array([[ 7.33, 73.  ],\n",
       "       [ 3.71, 55.  ],\n",
       "       [ 3.43, 55.  ],\n",
       "       [ 3.06, 89.  ],\n",
       "       [ 3.33, 79.  ]])"
      ]
     },
     "execution_count": 32,
     "metadata": {},
     "output_type": "execute_result"
    }
   ],
   "source": [
    "X = dataset.iloc[:, :].values\n",
    "# X = dataset.values\n",
    "# X = dataset.to_numpy() <- 공식 홈페이지 권장\n",
    "X[:5]"
   ]
  },
  {
   "cell_type": "markdown",
   "id": "618fd378",
   "metadata": {},
   "source": [
    "### 데이터 시각화 (전체 데이터 분포 확인)"
   ]
  },
  {
   "cell_type": "code",
   "execution_count": 33,
   "id": "9f743771",
   "metadata": {
    "scrolled": true
   },
   "outputs": [
    {
     "data": {
      "image/png": "[encoded data removed]",
      "text/plain": [
       "<Figure size 432x288 with 1 Axes>"
      ]
     },
     "metadata": {
      "needs_background": "light"
     },
     "output_type": "display_data"
    }
   ],
   "source": [
    "plt.scatter(X[:, 0], X[:, 1]) # x축은 공부 시간, y축은 점수\n",
    "plt.title('Score by hours')\n",
    "plt.xlabel('hours')\n",
    "plt.ylabel('score')\n",
    "plt.show()"
   ]
  },
  {
   "cell_type": "markdown",
   "id": "6c39085d",
   "metadata": {},
   "source": [
    "KMeans를 이용해서 이것을 나눠보도록 할 것이다.\n",
    "\n",
    "고려해야 할 것 : 공부 시간은 0~10인데, score는 0~100까지이다. 즉, scale을 맞춰주어야 한다."
   ]
  },
  {
   "cell_type": "markdown",
   "id": "64b7c28c",
   "metadata": {},
   "source": [
    "### 데이터 시각화(전체 데이터 분포 확인)"
   ]
  },
  {
   "cell_type": "code",
   "execution_count": 34,
   "id": "c20fd5cc",
   "metadata": {},
   "outputs": [
    {
     "data": {
      "image/png": "[encoded data removed]",
      "text/plain": [
       "<Figure size 432x288 with 1 Axes>"
      ]
     },
     "metadata": {
      "needs_background": "light"
     },
     "output_type": "display_data"
    }
   ],
   "source": [
    "plt.scatter(X[:, 0], X[:, 1]) # x축은 공부 시간, y축은 점수\n",
    "plt.title('Score by hours')\n",
    "plt.xlabel('hours')\n",
    "plt.ylabel('score')\n",
    "plt.xlim(0, 100)\n",
    "plt.ylim(0, 100)\n",
    "plt.show()"
   ]
  },
  {
   "cell_type": "markdown",
   "id": "7853e32b",
   "metadata": {},
   "source": [
    "### 피처 스케일링 (Feature Scaling)"
   ]
  },
  {
   "cell_type": "code",
   "execution_count": 36,
   "id": "773e3f77",
   "metadata": {},
   "outputs": [
    {
     "data": {
      "text/plain": [
       "array([[ 0.68729921,  0.73538376],\n",
       "       [-0.66687438,  0.04198891],\n",
       "       [-0.77161709,  0.04198891],\n",
       "       [-0.9100271 ,  1.35173473],\n",
       "       [-0.8090252 ,  0.96651537]])"
      ]
     },
     "execution_count": 36,
     "metadata": {},
     "output_type": "execute_result"
    }
   ],
   "source": [
    "from sklearn.preprocessing import StandardScaler\n",
    "sc = StandardScaler()\n",
    "X = sc.fit_transform(X)\n",
    "X[:5]"
   ]
  },
  {
   "cell_type": "markdown",
   "id": "a9856429",
   "metadata": {},
   "source": [
    "$X$가 scaling되는 것을 볼 수 있다. 0부터 1까지의 범위로 바뀐다."
   ]
  },
  {
   "cell_type": "markdown",
   "id": "2e80b4f4",
   "metadata": {},
   "source": [
    "### 데이터 시각화(스케일링된 데이터)"
   ]
  },
  {
   "cell_type": "code",
   "execution_count": 37,
   "id": "0d3f15d0",
   "metadata": {},
   "outputs": [
    {
     "data": {
      "image/png": "[encoded data removed]",
      "text/plain": [
       "<Figure size 432x288 with 1 Axes>"
      ]
     },
     "metadata": {
      "needs_background": "light"
     },
     "output_type": "display_data"
    }
   ],
   "source": [
    "plt.scatter(X[:, 0], X[:, 1]) # x축은 공부 시간, y축은 점수\n",
    "plt.title('Score by hours')\n",
    "plt.xlabel('hours')\n",
    "plt.ylabel('score')\n",
    "plt.show()"
   ]
  },
  {
   "cell_type": "markdown",
   "id": "8aec7db4",
   "metadata": {},
   "source": [
    "### 최적의 K 값 찾기 (Elbow Method)"
   ]
  },
  {
   "cell_type": "code",
   "execution_count": 38,
   "id": "2c50bea6",
   "metadata": {},
   "outputs": [
    {
     "data": {
      "image/png": "[encoded data removed]",
      "text/plain": [
       "<Figure size 432x288 with 1 Axes>"
      ]
     },
     "metadata": {
      "needs_background": "light"
     },
     "output_type": "display_data"
    }
   ],
   "source": [
    "from sklearn.cluster import KMeans\n",
    "inertia_list = [] # 클러스터에 속한 데이터가 얼마나 가깝게 보이느냐, 각 지점으로부터 중심점까지 거리 제곱합\n",
    "for i in range(1, 11):\n",
    "    kmeans = KMeans(n_clusters = i, init = 'k-means++', random_state = 0)\n",
    "    ## 'k-means++'는 개선된 방식으로 centroid 점을 찾는다. \n",
    "    kmeans.fit(X)\n",
    "    inertia_list.append(kmeans.inertia_) # 각 지점으로부터 클러스터의 중심(centroid)까지의 거리제곱합을 append한다.\n",
    "\n",
    "plt.plot(range(1, 11), inertia_list)\n",
    "plt.title('Elbow Method')\n",
    "plt.xlabel('n_clusters')\n",
    "plt.ylabel('inertia')\n",
    "plt.show()"
   ]
  },
  {
   "cell_type": "markdown",
   "id": "8513f410",
   "metadata": {},
   "source": [
    "완만해지는 시점 : 4 정도가 적절하다."
   ]
  },
  {
   "cell_type": "code",
   "execution_count": 40,
   "id": "f7ca3fde",
   "metadata": {},
   "outputs": [],
   "source": [
    "K = 4 # 최적의 K값"
   ]
  },
  {
   "cell_type": "markdown",
   "id": "c73cd0ac",
   "metadata": {},
   "source": [
    "    위에서 학습했던 것처럼 n_clusters = 4로 두고 진행."
   ]
  },
  {
   "cell_type": "code",
   "execution_count": 41,
   "id": "712d764a",
   "metadata": {},
   "outputs": [
    {
     "data": {
      "text/plain": [
       "array([2, 3, 3, 0, 0, 1, 1, 0, 2, 0, 0, 3, 1, 3, 3, 0, 1, 2, 3, 0, 1, 0,\n",
       "       3, 1, 2, 2, 3, 3, 3, 3, 1, 1, 3, 0, 2, 2, 3, 0, 0, 0, 3, 1, 2, 3,\n",
       "       3, 2, 1, 0, 1, 1, 2, 0, 1, 1, 0, 0, 0, 0, 3, 1, 1, 2, 2, 2, 2, 1,\n",
       "       1, 0, 1, 2, 3, 2, 2, 2, 3, 3, 3, 3, 0, 2, 1, 2, 1, 1, 2, 0, 3, 1,\n",
       "       2, 3, 0, 1, 0, 2, 3, 2, 2, 0, 1, 3], dtype=int32)"
      ]
     },
     "execution_count": 41,
     "metadata": {},
     "output_type": "execute_result"
    }
   ],
   "source": [
    "kmeans = KMeans(n_clusters = K, random_state = 0)\n",
    "y_kmeans = kmeans.fit_predict(X) # X 데이터를 학습하고, predict한 값을 반응한다.\n",
    "y_kmeans"
   ]
  },
  {
   "cell_type": "markdown",
   "id": "7f760cf0",
   "metadata": {},
   "source": [
    "클러스터가 4개, $[0,1,2,3]$의 클러스터 값이 출력된다."
   ]
  },
  {
   "cell_type": "markdown",
   "id": "3692d1e7",
   "metadata": {},
   "source": [
    "### 데이터 시각화 (K = 4일 때)"
   ]
  },
  {
   "cell_type": "code",
   "execution_count": 44,
   "id": "348e1171",
   "metadata": {},
   "outputs": [
    {
     "data": {
      "text/plain": [
       "array([[-0.57163957,  0.85415973],\n",
       "       [ 0.8837666 , -1.26929779],\n",
       "       [ 0.94107583,  0.93569782],\n",
       "       [-1.22698889, -0.46768593]])"
      ]
     },
     "execution_count": 44,
     "metadata": {},
     "output_type": "execute_result"
    }
   ],
   "source": [
    "centers = kmeans.cluster_centers_ # 클러스터의 중심점(centroid) 좌표\n",
    "centers"
   ]
  },
  {
   "cell_type": "code",
   "execution_count": 47,
   "id": "46f4093b",
   "metadata": {},
   "outputs": [
    {
     "data": {
      "image/png": "[encoded data removed]",
      "text/plain": [
       "<Figure size 432x288 with 1 Axes>"
      ]
     },
     "metadata": {
      "needs_background": "light"
     },
     "output_type": "display_data"
    }
   ],
   "source": [
    "for cluster in range(K):\n",
    "    plt.scatter(X[y_kmeans == cluster, 0], X[y_kmeans == cluster, 1], s =100, edgecolor = 'black')\n",
    "    # s는 size, edgecolor는 테두리 색\n",
    "    # 인덱스 뽑아서 클러스터 별로 다르게 색을 도출한다. 따로 색을 지정해주지 않아도 자동으로 클러스터 별로 다른 색이 나온다.\n",
    "    plt.scatter(centers[cluster, 0], centers[cluster, 1], s = 300, edgecolor = 'black', color = 'yellow', marker ='s') \n",
    "    # 클러스터에 대한 중심점 좌표 추가\n",
    "    plt.text(centers[cluster, 0], centers[cluster, 1], cluster, va = 'center', ha = 'center')\n",
    "    # va / ha : 가로 축, 세로 축 조정\n",
    "    # 클러스터 텍스트 출력을 위한 코드\n",
    "plt.title('Score by hours')\n",
    "plt.xlabel('hours')\n",
    "plt.ylabel('score')\n",
    "plt.show()"
   ]
  },
  {
   "cell_type": "markdown",
   "id": "b72b094d",
   "metadata": {},
   "source": [
    "그래프가 만들어졌지만, 스케일링한 데이터 때문에 해석이 쉽지 않다."
   ]
  },
  {
   "cell_type": "markdown",
   "id": "8e23bdac",
   "metadata": {},
   "source": [
    "### 데이터 시각화 (스케일링 원복)"
   ]
  },
  {
   "cell_type": "code",
   "execution_count": 48,
   "id": "8ba01ddc",
   "metadata": {},
   "outputs": [
    {
     "data": {
      "text/plain": [
       "array([[ 7.33, 73.  ],\n",
       "       [ 3.71, 55.  ],\n",
       "       [ 3.43, 55.  ],\n",
       "       [ 3.06, 89.  ],\n",
       "       [ 3.33, 79.  ]])"
      ]
     },
     "execution_count": 48,
     "metadata": {},
     "output_type": "execute_result"
    }
   ],
   "source": [
    "X_org = sc.inverse_transform(X) # Feature Scaling된 데이터를 다시 원복\n",
    "X_org[:5]"
   ]
  },
  {
   "cell_type": "code",
   "execution_count": 49,
   "id": "d40307b5",
   "metadata": {},
   "outputs": [
    {
     "data": {
      "text/plain": [
       "array([[ 3.96458333, 76.08333333],\n",
       "       [ 7.8552    , 20.96      ],\n",
       "       [ 8.0084    , 78.2       ],\n",
       "       [ 2.21269231, 41.76923077]])"
      ]
     },
     "execution_count": 49,
     "metadata": {},
     "output_type": "execute_result"
    }
   ],
   "source": [
    "centers_org = sc.inverse_transform(centers)\n",
    "centers_org"
   ]
  },
  {
   "cell_type": "code",
   "execution_count": 51,
   "id": "ee1124f6",
   "metadata": {},
   "outputs": [
    {
     "data": {
      "image/png": "[encoded data removed]",
      "text/plain": [
       "<Figure size 432x288 with 1 Axes>"
      ]
     },
     "metadata": {
      "needs_background": "light"
     },
     "output_type": "display_data"
    }
   ],
   "source": [
    "for cluster in range(K):\n",
    "    plt.scatter(X_org[y_kmeans == cluster, 0], X_org[y_kmeans == cluster, 1], s =100, edgecolor = 'black')\n",
    "    # s는 size, edgecolor는 테두리 색\n",
    "    # 인덱스 뽑아서 클러스터 별로 다르게 색을 도출한다. 따로 색을 지정해주지 않아도 자동으로 클러스터 별로 다른 색이 나온다.\n",
    "    plt.scatter(centers_org[cluster, 0], centers_org[cluster, 1], s = 300, edgecolor = 'black', color = 'yellow', marker ='s') \n",
    "    # 클러스터에 대한 중심점 좌표 추가\n",
    "    plt.text(centers_org[cluster, 0], centers_org[cluster, 1], cluster, va = 'center', ha = 'center')\n",
    "    # va / ha : 가로 축, 세로 축 조정\n",
    "    # 클러스터 텍스트 출력을 위한 코드\n",
    "plt.title('Score by hours')\n",
    "plt.xlabel('hours')\n",
    "plt.ylabel('score')\n",
    "plt.show()"
   ]
  },
  {
   "cell_type": "code",
   "execution_count": null,
   "id": "70165f6d",
   "metadata": {},
   "outputs": [],
   "source": []
  }
 ],
 "metadata": {
  "kernelspec": {
   "display_name": "Python 3 (ipykernel)",
   "language": "python",
   "name": "python3"
  },
  "language_info": {
   "codemirror_mode": {
    "name": "ipython",
    "version": 3
   },
   "file_extension": ".py",
   "mimetype": "text/x-python",
   "name": "python",
   "nbconvert_exporter": "python",
   "pygments_lexer": "ipython3",
   "version": "3.9.12"
  }
 },
 "nbformat": 4,
 "nbformat_minor": 5
}
