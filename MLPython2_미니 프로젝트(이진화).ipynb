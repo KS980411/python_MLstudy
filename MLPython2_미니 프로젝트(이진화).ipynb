{
 "cells": [
  {
   "cell_type": "markdown",
   "id": "17816c9a",
   "metadata": {},
   "source": [
    "# 이미지 변형과 이진화\n",
    "\n",
    "특정 값을 기준으로 흰색과 검은 색으로 나누는 이진화 이미지를 만드는 것.\n",
    "\n",
    "<font color = red> WARNING : 유튜브에서 쓴 이미지가 없어져서 최대한 비슷한 이미지로 대체했다고 합니다. </font>"
   ]
  },
  {
   "cell_type": "code",
   "execution_count": 11,
   "id": "4e6ec5b3",
   "metadata": {},
   "outputs": [],
   "source": [
    "import cv2\n",
    "import numpy as np\n",
    "import os, sys\n",
    "os.chdir(\"/Users/choeunsol/Python/나도코딩 - 파이썬 스터디/opencv\")\n",
    "sys.path.append(os.pardir)\n",
    "img = cv2.imread('book.jpg', cv2.IMREAD_GRAYSCALE) # 이진화를 위하여 흑백으로 불러온다.\n",
    "\n",
    "cv2.imshow('img', img)\n",
    "cv2.waitKey(100)\n",
    "cv2.destroyAllWindows()"
   ]
  },
  {
   "cell_type": "markdown",
   "id": "ec923d10",
   "metadata": {},
   "source": [
    "이진화를 공부할 때 **ThresHold**라는 값을 쓸 것인데, 이것이 무엇인지 공부해볼 것이다.\n",
    "\n",
    "보석이 땅바닥에 떨어져 있다고 해보자. 가져가도 상관이 없는데 크기 상관없이 1개 당 1초가 소요된다고 하자.\n",
    "\n",
    "시간 제한이 없다고 하면 크기에 상관없이 모두 챙길 것이다.\n",
    "\n",
    "그렇다면 시간 제한이 10초라면 어떻게 될까? 그렇다면 큰 것 - 중간 것 - 작은 것 순으로 챙기고, 사실상 작은 보석은 챙기지 않을 것이다.\n",
    "\n",
    "이 때는 크기를 기준으로 중간 크기 이상으로 챙겨가는 것이다.\n",
    "\n",
    "시간 제한이 3초라면 어떤 보석을 먼저 챙길까? **제일 큰 것**만 챙길 것이다. 중간 크기 보석이나 작은 크기 보석은 눈에 안 들어올 것이다.\n",
    "\n",
    "앞에서와 기준이 바뀌었다. 이러한 기준을 **임계값(Threshold)** 라고 한다. 주어진 상황에 따라 기준이 달라질 수 있는 것이 바로 Threshold이다."
   ]
  },
  {
   "cell_type": "code",
   "execution_count": 12,
   "id": "4b119987",
   "metadata": {},
   "outputs": [],
   "source": [
    "img = cv2.imread('book.jpg', cv2.IMREAD_GRAYSCALE) \n",
    "\n",
    "ret, binary = cv2.threshold(img, 127, 255, cv2.THRESH_BINARY) # 127보다 클 때 어떻게 처리를 할지 ~\n",
    "# 127보다 크면 흰 색으로 하고, 작으면 검은 색으로 하라는 것\n",
    "## 즉, 127이 임계값이다.\n",
    "\n",
    "cv2.imshow('img', img)\n",
    "cv2.waitKey(100)\n",
    "cv2.destroyAllWindows()"
   ]
  },
  {
   "cell_type": "markdown",
   "id": "5364550e",
   "metadata": {},
   "source": [
    "하지만 127이라는 기준은 명확하지 않다. 그래서 나온 것이 Trackbar이다.\n",
    "\n",
    "Trackbar는 값 변형에 따른 변형 확인을 하기 위해 쓸 수 있다."
   ]
  },
  {
   "cell_type": "code",
   "execution_count": 2,
   "id": "de3fdf62",
   "metadata": {},
   "outputs": [
    {
     "name": "stderr",
     "output_type": "stream",
     "text": [
      "[ WARN:0@0.028] global /Users/runner/work/opencv-python/opencv-python/opencv/modules/imgcodecs/src/loadsave.cpp (239) findDecoder imread_('book.jpg'): can't open/read file: check file path/integrity\n"
     ]
    },
    {
     "ename": "error",
     "evalue": "OpenCV(4.6.0) /Users/runner/work/opencv-python/opencv-python/opencv/modules/highgui/src/window.cpp:967: error: (-215:Assertion failed) size.width>0 && size.height>0 in function 'imshow'\n",
     "output_type": "error",
     "traceback": [
      "\u001b[0;31m---------------------------------------------------------------------------\u001b[0m",
      "\u001b[0;31merror\u001b[0m                                     Traceback (most recent call last)",
      "Input \u001b[0;32mIn [2]\u001b[0m, in \u001b[0;36m<cell line: 15>\u001b[0;34m()\u001b[0m\n\u001b[1;32m     19\u001b[0m \u001b[38;5;28;01mif\u001b[39;00m \u001b[38;5;129;01mnot\u001b[39;00m ret:\n\u001b[1;32m     20\u001b[0m     \u001b[38;5;28;01mbreak\u001b[39;00m\n\u001b[0;32m---> 22\u001b[0m \u001b[43mcv2\u001b[49m\u001b[38;5;241;43m.\u001b[39;49m\u001b[43mimshow\u001b[49m\u001b[43m(\u001b[49m\u001b[43mname\u001b[49m\u001b[43m,\u001b[49m\u001b[43m \u001b[49m\u001b[43mbinary\u001b[49m\u001b[43m)\u001b[49m\n\u001b[1;32m     23\u001b[0m \u001b[38;5;28;01mif\u001b[39;00m cv2\u001b[38;5;241m.\u001b[39mwaitKey(\u001b[38;5;241m1\u001b[39m) \u001b[38;5;241m==\u001b[39m \u001b[38;5;28mord\u001b[39m(\u001b[38;5;124m'\u001b[39m\u001b[38;5;124mq\u001b[39m\u001b[38;5;124m'\u001b[39m):\n\u001b[1;32m     24\u001b[0m     \u001b[38;5;28;01mbreak\u001b[39;00m\n",
      "\u001b[0;31merror\u001b[0m: OpenCV(4.6.0) /Users/runner/work/opencv-python/opencv-python/opencv/modules/highgui/src/window.cpp:967: error: (-215:Assertion failed) size.width>0 && size.height>0 in function 'imshow'\n"
     ]
    }
   ],
   "source": [
    "import cv2\n",
    "img = cv2.imread('book.jpg', cv2.IMREAD_GRAYSCALE) \n",
    "\n",
    "def empty(pos):\n",
    "    print(pos)\n",
    "    pass\n",
    "\n",
    "name = 'Trackbar'\n",
    "cv2.namedWindow(name)\n",
    "\n",
    "cv2.createTrackbar('threshold', name, 127, 255, empty)\n",
    "# 바의 이름, 바가 들어갈 창의 이름,초기값, 최대값, 이벤트 처리\n",
    "\n",
    "while True:\n",
    "    thresh = cv2.getTrackbarPos('threshold', name) # 그 창에서 bar 이름이 해당하는 값들을 저장\n",
    "    ret, binary = cv2.threshold(img, thresh, 255, cv2.THRESH_BINARY)\n",
    "    # 위에서 넣은 127이 아닌 설정해준 trackbar인 thresh을 넣어주는 것이 핵심이다.\n",
    "    \n",
    "    if not ret:\n",
    "        break\n",
    "    \n",
    "    cv2.imshow(name, binary)\n",
    "    if cv2.waitKey(1) == ord('q'):\n",
    "        break\n",
    "        \n",
    "cv2.destroyAllWindows()"
   ]
  },
  {
   "cell_type": "code",
   "execution_count": null,
   "id": "be20f434",
   "metadata": {},
   "outputs": [],
   "source": []
  },
  {
   "cell_type": "code",
   "execution_count": null,
   "id": "0d05d35d",
   "metadata": {},
   "outputs": [],
   "source": []
  },
  {
   "cell_type": "code",
   "execution_count": null,
   "id": "6879715a",
   "metadata": {},
   "outputs": [],
   "source": []
  },
  {
   "cell_type": "code",
   "execution_count": null,
   "id": "644e7ef4",
   "metadata": {},
   "outputs": [],
   "source": []
  }
 ],
 "metadata": {
  "kernelspec": {
   "display_name": "Python 3 (ipykernel)",
   "language": "python",
   "name": "python3"
  },
  "language_info": {
   "codemirror_mode": {
    "name": "ipython",
    "version": 3
   },
   "file_extension": ".py",
   "mimetype": "text/x-python",
   "name": "python",
   "nbconvert_exporter": "python",
   "pygments_lexer": "ipython3",
   "version": "3.9.12"
  }
 },
 "nbformat": 4,
 "nbformat_minor": 5
}
