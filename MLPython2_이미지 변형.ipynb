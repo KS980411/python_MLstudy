{
 "cells": [
  {
   "cell_type": "markdown",
   "id": "4d81fdbb",
   "metadata": {},
   "source": [
    "# 이미지 변형\n",
    "\n",
    "## 크기 조정\n",
    "\n",
    "### 이미지\n",
    "\n",
    "- 고정 크기로 설정"
   ]
  },
  {
   "cell_type": "code",
   "execution_count": 5,
   "id": "6239547b",
   "metadata": {},
   "outputs": [],
   "source": [
    "import cv2\n",
    "import os, sys\n",
    "import cv2\n",
    "os.chdir(\"/Users/choeunsol/Python/나도코딩 - 파이썬 스터디/opencv\")\n",
    "img = cv2.imread('img1.jpeg')\n",
    "dst = cv2.resize(img, (400,500)) # width, height 고정 크기\n",
    "\n",
    "cv2.imshow('resize', dst)\n",
    "cv2.waitKey(10)\n",
    "cv2.destroyAllWindows()"
   ]
  },
  {
   "cell_type": "markdown",
   "id": "dd4e1edf",
   "metadata": {},
   "source": [
    "고정된 크기로 원하는 크기로 변경하는 것은 resize 함수를 통해서 할 수 있다."
   ]
  },
  {
   "cell_type": "markdown",
   "id": "d337b1cf",
   "metadata": {},
   "source": [
    "- 비율로 설정"
   ]
  },
  {
   "cell_type": "code",
   "execution_count": 6,
   "id": "b12c0ca8",
   "metadata": {},
   "outputs": [],
   "source": [
    "import cv2\n",
    "import os, sys\n",
    "import cv2\n",
    "os.chdir(\"/Users/choeunsol/Python/나도코딩 - 파이썬 스터디/opencv\")\n",
    "img = cv2.imread('img1.jpeg')\n",
    "dst = cv2.resize(img, None, fx = 0.5, fy = 0.5) \n",
    "# width, height 고정 크기는 None\n",
    "# fx와 fy로 비율 조정\n",
    "\n",
    "cv2.imshow('resize', dst)\n",
    "cv2.waitKey(10)\n",
    "cv2.destroyAllWindows()"
   ]
  },
  {
   "cell_type": "markdown",
   "id": "b5a6da4d",
   "metadata": {},
   "source": [
    "### 보간법\n",
    "\n",
    "이미지를 줄이거나 키우거나 할 때 보다 자연스럽게 처리할 수 있게 하는 방법\n",
    "\n",
    "예를 들어 이미지를 키우면, 픽셀이 비게 된다. 그 빈 공간을 어떻게 채우냐에 대한 방법론.\n",
    "\n",
    "    1. cv2.INTER_AREA : 크기 줄일 때 사용\n",
    "    2. cv2.INTER_CUBIC : 크기 늘릴 때 사용 (속도 느림, 퀄리티 좋음)\n",
    "    3. cv2.INTER_LINEAR : 크기 늘릴 때 사용 (기본값)"
   ]
  },
  {
   "cell_type": "code",
   "execution_count": 4,
   "id": "3603d425",
   "metadata": {},
   "outputs": [],
   "source": [
    "import cv2\n",
    "import os, sys\n",
    "os.chdir(\"/Users/choeunsol/Python/나도코딩 - 파이썬 스터디/opencv\")\n",
    "img = cv2.imread('img1.jpeg')\n",
    "dst = cv2.resize(img, None, fx = 0.5, fy = 0.5, interpolation = cv2.INTER_AREA) \n",
    "# width, height 고정 크기는 None\n",
    "# fx와 fy로 비율 조정\n",
    "\n",
    "cv2.imshow('resize', dst)\n",
    "cv2.waitKey(10)\n",
    "cv2.destroyAllWindows()"
   ]
  },
  {
   "cell_type": "markdown",
   "id": "c9b1eb60",
   "metadata": {},
   "source": [
    "### 동영상\n",
    "\n",
    "- 고정 크기로 설정"
   ]
  },
  {
   "cell_type": "code",
   "execution_count": 6,
   "id": "ab33d968",
   "metadata": {},
   "outputs": [],
   "source": [
    "import cv2\n",
    "cap = cv2.VideoCapture('video1.mp4')\n",
    "\n",
    "while cap.isOpened():\n",
    "    ret, frame = cap.read()\n",
    "    if not ret:\n",
    "        break\n",
    "    \n",
    "    frame_resized = cv2.resize(frame, (400, 500))\n",
    "    # 비율로 조정하는 것도 위와 비슷하게 이 칸에 fx와 fy을 넣어주면 된다.\n",
    "\n",
    "    cv2.imshow('video', frame)\n",
    "    if cv2.waitKey(0) == ord('q'):\n",
    "        break\n",
    "        \n",
    "cap.release()\n",
    "cv2.destroyAllWindows()"
   ]
  },
  {
   "cell_type": "markdown",
   "id": "67f3d8fc",
   "metadata": {},
   "source": [
    "### 이미지 자르기\n",
    "\n",
    "지금부터 하는 작업은 이미지에 대해서는 예제를 보여줄 것이다.\n",
    "\n",
    "이 작업을 똑같이 동영상의 프레임에 적용하면 된다.\n",
    "\n",
    "이미지 자르기는 이미지에서 원하는만큼만 자르는 것을 의미한다."
   ]
  },
  {
   "cell_type": "code",
   "execution_count": 8,
   "id": "a5215ddd",
   "metadata": {},
   "outputs": [
    {
     "data": {
      "text/plain": [
       "(781, 1280, 3)"
      ]
     },
     "execution_count": 8,
     "metadata": {},
     "output_type": "execute_result"
    }
   ],
   "source": [
    "import cv2\n",
    "img = cv2.imread(\"img1.jpeg\")\n",
    "img.shape"
   ]
  },
  {
   "cell_type": "code",
   "execution_count": 12,
   "id": "ddf87930",
   "metadata": {},
   "outputs": [],
   "source": [
    "crop = img[100:200, 200:400]\n",
    "\n",
    "cv2.imshow('img', img)\n",
    "cv2.imshow('crop', crop)\n",
    "cv2.waitKey(100)\n",
    "cv2.destroyAllWindows()"
   ]
  },
  {
   "cell_type": "markdown",
   "id": "7e3eca25",
   "metadata": {},
   "source": [
    "그렇다면 영역을 잘라서 기존 이미지 내에서 똑같은 부분을 그 옆에다 넣는 식으로 처리해보자."
   ]
  },
  {
   "cell_type": "code",
   "execution_count": 13,
   "id": "7bed307c",
   "metadata": {},
   "outputs": [],
   "source": [
    "import cv2\n",
    "img = cv2.imread(\"img1.jpeg\")\n",
    "crop = img[100:200, 200:400]\n",
    "img[100:200, 400:600] = crop\n",
    "\n",
    "# 크롭을 통해서 이미지를 부분으로 잘라내고, 다른 지점에 이 이미지를 삽입한다.\n",
    "\n",
    "cv2.imshow('img', img)\n",
    "cv2.waitKey(100)\n",
    "cv2.destroyAllWindows()"
   ]
  },
  {
   "cell_type": "markdown",
   "id": "a1bd462e",
   "metadata": {},
   "source": [
    "## 이미지 대칭\n",
    "\n",
    "### 좌우 대칭"
   ]
  },
  {
   "cell_type": "code",
   "execution_count": 15,
   "id": "79942ce1",
   "metadata": {},
   "outputs": [],
   "source": [
    "import cv2\n",
    "img = cv2.imread('img1.jpeg')\n",
    "flip_horizontal = cv2.flip(img, 1) # 어떤 이미지를, 어떤 기준으로?\n",
    "## filpCode > 0이면 좌우 대칭\n",
    "\n",
    "cv2.imshow('img', img)\n",
    "cv2.imshow('flip_horizontal', flip_horizontal)\n",
    "cv2.waitKey(100)\n",
    "cv2.destroyAllWindows()"
   ]
  },
  {
   "cell_type": "markdown",
   "id": "5dcc068b",
   "metadata": {},
   "source": [
    "### 상하 대칭"
   ]
  },
  {
   "cell_type": "code",
   "execution_count": 16,
   "id": "685c1a59",
   "metadata": {},
   "outputs": [],
   "source": [
    "import cv2\n",
    "img = cv2.imread('img1.jpeg')\n",
    "flip_vertical = cv2.flip(img, 0) # 어떤 이미지를, 어떤 기준으로?\n",
    "## filpCode = 0이면 상하 대칭\n",
    "\n",
    "cv2.imshow('img', img)\n",
    "cv2.imshow('flip_vertical', flip_vertical)\n",
    "cv2.waitKey(100)\n",
    "cv2.destroyAllWindows()"
   ]
  },
  {
   "cell_type": "markdown",
   "id": "9238101c",
   "metadata": {},
   "source": [
    "### 상하좌우 대칭"
   ]
  },
  {
   "cell_type": "code",
   "execution_count": 17,
   "id": "35ccb01d",
   "metadata": {},
   "outputs": [],
   "source": [
    "import cv2\n",
    "img = cv2.imread('img1.jpeg')\n",
    "flip_both = cv2.flip(img, 1) # 어떤 이미지를, 어떤 기준으로?\n",
    "## filpCode < 0이면 상하좌우 대칭\n",
    "\n",
    "cv2.imshow('img', img)\n",
    "cv2.imshow('flip_both', flip_both)\n",
    "cv2.waitKey(100)\n",
    "cv2.destroyAllWindows()"
   ]
  },
  {
   "cell_type": "markdown",
   "id": "9cea7980",
   "metadata": {},
   "source": [
    "## 이미지 회전 "
   ]
  },
  {
   "cell_type": "markdown",
   "id": "37db1c85",
   "metadata": {},
   "source": [
    "### 회전"
   ]
  },
  {
   "cell_type": "code",
   "execution_count": 19,
   "id": "75bf9c7f",
   "metadata": {},
   "outputs": [],
   "source": [
    "img = cv2.imread('img1.jpeg')\n",
    "\n",
    "rotate_90 = cv2.rotate(img, cv2.ROTATE_90_CLOCKWISE) # 시계 방향으로 90도 회전\n",
    "\n",
    "## 180도 회전하려면 cv2.ROTATE_180으로 적으면 된다.\n",
    "## 시계 반대 방향으로 회전하려면 cv2.ROTATE_90_COUNTERCLOCKWISE으로 써주면 된다.\n",
    "\n",
    "cv2.imshow('img', img)\n",
    "cv2.imshow('rotate_90', rotate_90)\n",
    "cv2.waitKey(50)\n",
    "cv2.destroyAllWindows()"
   ]
  },
  {
   "cell_type": "markdown",
   "id": "af127c7c",
   "metadata": {},
   "source": [
    "## 이미지 변형\n",
    "\n",
    "이미지 데이터에도 많은 데이터가 있지만 부정확한 데이터가 있을 수 있기 때문에 이것을 골라내야 한다."
   ]
  },
  {
   "cell_type": "markdown",
   "id": "b86e73d2",
   "metadata": {},
   "source": [
    "### 이미지 변형(흑백)\n",
    "\n",
    "불러온 이미지를 흑백으로 변경 "
   ]
  },
  {
   "cell_type": "code",
   "execution_count": 20,
   "id": "fbbf1a27",
   "metadata": {},
   "outputs": [],
   "source": [
    "import cv2\n",
    "img = cv2.imread('img1.jpeg')\n",
    "\n",
    "dst = cv2.cvtColor(img, cv2.COLOR_BGR2GRAY)\n",
    "# OpenCV에서는 컬러 사진을 BGR로 저장하기 때문에 BGR2GRAY임을 이해할 수 있다.\n",
    "# cvtColor = convert color..\n",
    "\n",
    "cv2.imshow('img', img)\n",
    "cv2.imshow('gray', dst)\n",
    "cv2.waitKey(100)\n",
    "cv2.destroyAllWindows()"
   ]
  },
  {
   "cell_type": "markdown",
   "id": "c16f9244",
   "metadata": {},
   "source": [
    "이는 컬러 이미지를 흑백으로 변경하는 것. 처음 불러왔을 떄 흑백으로 하는 옵션은 imread 할 때 cv2.COLOR_GRAYSCALE을 선택."
   ]
  },
  {
   "cell_type": "markdown",
   "id": "f697164d",
   "metadata": {},
   "source": [
    "### 이미지 변형(흐림)\n",
    "\n",
    "### 가우시안 블러"
   ]
  },
  {
   "cell_type": "code",
   "execution_count": 25,
   "id": "76adcf0d",
   "metadata": {},
   "outputs": [],
   "source": [
    "# 커널 사이즈 변화에 따른 흐림 \n",
    "\n",
    "import cv2\n",
    "img = cv2.imread('img1.jpeg')\n",
    "\n",
    "## 커널 사이즈는 (홀, 홀)으로 써야 한다.\n",
    "## 대부분 (3,3), (5,5), (7,7) 중 하나로 쓰며, 성능이 좋기 때문.\n",
    "\n",
    "kernel_3 = cv2.GaussianBlur(img, (3,3), 0) # 0은 표준편차, 0값은 auto로 표준편차를 설정\n",
    "kernel_5 = cv2.GaussianBlur(img, (5,5), 0)\n",
    "kernel_7 = cv2.GaussianBlur(img, (7,7), 0)\n",
    "\n",
    "cv2.imshow('kernel_3', kernel_3)\n",
    "cv2.imshow('kernel_5', kernel_5)\n",
    "cv2.imshow('kernel_7', kernel_7)\n",
    "cv2.waitKey(100)\n",
    "cv2.destroyAllWindows()"
   ]
  },
  {
   "cell_type": "markdown",
   "id": "c16aa428",
   "metadata": {},
   "source": [
    "커널 사이즈가 커질수록 흐림의 정도가 심해진다.\n",
    "\n",
    "따라서 (7,7)이 가장 흐림."
   ]
  },
  {
   "cell_type": "code",
   "execution_count": 26,
   "id": "8322a675",
   "metadata": {},
   "outputs": [],
   "source": [
    "# 표준 편차 변화에 따른 흐림\n",
    "\n",
    "import cv2\n",
    "img = cv2.imread('img1.jpeg')\n",
    "\n",
    "kernel_3 = cv2.GaussianBlur(img, (3,3), 1) # 마지막 인수는 sigmaX - 가우시안 커널의 x 방향의 표준 편차\n",
    "kernel_5 = cv2.GaussianBlur(img, (5,5), 2)\n",
    "kernel_7 = cv2.GaussianBlur(img, (7,7), 3)\n",
    "\n",
    "cv2.imshow('kernel_3', kernel_3)\n",
    "cv2.imshow('kernel_5', kernel_5)\n",
    "cv2.imshow('kernel_7', kernel_7)\n",
    "cv2.waitKey(100)\n",
    "cv2.destroyAllWindows()"
   ]
  },
  {
   "cell_type": "markdown",
   "id": "e2c3114a",
   "metadata": {},
   "source": [
    "sigma가 커질수록 흐림의 정도가 심해진다.\n",
    "\n",
    "커널 사이즈보다는 표준 편차를 조절했을 때 흐린 이미지를 더 효과적으로 얻을 수 있다."
   ]
  },
  {
   "cell_type": "markdown",
   "id": "f656e27d",
   "metadata": {},
   "source": [
    "### 이미지 변형 (원근)\n",
    "\n",
    "사진을 찍으면 예쁜 모양이 안나욌을 떄, 우리가 원하는 형태로 펼치는 것을 공부해볼 것이다."
   ]
  },
  {
   "cell_type": "code",
   "execution_count": 27,
   "id": "a0638c02",
   "metadata": {},
   "outputs": [],
   "source": [
    "import cv2\n",
    "img = cv2.imread('newspaper.jpg')\n",
    "\n",
    "cv2.imshow('img', img)\n",
    "cv2.waitKey(100)\n",
    "cv2.destroyAllWindows()"
   ]
  },
  {
   "cell_type": "markdown",
   "id": "9b486744",
   "metadata": {},
   "source": [
    "이미지에서 적당한 귀퉁이 지점을 찾고, 그 영역에 있는 것을 직사각형으로 변환한다."
   ]
  },
  {
   "cell_type": "code",
   "execution_count": 31,
   "id": "dd21acdc",
   "metadata": {},
   "outputs": [],
   "source": [
    "# 사다리꼴 이미지 펼치기\n",
    "\n",
    "import cv2\n",
    "import numpy as np\n",
    "img = cv2.imread('newspaper.jpg')\n",
    "\n",
    "width, height = 640, 240 # 가로 크기 640, 세로 크기 240으로 결과물 출력\n",
    "src = np.array([[511, 352], [1008, 345], [1122, 584], [455, 594]], dtype = np.float32)\n",
    "# 인풋 4개 지점 정의\n",
    "\n",
    "dst = np.array([[0,0], [width, 0], [width, height], [0, height]], dtype = np.float32)\n",
    "# 아웃풋 4개 지점 정의\n",
    "## 좌상, 우상, 우하, 좌하 (시계 방향으로 4 지점을 정의한다.)\n",
    "\n",
    "matrix = cv2.getPerspectiveTransform(src, dst) # Matrix를 얻어옴\n",
    "## src : 인풋에서의 펼치고 싶은 이미지, dst : 펼치고 싶은 이미지의 지점\n",
    "result = cv2.warpPerspective(img, matrix, (width, height)) # Matrix 대로 변환을 함\n",
    "\n",
    "## getPerspectiveTransform은 변환 행렬을 얻어온다.\n",
    "## warpPerspective는 변환 행렬을 기반으로 이미지를 얻어온다.\n",
    "\n",
    "\n",
    "cv2.imshow('img', img)\n",
    "cv2.waitKey(100)\n",
    "cv2.destroyAllWindows()"
   ]
  },
  {
   "cell_type": "code",
   "execution_count": 32,
   "id": "aa923417",
   "metadata": {},
   "outputs": [],
   "source": [
    "# 회전된 이미지 올바르게 세우기\n",
    "\n",
    "import cv2\n",
    "import numpy as np\n",
    "img = cv2.imread('poker.jpg')\n",
    "\n",
    "# 회전되어 있는 에이스 카드를 잡아서 똑바로 세우는 작업을 할 것이다.\n",
    "# 에이스 카드의 4개 지점을 알아야 할 것이다. 그리고 결과로 만들어질 이미지 크기도 width, hidth을 정의해주어야 한다.\n",
    "\n",
    "width, height = 530, 710 # 가로 크기 640, 세로 크기 240으로 결과물 출력\n",
    "src = np.array([[702,143], [1133,414], [726,1007], [276,700]], dtype = np.float32)\n",
    "# 인풋 4개 지점 정의\n",
    "\n",
    "dst = np.array([[0,0], [width, 0], [width, height], [0, height]], dtype = np.float32)\n",
    "# 아웃풋 4개 지점 정의\n",
    "## 좌상, 우상, 우하, 좌하 (시계 방향으로 4 지점을 정의한다.)\n",
    "\n",
    "matrix = cv2.getPerspectiveTransform(src, dst) # Matrix를 얻어옴\n",
    "## src : 인풋에서의 펼치고 싶은 이미지, dst : 펼치고 싶은 이미지의 지점\n",
    "result = cv2.warpPerspective(img, matrix, (width, height)) # Matrix 대로 변환을 함\n",
    "\n",
    "## getPerspectiveTransform은 변환 행렬을 얻어온다.\n",
    "## warpPerspective는 변환 행렬을 기반으로 이미지를 얻어온다.\n",
    "\n",
    "\n",
    "cv2.imshow('img', img)\n",
    "cv2.waitKey(100)\n",
    "cv2.destroyAllWindows()"
   ]
  },
  {
   "cell_type": "markdown",
   "id": "70a28312",
   "metadata": {},
   "source": [
    "## 반자동 문서 스캐너\n",
    "\n",
    "네 개 지점을 수동이 아닌, 자동으로 입력하게 만드는 것"
   ]
  },
  {
   "cell_type": "code",
   "execution_count": 35,
   "id": "7bb1f898",
   "metadata": {},
   "outputs": [],
   "source": [
    "import cv2\n",
    "\n",
    "img = cv2.imread('poker.jpg')\n",
    "cv2.namedWindow('img') # img라는 이름의 윈도우를 먼저 만들어두는 것. 여기에 마우스 이벤트를 처리하기 위한 핸들러 적용\n",
    "\n",
    "def mouse_handler(event, x, y, flags, params):\n",
    "    if event == cv2.EVENT_LBUTTONDOWN: # 마우스 왼쪽 버튼 누름\n",
    "        print(\"왼쪽 버튼 Down\")\n",
    "        print(x, y)\n",
    "    elif event == cv2.EVENT_LBUTTONUP: # 마우스 왼쪽 버튼 뗌\n",
    "        print('왼쪽 버튼 Up')\n",
    "        print(x, y)\n",
    "    elif event == cv2.EVENT_LBUTTONDBLCLICK:\n",
    "        print('왼쪽 버튼 더블 클릭')\n",
    "    elif event == cv2.EVENT_RBUTTONDOWN:\n",
    "        print('오른쪽 버튼 Down')\n",
    "\n",
    "cv2.setMouseCallback('img', mouse_handler)\n",
    "cv2.imshow('img', img)\n",
    "cv2.waitKey(100)\n",
    "cv2.destroyAllWindows()"
   ]
  }
 ],
 "metadata": {
  "kernelspec": {
   "display_name": "Python 3 (ipykernel)",
   "language": "python",
   "name": "python3"
  },
  "language_info": {
   "codemirror_mode": {
    "name": "ipython",
    "version": 3
   },
   "file_extension": ".py",
   "mimetype": "text/x-python",
   "name": "python",
   "nbconvert_exporter": "python",
   "pygments_lexer": "ipython3",
   "version": "3.9.12"
  }
 },
 "nbformat": 4,
 "nbformat_minor": 5
}
