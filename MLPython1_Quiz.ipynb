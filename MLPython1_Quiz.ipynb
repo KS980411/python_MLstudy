{
 "cells": [
  {
   "cell_type": "markdown",
   "id": "d0a6929e",
   "metadata": {},
   "source": [
    "# Quiz\n",
    "\n",
    "어느 결혼식장에서 피로연의 식수 인원을 올바르게 예측하지 못하여 버려지는 음식으로 고민이 많다고 합니다. 현재까지 진행된 결혼식에 대한 결혼식 참석 인원과 그 중에서 식사를 하는 인원의 데이터가 제공될 때, 아래 각 문항에 대한 코드를 작성하시오. "
   ]
  },
  {
   "cell_type": "code",
   "execution_count": 1,
   "id": "c4623ebf",
   "metadata": {},
   "outputs": [],
   "source": [
    "import numpy as np\n",
    "import matplotlib.pyplot as plt\n",
    "import pandas as pd"
   ]
  },
  {
   "cell_type": "markdown",
   "id": "6fdce5c4",
   "metadata": {},
   "source": [
    "## 1) QuizData.csv 파일로부터 데이터를 읽어와서 결혼식 참석 인원(total), 식수 인원(reception)을 각각의 변수로 저장하시오."
   ]
  },
  {
   "cell_type": "code",
   "execution_count": 23,
   "id": "4e446b1d",
   "metadata": {},
   "outputs": [
    {
     "name": "stdout",
     "output_type": "stream",
     "text": [
      "    total  reception\n",
      "0     118         62\n",
      "1     253        148\n",
      "2     320        201\n",
      "3      94         80\n",
      "4     155         92\n",
      "5     188        131\n",
      "6     201        147\n",
      "7     338        187\n",
      "8     186        124\n",
      "9     183        152\n",
      "10    223        143\n",
      "11    392        199\n",
      "12     86         58\n",
      "13    112         68\n",
      "14    129         76\n",
      "15    223        149\n",
      "16    288        152\n",
      "17    262        183\n",
      "18    143         88\n",
      "19    179        101\n"
     ]
    }
   ],
   "source": [
    "import os, sys\n",
    "os.chdir(\"/Users/choeunsol/Python/나도코딩 - 파이썬 스터디/PythonMLWorkspace(LightWeight)/ScikitLearn\")\n",
    "sys.path.append(os.pardir)\n",
    "dataset = pd.read_csv(\"QuizData.csv\")\n",
    "print(dataset)"
   ]
  },
  {
   "cell_type": "code",
   "execution_count": 24,
   "id": "5c647f85",
   "metadata": {},
   "outputs": [],
   "source": [
    "total = dataset.iloc[:, 0].values.reshape(-1,1)\n",
    "reception = dataset.iloc[:, 1].values.reshape(-1,1)"
   ]
  },
  {
   "cell_type": "markdown",
   "id": "1473a2b5",
   "metadata": {},
   "source": [
    "## 2) 전체 데이터를 훈련 세트와 테스트 셋으로 분리하시오. 이 때 비율은 75 : 25로 합니다.\n",
    "\n",
    "단, random_state = 0 으로 설정"
   ]
  },
  {
   "cell_type": "code",
   "execution_count": 29,
   "id": "9fa17b23",
   "metadata": {},
   "outputs": [],
   "source": [
    "from sklearn.model_selection import train_test_split\n",
    "x_train, x_test, y_train, y_test = train_test_split(total, reception, test_size = 0.25, random_state = 0)"
   ]
  },
  {
   "cell_type": "markdown",
   "id": "f8bd980c",
   "metadata": {},
   "source": [
    "## 3) 훈련 세트를 이용하여 단순 선형 회귀 모델을 생성하시오."
   ]
  },
  {
   "cell_type": "code",
   "execution_count": 30,
   "id": "262960dd",
   "metadata": {},
   "outputs": [
    {
     "data": {
      "text/plain": [
       "LinearRegression()"
      ]
     },
     "execution_count": 30,
     "metadata": {},
     "output_type": "execute_result"
    }
   ],
   "source": [
    "from sklearn.linear_model import LinearRegression\n",
    "\n",
    "regression = LinearRegression()\n",
    "regression.fit(x_train, y_train)"
   ]
  },
  {
   "cell_type": "markdown",
   "id": "8e4e8503",
   "metadata": {},
   "source": [
    "## 4) 데이터 시각화(훈련 세트) 코드를 작성하시오."
   ]
  },
  {
   "cell_type": "code",
   "execution_count": 48,
   "id": "c6b7cec7",
   "metadata": {},
   "outputs": [
    {
     "data": {
      "image/png": "[encoded data removed]",
      "text/plain": [
       "<Figure size 432x288 with 1 Axes>"
      ]
     },
     "metadata": {
      "needs_background": "light"
     },
     "output_type": "display_data"
    }
   ],
   "source": [
    "coef = regression.coef_\n",
    "intercept = regression.intercept_\n",
    "graph_x = np.arange(np.min(x_train), np.max(x_train), 0.01)\n",
    "graph_y = coef * graph_x + intercept\n",
    "graph_y = graph_y.reshape(-1)\n",
    "\n",
    "plt.scatter(x_train, y_train, c = 'blue')\n",
    "plt.plot(graph_x, graph_y, c = 'green')\n",
    "plt.xlabel('total')\n",
    "plt.ylabel('reception')\n",
    "plt.show()"
   ]
  },
  {
   "cell_type": "markdown",
   "id": "0a0a9a42",
   "metadata": {},
   "source": [
    "## 6) 훈련 세트, 테스트 세트에 대해 각각 모델 평가 점수를 구하시오."
   ]
  },
  {
   "cell_type": "code",
   "execution_count": 46,
   "id": "6b4b31e2",
   "metadata": {},
   "outputs": [
    {
     "data": {
      "text/plain": [
       "0.8707088403321211"
      ]
     },
     "execution_count": 46,
     "metadata": {},
     "output_type": "execute_result"
    }
   ],
   "source": [
    "# 훈련 세트 모델 평가 점수 [R^2]\n",
    "regression.score(x_train, y_train)"
   ]
  },
  {
   "cell_type": "code",
   "execution_count": 49,
   "id": "ba6a8bda",
   "metadata": {},
   "outputs": [
    {
     "data": {
      "text/plain": [
       "0.8634953212566615"
      ]
     },
     "execution_count": 49,
     "metadata": {},
     "output_type": "execute_result"
    }
   ],
   "source": [
    "# 테스트 세트 모델 평가 점수 [R^2]\n",
    "regression.score(x_test, y_test)"
   ]
  },
  {
   "cell_type": "markdown",
   "id": "935f7743",
   "metadata": {},
   "source": [
    "## 7) 결혼식 참석 인원이 300명일 때 예상되는 식수 인원을 구하시오."
   ]
  },
  {
   "cell_type": "code",
   "execution_count": 52,
   "id": "5e78f1c3",
   "metadata": {},
   "outputs": [
    {
     "data": {
      "text/plain": [
       "array([[176.92793218]])"
      ]
     },
     "execution_count": 52,
     "metadata": {},
     "output_type": "execute_result"
    }
   ],
   "source": [
    "regression.predict([[300]])"
   ]
  },
  {
   "cell_type": "markdown",
   "id": "774b5b47",
   "metadata": {},
   "source": [
    "결혼식 참석 인원 300명에 대한 예상 식수 인원은 177명이다."
   ]
  }
 ],
 "metadata": {
  "kernelspec": {
   "display_name": "Python 3 (ipykernel)",
   "language": "python",
   "name": "python3"
  },
  "language_info": {
   "codemirror_mode": {
    "name": "ipython",
    "version": 3
   },
   "file_extension": ".py",
   "mimetype": "text/x-python",
   "name": "python",
   "nbconvert_exporter": "python",
   "pygments_lexer": "ipython3",
   "version": "3.9.12"
  }
 },
 "nbformat": 4,
 "nbformat_minor": 5
}
